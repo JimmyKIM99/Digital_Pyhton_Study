{
 "cells": [
  {
   "cell_type": "code",
   "execution_count": null,
   "id": "65d9f619-1172-4421-b46e-2f16eaf57c19",
   "metadata": {},
   "outputs": [],
   "source": [
    "- 사용자로부터, 어떤 값을 받고, 해당 값을 한화로 바꿔서 출력"
   ]
  },
  {
   "cell_type": "code",
   "execution_count": 15,
   "id": "4e6a6659-7e17-4d6a-8ae2-606eb6a1478e",
   "metadata": {},
   "outputs": [
    {
     "name": "stdin",
     "output_type": "stream",
     "text": [
      "달러입력 100\n",
      "환율입력 1200\n"
     ]
    },
    {
     "data": {
      "text/plain": [
       "'120,000 원'"
      ]
     },
     "execution_count": 15,
     "metadata": {},
     "output_type": "execute_result"
    }
   ],
   "source": [
    "f\"{int(input(\"달러입력\")) * int(input(\"환율입력\")):,} 원\""
   ]
  },
  {
   "cell_type": "code",
   "execution_count": 14,
   "id": "4ae6034e-3f30-41c7-98e1-b19912fec6d9",
   "metadata": {},
   "outputs": [
    {
     "name": "stdin",
     "output_type": "stream",
     "text": [
      "달러입력 10\n"
     ]
    },
    {
     "name": "stdout",
     "output_type": "stream",
     "text": [
      "10 $\n"
     ]
    },
    {
     "name": "stdin",
     "output_type": "stream",
     "text": [
      "환율입력 10\n"
     ]
    },
    {
     "name": "stdout",
     "output_type": "stream",
     "text": [
      "10 won\n",
      " 환율 10 $ // 100 Won\n"
     ]
    }
   ],
   "source": [
    "num1 = int(input(\"달러입력\"))\n",
    "print(num1, \"$\")\n",
    "num2 = int(input(\"환율입력\"))\n",
    "print(num2, \"won\")\n",
    "print(f\" 환율 {num2} $ // {num1 * num2} Won\")"
   ]
  },
  {
   "cell_type": "code",
   "execution_count": null,
   "id": "62963a86-3d54-40dd-80f6-13d035ffdb05",
   "metadata": {},
   "outputs": [],
   "source": [
    "- 달러 환율, 1112원 / 위안화  171 / 엔화 환율 1100 / 해당 화폐당 환율 딕셔너리"
   ]
  },
  {
   "cell_type": "code",
   "execution_count": 65,
   "id": "3c415538-7347-4f09-aa12-bc1da4800cb2",
   "metadata": {},
   "outputs": [
    {
     "name": "stdin",
     "output_type": "stream",
     "text": [
      " 달러\n"
     ]
    },
    {
     "data": {
      "text/plain": [
       "1112"
      ]
     },
     "execution_count": 65,
     "metadata": {},
     "output_type": "execute_result"
    }
   ],
   "source": [
    "dic1 = {\"달러\": 1112, \"위안화\": 171, \"엔화\": 1100}\n",
    "#list1 = set(dic1.keys())\n",
    "#list2 = dic1.values()\n",
    "#list3 = set(input())\n",
    "#list4 = list1 & list3\n",
    "\n",
    "dic1[input()]"
   ]
  },
  {
   "cell_type": "code",
   "execution_count": null,
   "id": "6654b04a-96df-43ea-b9a9-425583c694b2",
   "metadata": {},
   "outputs": [],
   "source": [
    "# 2-9 까지 숫자"
   ]
  },
  {
   "cell_type": "code",
   "execution_count": 45,
   "id": "e2cf422b-31f6-4d97-9afc-bed0505d4302",
   "metadata": {
    "scrolled": true
   },
   "outputs": [
    {
     "name": "stdout",
     "output_type": "stream",
     "text": [
      " - 구구단 2단\n",
      "2 X 2 = 4\n",
      "2 X 3 = 6\n",
      "2 X 4 = 8\n",
      "2 X 5 = 10\n",
      "2 X 6 = 12\n",
      "2 X 7 = 14\n",
      "2 X 8 = 16\n",
      "2 X 9 = 18\n",
      " - 구구단 3단\n",
      "3 X 2 = 6\n",
      "3 X 3 = 9\n",
      "3 X 4 = 12\n",
      "3 X 5 = 15\n",
      "3 X 6 = 18\n",
      "3 X 7 = 21\n",
      "3 X 8 = 24\n",
      "3 X 9 = 27\n",
      " - 구구단 4단\n",
      "4 X 2 = 8\n",
      "4 X 3 = 12\n",
      "4 X 4 = 16\n",
      "4 X 5 = 20\n",
      "4 X 6 = 24\n",
      "4 X 7 = 28\n",
      "4 X 8 = 32\n",
      "4 X 9 = 36\n",
      " - 구구단 5단\n",
      "5 X 2 = 10\n",
      "5 X 3 = 15\n",
      "5 X 4 = 20\n",
      "5 X 5 = 25\n",
      "5 X 6 = 30\n",
      "5 X 7 = 35\n",
      "5 X 8 = 40\n",
      "5 X 9 = 45\n",
      " - 구구단 6단\n",
      "6 X 2 = 12\n",
      "6 X 3 = 18\n",
      "6 X 4 = 24\n",
      "6 X 5 = 30\n",
      "6 X 6 = 36\n",
      "6 X 7 = 42\n",
      "6 X 8 = 48\n",
      "6 X 9 = 54\n",
      " - 구구단 7단\n",
      "7 X 2 = 14\n",
      "7 X 3 = 21\n",
      "7 X 4 = 28\n",
      "7 X 5 = 35\n",
      "7 X 6 = 42\n",
      "7 X 7 = 49\n",
      "7 X 8 = 56\n",
      "7 X 9 = 63\n",
      " - 구구단 8단\n",
      "8 X 2 = 16\n",
      "8 X 3 = 24\n",
      "8 X 4 = 32\n",
      "8 X 5 = 40\n",
      "8 X 6 = 48\n",
      "8 X 7 = 56\n",
      "8 X 8 = 64\n",
      "8 X 9 = 72\n",
      " - 구구단 9단\n",
      "9 X 2 = 18\n",
      "9 X 3 = 27\n",
      "9 X 4 = 36\n",
      "9 X 5 = 45\n",
      "9 X 6 = 54\n",
      "9 X 7 = 63\n",
      "9 X 8 = 72\n",
      "9 X 9 = 81\n"
     ]
    }
   ],
   "source": [
    "for num01 in range(2, 10) :\n",
    "    print(f\" - 구구단 {num01}단\")\n",
    "    for num02 in range(2, 10) :\n",
    "        print(f\"{num01} X {num02} = {num01 * num02}\")\n",
    "    print("
   ]
  },
  {
   "cell_type": "code",
   "execution_count": 52,
   "id": "561bcff8-a7f1-4064-8d26-5ea6085dfed5",
   "metadata": {
    "scrolled": true
   },
   "outputs": [
    {
     "name": "stdout",
     "output_type": "stream",
     "text": [
      "2 X 2 = 4\n",
      "2 X 3 = 6\n",
      "2 X 4 = 8\n",
      "2 X 5 = 10\n",
      "2 X 6 = 12\n",
      "2 X 7 = 14\n",
      "2 X 8 = 16\n",
      "2 X 9 = 18\n",
      "3 X 2 = 6\n",
      "3 X 4 = 12\n",
      "3 X 6 = 18\n",
      "3 X 8 = 24\n",
      "4 X 2 = 8\n",
      "4 X 3 = 12\n",
      "4 X 4 = 16\n",
      "4 X 5 = 20\n",
      "4 X 6 = 24\n",
      "4 X 7 = 28\n",
      "4 X 8 = 32\n",
      "4 X 9 = 36\n",
      "5 X 2 = 10\n",
      "5 X 4 = 20\n",
      "5 X 6 = 30\n",
      "5 X 8 = 40\n",
      "6 X 2 = 12\n",
      "6 X 3 = 18\n",
      "6 X 4 = 24\n",
      "6 X 5 = 30\n",
      "6 X 6 = 36\n",
      "6 X 7 = 42\n",
      "6 X 8 = 48\n",
      "6 X 9 = 54\n",
      "7 X 2 = 14\n",
      "7 X 4 = 28\n",
      "7 X 6 = 42\n",
      "7 X 8 = 56\n",
      "8 X 2 = 16\n",
      "8 X 3 = 24\n",
      "8 X 4 = 32\n",
      "8 X 5 = 40\n",
      "8 X 6 = 48\n",
      "8 X 7 = 56\n",
      "8 X 8 = 64\n",
      "8 X 9 = 72\n",
      "9 X 2 = 18\n",
      "9 X 4 = 36\n",
      "9 X 6 = 54\n",
      "9 X 8 = 72\n"
     ]
    }
   ],
   "source": [
    "for num01 in range(2, 10) :\n",
    "    for num02 in range(2, 10) :\n",
    "        if num01 * num02 % 2 == 0 :\n",
    "            print(f\"{num01} X {num02} = {num01 * num02}\")\n",
    "        "
   ]
  },
  {
   "cell_type": "code",
   "execution_count": 58,
   "id": "462ccee1-82ce-42db-b3e4-1a26b5abde9f",
   "metadata": {
    "scrolled": true
   },
   "outputs": [
    {
     "name": "stdout",
     "output_type": "stream",
     "text": [
      "6209동 103호\n",
      "6209동 102호\n",
      "6209동 101호\n",
      "6209동 104호\n",
      "\n",
      "6208동 103호\n",
      "6208동 102호\n",
      "6208동 101호\n",
      "6208동 104호\n",
      "\n",
      "6207동 103호\n",
      "6207동 102호\n",
      "6207동 101호\n",
      "6207동 104호\n",
      "\n"
     ]
    }
   ],
   "source": [
    "dongs = [\"6209동\", \"6208동\", \"6207동\"]\n",
    "hos = [\"103호\", \"102호\", \"101호\", \"104호\"]\n",
    "\n",
    "for i in dongs :\n",
    "    for i2 in hos :\n",
    "        print(i, i2)\n",
    "    print()"
   ]
  },
  {
   "cell_type": "code",
   "execution_count": 60,
   "id": "b491c7af-5b6c-4943-a78a-8dfde47f6847",
   "metadata": {},
   "outputs": [],
   "source": [
    "tupledata = (\"coding01\", \"conding02\", \"coding03\")\n",
    "tuple_list = list(tupledata)\n",
    "tuple_list.append(\"cdding04\")\n",
    "result = tuple(tuple_list)"
   ]
  },
  {
   "cell_type": "code",
   "execution_count": null,
   "id": "48c646ca-b352-489f-9f45-9c9445459f21",
   "metadata": {},
   "outputs": [],
   "source": [
    "- 딕셔너리 형태의 자료구조를 하나 만들어서 아래와 같이 값을 출력해주세요"
   ]
  },
  {
   "cell_type": "code",
   "execution_count": 89,
   "id": "ebf4510c-f273-4a74-9a46-40ceb0012bdb",
   "metadata": {},
   "outputs": [
    {
     "name": "stdout",
     "output_type": "stream",
     "text": [
      "a : 1\n",
      "a : 2\n",
      "a : 3\n",
      "a : 4\n",
      "b : 1\n",
      "b : 2\n",
      "b : 3\n",
      "b : 4\n",
      "c : 1\n",
      "c : 2\n",
      "c : 3\n",
      "c : 4\n",
      "d : 1\n",
      "d : 2\n",
      "d : 3\n",
      "d : 4\n"
     ]
    }
   ],
   "source": [
    "dic02 = {\"a\": 1, \"b\": 2, \"c\": 3, \"d\" : 4}\n",
    "for i in dic02.keys() :\n",
    "    for i2 in dic02.values() :\n",
    "        num1 = f\"{i} : {i2}\"\n",
    "        print(num1)"
   ]
  },
  {
   "cell_type": "code",
   "execution_count": 92,
   "id": "32ed01a7-df50-4778-b410-056f300a8ea7",
   "metadata": {},
   "outputs": [
    {
     "name": "stdout",
     "output_type": "stream",
     "text": [
      "['a', 'b', 'c', 'd']\n"
     ]
    }
   ],
   "source": [
    "list01 = []\n",
    "list02 = dic02.values()\n",
    "for list02 in dic02.keys() :\n",
    "        list01.append(list02)\n",
    "print(list01)"
   ]
  },
  {
   "cell_type": "code",
   "execution_count": 97,
   "id": "58782c3d-2735-4897-a697-da235782c948",
   "metadata": {},
   "outputs": [
    {
     "name": "stdout",
     "output_type": "stream",
     "text": [
      "a : 1\n",
      "b : 2\n",
      "c : 3\n",
      "d : 4\n"
     ]
    }
   ],
   "source": [
    "dic02 = {\"a\": [1, \"o\"], \"b\": [2, \"x\"], \"c\": [3, \"x\"], \"d\" : [4, \"x\"]}\n",
    "for item in dic02.keys() :\n",
    "    print(f\"{item} : {dic02[item]}\")"
   ]
  },
  {
   "cell_type": "code",
   "execution_count": null,
   "id": "0c1af009-79e3-49de-817f-20c7e9f706cf",
   "metadata": {},
   "outputs": [],
   "source": [
    "- 사용자로부터 사전에 등록되어있는 단어들 중 1개를 입력받으세요, 그러면 입력받은 ㅂ단어의 경우, 외움표시 o 수정\n",
    "-아직 외우지 못한 단어들만 출력하는 프로그램 코드"
   ]
  },
  {
   "cell_type": "code",
   "execution_count": 107,
   "id": "9ea9fe3e-b358-4f73-a3e8-e3e1d8094ade",
   "metadata": {},
   "outputs": [
    {
     "name": "stdin",
     "output_type": "stream",
     "text": [
      " c\n"
     ]
    },
    {
     "data": {
      "text/plain": [
       "{'a': [1, 'o'], 'b': [2, 'x'], 'c': [3, 'x'], 'd': [4, 'x']}"
      ]
     },
     "execution_count": 107,
     "metadata": {},
     "output_type": "execute_result"
    }
   ],
   "source": [
    "dic02 = {\"a\": [1, \"o\"], \"b\": [2, \"x\"], \"c\": [3, \"x\"], \"d\" : [4, \"x\"]}\n",
    "list02 = dic02[input()]\n",
    "if list02 in [\"x\"] :\n",
    "    list02.replace('x','o')\n",
    "dic02\n",
    "\n",
    "if english in data"
   ]
  },
  {
   "cell_type": "code",
   "execution_count": null,
   "id": "c77ef510-82a4-4988-9e6f-c5102b946790",
   "metadata": {},
   "outputs": [],
   "source": [
    "if english in data.key() :\n",
    "    data[english][1] = \"o\"\n",
    "else :\n",
    "    print(\"사전에 준재하지 않은 단어\")"
   ]
  },
  {
   "cell_type": "code",
   "execution_count": null,
   "id": "ce03edd9-ea23-49a5-88de-9e49f930b3c0",
   "metadata": {},
   "outputs": [],
   "source": []
  },
  {
   "cell_type": "code",
   "execution_count": 116,
   "id": "365fdfa0-817b-464e-8b2a-b555d22bf8b5",
   "metadata": {},
   "outputs": [
    {
     "data": {
      "text/plain": [
       "{'enviromment': '환경',\n",
       " 'goverment': '정부',\n",
       " 'company': '회사',\n",
       " 'face': '얼굴',\n",
       " 'apple': '사과'}"
      ]
     },
     "execution_count": 116,
     "metadata": {},
     "output_type": "execute_result"
    }
   ],
   "source": [
    "dic_all = {\"enviromment\" : \"환경\", \"goverment\" : \"정부\"}\n",
    "dic2 = {\"company\" : \"회사\", \"face\" : \"얼굴\"}\n",
    "dic3 = {\"apple\" : \"사과\"}\n",
    "\n",
    "for item in dic2.keys() :\n",
    "    dic_all[item] = dic2[item]\n",
    "    \n",
    "for item3 in dic3.keys() :\n",
    "    dic_all[item3] = dic3[item3]\n",
    "dic_all"
   ]
  },
  {
   "cell_type": "code",
   "execution_count": 118,
   "id": "ef2afc0e-ab42-476a-8850-e30dd21f43ed",
   "metadata": {},
   "outputs": [
    {
     "data": {
      "text/plain": [
       "{1, 3, 4, 5, 6}"
      ]
     },
     "execution_count": 118,
     "metadata": {},
     "output_type": "execute_result"
    }
   ],
   "source": [
    "number_list = {1, 2, 3}\n",
    "number_list.add(4)\n",
    "number_list.update([5, 6])\n",
    "number_list.remove(2)\n",
    "\n",
    "number_list\n"
   ]
  },
  {
   "cell_type": "code",
   "execution_count": null,
   "id": "8754da4f-995f-4ae7-b757-472627ccc6af",
   "metadata": {},
   "outputs": [],
   "source": [
    "``` 임의의 숫자 2개를 사용자에게 받으면 해당 2개의 숫자를 곱한 값을 반한하는 함수를 만들고 출력"
   ]
  },
  {
   "cell_type": "code",
   "execution_count": 125,
   "id": "b85147a8-e032-4a3e-850c-fecc7f2fa087",
   "metadata": {},
   "outputs": [],
   "source": [
    "def add(a,b) :\n",
    "    print(a * b)\n"
   ]
  },
  {
   "cell_type": "code",
   "execution_count": 124,
   "id": "59465423-29ec-430f-8cae-a7818ea63e73",
   "metadata": {},
   "outputs": [
    {
     "data": {
      "text/plain": [
       "<function __main__.add()>"
      ]
     },
     "execution_count": 124,
     "metadata": {},
     "output_type": "execute_result"
    }
   ],
   "source": [
    "add"
   ]
  },
  {
   "cell_type": "code",
   "execution_count": 138,
   "id": "8eb65654-9476-4285-a4ba-e4a50ed97d06",
   "metadata": {},
   "outputs": [
    {
     "name": "stdin",
     "output_type": "stream",
     "text": [
      "숫자를 입력하세요 1\n",
      "숫자를 입력하세요 2\n"
     ]
    },
    {
     "name": "stdout",
     "output_type": "stream",
     "text": [
      "2\n"
     ]
    }
   ],
   "source": [
    "num_all = [int(input(\"숫자를 입력하세요\")) for _ in range(2)]\n",
    "\n",
    "def f1(num1, num2) :\n",
    "    return num1 * num2\n",
    "\n",
    "print(f1(num_all[0], num_all[1]))"
   ]
  },
  {
   "cell_type": "code",
   "execution_count": null,
   "id": "ef283ccc-259f-4499-82e0-d0e79f6def73",
   "metadata": {},
   "outputs": [],
   "source": [
    "- 인자값 3개 함수 호출\n",
    "- func1(a, b, c)\n",
    "- 해당 함수 3번쨰 인자값, + => 첫번쨰 인자값과 두번째 인자값을 더한 함수값, 만약, 세번째 인자값 곱하기라면, 첫번째 인자값과 두번째 인자값반환\n",
    "만약 무조건 0 이라는 값을 반환하는 함수 만들어 주세요"
   ]
  },
  {
   "cell_type": "code",
   "execution_count": 173,
   "id": "b723a6d4-2634-4d46-9008-c4cfc9a48232",
   "metadata": {},
   "outputs": [],
   "source": [
    "\n",
    "def func1(a, b, c) :\n",
    "    if c == \"+\" :\n",
    "        print(a + b)\n",
    "    elif c == \"*\" :\n",
    "            print(a*b)\n",
    "    else : \n",
    "        print(\"0\")"
   ]
  },
  {
   "cell_type": "code",
   "execution_count": 171,
   "id": "c05a6163-77f2-4a9e-a4e8-53ce2220294b",
   "metadata": {},
   "outputs": [
    {
     "name": "stdout",
     "output_type": "stream",
     "text": [
      "2\n"
     ]
    }
   ],
   "source": [
    "func1(1,2,\"*\")"
   ]
  },
  {
   "cell_type": "code",
   "execution_count": 178,
   "id": "76429f5c-636a-44d7-96bb-3754ed838060",
   "metadata": {},
   "outputs": [],
   "source": [
    "def calc(data, data2, way) :\n",
    "    if way == \"+\" :\n",
    "        return data + data2\n",
    "    elif way == \"*\" :\n",
    "        return data * data2\n",
    "    else :\n",
    "        return 0\n",
    "\n",
    "data01 = calc(1, 2, \"*\")"
   ]
  },
  {
   "cell_type": "code",
   "execution_count": null,
   "id": "df98dd9e-09b3-435c-81b1-c558ce0d4d2d",
   "metadata": {},
   "outputs": [],
   "source": []
  }
 ],
 "metadata": {
  "kernelspec": {
   "display_name": "Python [conda env:base] *",
   "language": "python",
   "name": "conda-base-py"
  },
  "language_info": {
   "codemirror_mode": {
    "name": "ipython",
    "version": 3
   },
   "file_extension": ".py",
   "mimetype": "text/x-python",
   "name": "python",
   "nbconvert_exporter": "python",
   "pygments_lexer": "ipython3",
   "version": "3.13.5"
  }
 },
 "nbformat": 4,
 "nbformat_minor": 5
}
