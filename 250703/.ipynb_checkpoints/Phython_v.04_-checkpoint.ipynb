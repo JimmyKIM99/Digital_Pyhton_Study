{
 "cells": [
  {
   "cell_type": "code",
   "execution_count": 2,
   "id": "d5b9c490-9344-440e-afae-42bee764e28b",
   "metadata": {},
   "outputs": [
    {
     "name": "stdout",
     "output_type": "stream",
     "text": [
      "70.0\n"
     ]
    }
   ],
   "source": [
    "국어 = 80\n",
    "영어 = 75\n",
    "수학 = 55\n",
    "list01 = [국어, 영어, 수학]\n",
    "averge01 = sum(list01) / len(list01)\n",
    "print(averge01)"
   ]
  },
  {
   "cell_type": "code",
   "execution_count": 3,
   "id": "425dc46b-7818-42d4-94fd-e885bbbda79f",
   "metadata": {},
   "outputs": [
    {
     "ename": "SyntaxError",
     "evalue": "invalid syntax (3897176316.py, line 1)",
     "output_type": "error",
     "traceback": [
      "\u001b[1;36m  Cell \u001b[1;32mIn[3], line 1\u001b[1;36m\u001b[0m\n\u001b[1;33m    int(input())%==0\u001b[0m\n\u001b[1;37m                ^\u001b[0m\n\u001b[1;31mSyntaxError\u001b[0m\u001b[1;31m:\u001b[0m invalid syntax\n"
     ]
    }
   ],
   "source": [
    "- 사용자 점수 입력 / 등급 출력 / 등급\n",
    "- A 100~80 B 80 61 C 60 0"
   ]
  },
  {
   "cell_type": "code",
   "execution_count": 10,
   "id": "ffcc373e-c48d-468c-9289-d8e30c480932",
   "metadata": {},
   "outputs": [
    {
     "name": "stdin",
     "output_type": "stream",
     "text": [
      " 75\n"
     ]
    },
    {
     "name": "stdout",
     "output_type": "stream",
     "text": [
      "A\n"
     ]
    }
   ],
   "source": [
    "Grade01 = int(input())\n",
    "if Grade01 <=60 :\n",
    "    print(\"C\")\n",
    "    if Grade01 <=80 :\n",
    "        print(\"B\")\n",
    "else : print(\"A\")"
   ]
  },
  {
   "cell_type": "code",
   "execution_count": null,
   "id": "824613aa-a105-4094-b612-5828f5ede887",
   "metadata": {},
   "outputs": [],
   "source": [
    "data01 = int(input(\"사용자점수\"))\n",
    "if data01 >= 81 and <= 100\n",
    "    print(\"A\")"
   ]
  },
  {
   "cell_type": "code",
   "execution_count": null,
   "id": "dbb86ab7-590b-4612-9f8f-9b69b27d703a",
   "metadata": {},
   "outputs": [],
   "source": [
    "주민등록번호 입력, 출생연도만 확인 후 출력"
   ]
  },
  {
   "cell_type": "code",
   "execution_count": 20,
   "id": "a56093b6-51ff-4cbd-bab9-4c8133c5116c",
   "metadata": {},
   "outputs": [
    {
     "name": "stdin",
     "output_type": "stream",
     "text": [
      "출생년도입력! 990629\n"
     ]
    },
    {
     "name": "stdout",
     "output_type": "stream",
     "text": [
      "99\n"
     ]
    }
   ],
   "source": [
    "number01 = input(\"출생년도입력!\")\n",
    "print(number01[0:2])"
   ]
  },
  {
   "cell_type": "code",
   "execution_count": 31,
   "id": "e8fa8edd-b7c9-4443-b8bc-d4d5a9c1a80c",
   "metadata": {},
   "outputs": [
    {
     "name": "stdin",
     "output_type": "stream",
     "text": [
      "출생년도입력! 990629 - 1071210\n"
     ]
    },
    {
     "name": "stdout",
     "output_type": "stream",
     "text": [
      "99년생\n"
     ]
    }
   ],
   "source": [
    "age01 = input(\"출생년도입력!\")\n",
    "print(f\"{age01.split(\"-\")[0][0:2]}년생\")"
   ]
  },
  {
   "cell_type": "code",
   "execution_count": null,
   "id": "9bd4a7da-c7b9-4132-a4ea-b1cc4656f307",
   "metadata": {},
   "outputs": [],
   "source": [
    "사용자 주민등록 번호, 성별 남성, 여성"
   ]
  },
  {
   "cell_type": "code",
   "execution_count": 46,
   "id": "ac03c8bf-0769-4cb2-a7fa-3eb01e616e23",
   "metadata": {},
   "outputs": [
    {
     "name": "stdin",
     "output_type": "stream",
     "text": [
      "출생년도입력! 990629 - 2071210\n"
     ]
    },
    {
     "name": "stdout",
     "output_type": "stream",
     "text": [
      "남성\n"
     ]
    }
   ],
   "source": [
    "age02 = input(\"출생년도입력!\")\n",
    "if '1' or '3' in [age02.split(\"-\")[1][0]] :\n",
    "    print(\"남성\")\n",
    "else :\n",
    "    print(\"여성\")"
   ]
  },
  {
   "cell_type": "code",
   "execution_count": 54,
   "id": "7d5a379d-a059-441f-b7ae-b7f024379f66",
   "metadata": {},
   "outputs": [
    {
     "name": "stdin",
     "output_type": "stream",
     "text": [
      "출생년도입력! 990629 -10711210\n"
     ]
    },
    {
     "name": "stdout",
     "output_type": "stream",
     "text": [
      "남성\n"
     ]
    }
   ],
   "source": [
    "age02 = input(\"출생년도입력!\")\n",
    "if age02.split(\"-\")[1][0] in '1' or '3' :\n",
    "    print(\"남성\")\n",
    "else :\n",
    "    print(\"여성\")"
   ]
  },
  {
   "cell_type": "code",
   "execution_count": 51,
   "id": "4cf9dc23-e0ac-4864-8ba6-29543abc86eb",
   "metadata": {},
   "outputs": [
    {
     "name": "stdin",
     "output_type": "stream",
     "text": [
      "출생년도입력! in [age02.splint(\"-\")[1][0]]\n"
     ]
    },
    {
     "ename": "AttributeError",
     "evalue": "'str' object has no attribute 'splint'",
     "output_type": "error",
     "traceback": [
      "\u001b[1;31m---------------------------------------------------------------------------\u001b[0m",
      "\u001b[1;31mAttributeError\u001b[0m                            Traceback (most recent call last)",
      "Cell \u001b[1;32mIn[51], line 2\u001b[0m\n\u001b[0;32m      1\u001b[0m age02 \u001b[38;5;241m=\u001b[39m \u001b[38;5;28minput\u001b[39m(\u001b[38;5;124m\"\u001b[39m\u001b[38;5;124m출생년도입력!\u001b[39m\u001b[38;5;124m\"\u001b[39m)\n\u001b[1;32m----> 2\u001b[0m \u001b[38;5;28;01mif\u001b[39;00m (\u001b[38;5;124m'\u001b[39m\u001b[38;5;124m3\u001b[39m\u001b[38;5;124m'\u001b[39m \u001b[38;5;129;01min\u001b[39;00m [age02\u001b[38;5;241m.\u001b[39msplint(\u001b[38;5;124m\"\u001b[39m\u001b[38;5;124m-\u001b[39m\u001b[38;5;124m\"\u001b[39m)[\u001b[38;5;241m1\u001b[39m][\u001b[38;5;241m0\u001b[39m]]) \u001b[38;5;129;01mor\u001b[39;00m (\u001b[38;5;124m'\u001b[39m\u001b[38;5;124m1\u001b[39m\u001b[38;5;124m'\u001b[39m \u001b[38;5;129;01min\u001b[39;00m [age02\u001b[38;5;241m.\u001b[39msplint(\u001b[38;5;124m\"\u001b[39m\u001b[38;5;124m-\u001b[39m\u001b[38;5;124m\"\u001b[39m)[\u001b[38;5;241m1\u001b[39m][\u001b[38;5;241m0\u001b[39m]]) :\n\u001b[0;32m      3\u001b[0m     \u001b[38;5;28mprint\u001b[39m(\u001b[38;5;124m\"\u001b[39m\u001b[38;5;124m남성\u001b[39m\u001b[38;5;124m\"\u001b[39m)\n\u001b[0;32m      4\u001b[0m \u001b[38;5;28;01melse\u001b[39;00m :\n",
      "\u001b[1;31mAttributeError\u001b[0m: 'str' object has no attribute 'splint'"
     ]
    }
   ],
   "source": [
    "age02 = input(\"출생년도입력!\")\n",
    "if [age02.split(\"-\")[1][0]] in '1' or '1' in [age02.split(\"-\")[1][0]] :\n",
    "    print(\"남성\")\n",
    "else :\n",
    "    print(\"여성\")"
   ]
  },
  {
   "cell_type": "code",
   "execution_count": 34,
   "id": "c66e5cf8-4f49-44d0-871f-b0a2ce392954",
   "metadata": {},
   "outputs": [
    {
     "name": "stdout",
     "output_type": "stream",
     "text": [
      "a man goes into the room\n"
     ]
    }
   ],
   "source": [
    "mystr = \"a man goes into the room...\"\n",
    "print(mystr.strip(.))\n",
    "=> strip 들여쓰기 등 모든 대행 지워줌"
   ]
  },
  {
   "cell_type": "code",
   "execution_count": 53,
   "id": "ebfcd3a1-883d-4b34-8e44-6267d88cc4a3",
   "metadata": {},
   "outputs": [
    {
     "data": {
      "text/plain": [
       "'007'"
      ]
     },
     "execution_count": 53,
     "metadata": {},
     "output_type": "execute_result"
    }
   ],
   "source": [
    "code01 = \"007\\n\"\n",
    "code01.strip()"
   ]
  },
  {
   "cell_type": "code",
   "execution_count": 60,
   "id": "1470519e-238e-4793-985f-0394700e9053",
   "metadata": {},
   "outputs": [
    {
     "data": {
      "text/plain": [
       "0"
      ]
     },
     "execution_count": 60,
     "metadata": {},
     "output_type": "execute_result"
    }
   ],
   "source": [
    "phyton_desc = \"First check the Python FAQs, with answers to many common, general Python questions. The Python Help category of the discuss.python.org website hosts usage questions and answers from the Python community.The tutor list offers interactive help.If the tutor list isn't your cup of tea, there are many other mailing lists and newsgroups.Stack Overflow has many Python questions and answers.You can post questions and ask for general advice about your code at the r/LearnPython subreddit.If you suspect a bug in the Python core, search the Python Bug Tracker.If you think you've found a security vulnerability in Python, please read the instructions for reporting security issues.If you've found a problem with this web site, check the pythondotorg issue tracker.\"\n",
    "phyton_desc.count(\"phython\")"
   ]
  },
  {
   "cell_type": "code",
   "execution_count": null,
   "id": "00d3b8d3-07ff-4432-b937-be9413bc614f",
   "metadata": {},
   "outputs": [],
   "source": [
    "사용자로부터 note라는 문자열을 받았다고 가정 / 해당 문자열 안에 n 이 있는지 확인"
   ]
  },
  {
   "cell_type": "code",
   "execution_count": 58,
   "id": "b85737ba-0a5f-4d1b-a9b0-f69dd01cd315",
   "metadata": {},
   "outputs": [
    {
     "name": "stdin",
     "output_type": "stream",
     "text": [
      " n\n"
     ]
    },
    {
     "name": "stdout",
     "output_type": "stream",
     "text": [
      "1\n"
     ]
    }
   ],
   "source": [
    "letters01 = input()\n",
    "if \"note\" in 'letters' :\n",
    "    print(\"0\")\n",
    "else :\n",
    "    print(\"1\")"
   ]
  },
  {
   "cell_type": "code",
   "execution_count": 63,
   "id": "f588c8d3-5af5-44ec-82da-5c5680f8a73e",
   "metadata": {},
   "outputs": [
    {
     "name": "stdin",
     "output_type": "stream",
     "text": [
      " aarrr\n"
     ]
    },
    {
     "data": {
      "text/plain": [
       "0"
      ]
     },
     "execution_count": 63,
     "metadata": {},
     "output_type": "execute_result"
    }
   ],
   "source": [
    "letters02 = input()\n",
    "var01 = letters02.find(\"a\")\n",
    "var01\n",
    "\n",
    "#if var01 == 0 :\n",
    "#    print(0)\n",
    "#else :\n",
    "#    print(-1)\n"
   ]
  },
  {
   "cell_type": "code",
   "execution_count": null,
   "id": "c8d14564-8989-44df-ad78-d1b9af4947e3",
   "metadata": {},
   "outputs": [],
   "source": [
    "# 일반적으로 프로그래밍언어는 true, false 존재\n",
    "# truethy, falsy ==> 참인듯한 값 ,거짓인듯 값\n",
    "# 0, null, undefinded ==> falsy\n",
    "# 파이썬 ==> 0 => truethy, -1 ==> falsy\n",
    "# 객체 -> 자료구조의 형태 -> 인스턴스 객체"
   ]
  },
  {
   "cell_type": "code",
   "execution_count": null,
   "id": "d0aa0a27-a2ce-4199-97dd-b30297dc543a",
   "metadata": {},
   "outputs": [],
   "source": [
    " 사용자, 주민등록번호, 사용자의 출생지, 어디인지?"
   ]
  },
  {
   "cell_type": "code",
   "execution_count": 83,
   "id": "76f72ca4-07bd-4c01-9456-bdfbcdbc3178",
   "metadata": {},
   "outputs": [
    {
     "name": "stdin",
     "output_type": "stream",
     "text": [
      "출생년도입력! 990629 -1071210\n"
     ]
    },
    {
     "name": "stdout",
     "output_type": "stream",
     "text": [
      "부산\n"
     ]
    }
   ],
   "source": [
    "age02 = input(\"출생년도입력!\")\n",
    "Seoul = [f\"{i:02}\" for i in range(0,9)]\n",
    "if age02.split(\"-\")[1][2:4] in 'Seoul' :\n",
    "    print(\"서울\")\n",
    "else :\n",
    "    print(\"부산\")"
   ]
  },
  {
   "cell_type": "code",
   "execution_count": 84,
   "id": "dfb0782a-2eba-4bfd-b759-3a8d128292e3",
   "metadata": {},
   "outputs": [
    {
     "name": "stdin",
     "output_type": "stream",
     "text": [
      " 990629 - 1071210\n"
     ]
    },
    {
     "name": "stdout",
     "output_type": "stream",
     "text": [
      "서울\n"
     ]
    }
   ],
   "source": [
    "data02 = input()\n",
    "location01 = int(data02.split(\"-\")[1][2:4])\n",
    "if location01 >= 0 and location01 <= 8 :\n",
    "    print(\"서울\")\n",
    "else :\n",
    "    print(\"부산\")"
   ]
  }
 ],
 "metadata": {
  "kernelspec": {
   "display_name": "Python [conda env:base] *",
   "language": "python",
   "name": "conda-base-py"
  },
  "language_info": {
   "codemirror_mode": {
    "name": "ipython",
    "version": 3
   },
   "file_extension": ".py",
   "mimetype": "text/x-python",
   "name": "python",
   "nbconvert_exporter": "python",
   "pygments_lexer": "ipython3",
   "version": "3.13.5"
  }
 },
 "nbformat": 4,
 "nbformat_minor": 5
}
