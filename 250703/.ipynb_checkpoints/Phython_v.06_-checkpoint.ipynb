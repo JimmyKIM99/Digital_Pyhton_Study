{
 "cells": [
  {
   "cell_type": "code",
   "execution_count": null,
   "id": "05e0b5a5-8df5-4bdd-af38-488cb7c66cb2",
   "metadata": {},
   "outputs": [],
   "source": [
    "### 함수\n",
    "-함수, 선언과 호출\n",
    "-인자값 혹은 인수 개념\n",
    "-함수를 선언하는 단계에서는 매게변수를 지정한다라고 부름, 함수 호출하는 단계,\n",
    " 이미 지정해 놓은 매개변수의 공간에 입력할 값을 인자값, 혹은 인수라고 부름\n",
    "-매개변수를 지정했다면, 반드시 인자값이 필요하다\n",
    "-매개변수와 인자값은 일치해야함 + 다중 인자값 (매개변수)왼쪽부터 채워넣음\n",
    "\n",
    "    ```\n",
    "    def 함수이름(인자값, 인수) :\n",
    "        실행문\n",
    "        return 반환하고자 하는 값 입력\n",
    "\n",
    "    ```\n",
    "    def avg()\n",
    "\n",
    "momory -> 함수 저장 -> 실행, CPU 판 위에 실행 -> Call Back 함수, stack 다중\n",
    "-> 종결 이후 함수 메모리 캐쉬 삭제\n",
    "    return => 함수 종결 '메모리 저장' / return 값 종결 이후 새로운 문장 시작\n",
    "\n",
    "def sum(a, b) :\n",
    "    c = 1 (= > 지역변수, local 변수)\n",
    "    result02 = a + b\n",
    "    return(result02)\n",
    "a = 1 (=> 전역변수, global 변수)\n",
    "\n",
    "for item in [1, 2, 3] :\n",
    "    print(itme) => 블록 변수(지역 제일 좁음, 연산식 안에서만 사용)\n",
    "\n",
    "tuple : 값과 형태 갯수가 정해져 있는 list 형태의 type\n",
    "\n",
    "else문 : 독립문, 필수X"
   ]
  },
  {
   "cell_type": "code",
   "execution_count": 3,
   "id": "64d8de39-e724-417e-86d0-edcb0bba4f1e",
   "metadata": {},
   "outputs": [],
   "source": [
    "def func1() :\n",
    "    print(\"Hello\")\n",
    "    print(\"Hello\")\n",
    "    print(\"Hello\")\n",
    "    print(\"Hello\")"
   ]
  },
  {
   "cell_type": "code",
   "execution_count": 5,
   "id": "9d5ba3d8-c072-4eff-9bcb-4b8b2e60df4b",
   "metadata": {},
   "outputs": [
    {
     "name": "stdout",
     "output_type": "stream",
     "text": [
      "Hello\n",
      "Hello\n",
      "Hello\n",
      "Hello\n"
     ]
    }
   ],
   "source": [
    "func1()"
   ]
  },
  {
   "cell_type": "code",
   "execution_count": null,
   "id": "43ee17c7-b706-4d5e-8bf3-50733d9561dc",
   "metadata": {},
   "outputs": [],
   "source": [
    "def func0() :\n",
    "    sum(a) / count(a)"
   ]
  },
  {
   "cell_type": "code",
   "execution_count": 11,
   "id": "790ec68b-85c6-4cf6-89a8-d20e5792d711",
   "metadata": {},
   "outputs": [],
   "source": [
    "def func2(parameter) :\n",
    "    print(f\"Hello, {parameter}\")\n",
    "    return(f\"Hello, {parameter}\")"
   ]
  },
  {
   "cell_type": "code",
   "execution_count": 12,
   "id": "9cd3e43f-20b9-4696-9ac7-288ad5444b7e",
   "metadata": {},
   "outputs": [
    {
     "name": "stdout",
     "output_type": "stream",
     "text": [
      "Hello, Jimmy\n"
     ]
    },
    {
     "data": {
      "text/plain": [
       "'Hello, Jimmy'"
      ]
     },
     "execution_count": 12,
     "metadata": {},
     "output_type": "execute_result"
    }
   ],
   "source": [
    "func2(\"Jimmy\")"
   ]
  },
  {
   "cell_type": "code",
   "execution_count": 16,
   "id": "6fc5f34a-e6d6-4a87-8377-9ba5f19ce96e",
   "metadata": {},
   "outputs": [],
   "source": [
    "def sum(a, b) :\n",
    "    c = 1 (= > 지역변수, local 변수)\n",
    "    result02 = a + b\n",
    "    return(result02)\n",
    "a = 1 (=> 전역변수, global 변수)"
   ]
  },
  {
   "cell_type": "code",
   "execution_count": null,
   "id": "2fe24ab5-838d-4370-85a0-caa632d0d41d",
   "metadata": {},
   "outputs": [],
   "source": [
    "for item in [1, 2, 3] :\n",
    "    print(itme) => 블록 변수(지역 제일 좁음, 연산식 안에서만 사용)"
   ]
  },
  {
   "cell_type": "code",
   "execution_count": 23,
   "id": "7d56784e-eaca-40b9-9d2d-41c9c40f7ab5",
   "metadata": {},
   "outputs": [],
   "source": [
    "def func3(a) :\n",
    "    b = a + 1\n",
    "    return a, b"
   ]
  },
  {
   "cell_type": "code",
   "execution_count": 25,
   "id": "c2099da8-2550-4345-8af5-2143ecf7804b",
   "metadata": {},
   "outputs": [
    {
     "name": "stdout",
     "output_type": "stream",
     "text": [
      "(4, 5)\n",
      "<class 'tuple'>\n"
     ]
    }
   ],
   "source": [
    "result3 = func3(4)\n",
    "print(result3)\n",
    "print(type(result3))"
   ]
  },
  {
   "cell_type": "code",
   "execution_count": 27,
   "id": "812340b9-f77a-416c-a9f4-e7cf3e7fb27d",
   "metadata": {},
   "outputs": [
    {
     "name": "stdout",
     "output_type": "stream",
     "text": [
      "<class 'str'>\n",
      "<class 'int'>\n",
      "<class 'bool'>\n",
      "<class 'list'>\n"
     ]
    }
   ],
   "source": [
    "print(type(\"str\"))\n",
    "print(type(1))\n",
    "print(type(True))\n",
    "print(type([1,2,3]))"
   ]
  },
  {
   "cell_type": "code",
   "execution_count": 35,
   "id": "71fb492d-9b85-4e7b-850c-5468ac2be1de",
   "metadata": {},
   "outputs": [],
   "source": [
    "def id_check(id) :\n",
    "    if id == \"admin\" :\n",
    "        print(\"invailid id : admin\")\n",
    "        return\n",
    "    print(\"valid id : \", id)"
   ]
  },
  {
   "cell_type": "code",
   "execution_count": 34,
   "id": "b73e4fb1-5c38-4c81-8fa5-31df2b1bcaa3",
   "metadata": {},
   "outputs": [
    {
     "name": "stdout",
     "output_type": "stream",
     "text": [
      "valid id :  id01\n"
     ]
    }
   ],
   "source": [
    "id_check(\"id01\")"
   ]
  },
  {
   "cell_type": "code",
   "execution_count": 42,
   "id": "2e5d4903-d628-4466-b01e-888e7b6350f9",
   "metadata": {},
   "outputs": [],
   "source": [
    "x = 1\n",
    "y = 2"
   ]
  },
  {
   "cell_type": "code",
   "execution_count": 43,
   "id": "f96c9414-bbea-400d-903d-669dfad5941c",
   "metadata": {},
   "outputs": [],
   "source": [
    "(x, y) = (y, x) => 구조문의 할당"
   ]
  },
  {
   "cell_type": "code",
   "execution_count": 44,
   "id": "d2c55a7d-6a08-40b6-99da-5bbddb946da8",
   "metadata": {},
   "outputs": [
    {
     "data": {
      "text/plain": [
       "2"
      ]
     },
     "execution_count": 44,
     "metadata": {},
     "output_type": "execute_result"
    }
   ],
   "source": [
    "x"
   ]
  },
  {
   "cell_type": "code",
   "execution_count": 49,
   "id": "966f6304-c4cb-44f2-a817-1cd50c30ae78",
   "metadata": {},
   "outputs": [],
   "source": [
    "def quot_and_rem(x, y) :\n",
    "    quot = x // y\n",
    "    rem = x % y\n",
    "    return quot, rem"
   ]
  },
  {
   "cell_type": "code",
   "execution_count": 50,
   "id": "5532aa38-10a4-4114-876f-1182d8cb2147",
   "metadata": {},
   "outputs": [
    {
     "data": {
      "text/plain": [
       "(3, 1)"
      ]
     },
     "execution_count": 50,
     "metadata": {},
     "output_type": "execute_result"
    }
   ],
   "source": [
    "result = quot_and_rem(10,3)\n",
    "result"
   ]
  },
  {
   "cell_type": "code",
   "execution_count": null,
   "id": "54a8d0ae-a27b-4c70-ba64-bc6744a79698",
   "metadata": {},
   "outputs": [],
   "source": []
  }
 ],
 "metadata": {
  "kernelspec": {
   "display_name": "Python [conda env:base] *",
   "language": "python",
   "name": "conda-base-py"
  },
  "language_info": {
   "codemirror_mode": {
    "name": "ipython",
    "version": 3
   },
   "file_extension": ".py",
   "mimetype": "text/x-python",
   "name": "python",
   "nbconvert_exporter": "python",
   "pygments_lexer": "ipython3",
   "version": "3.13.5"
  }
 },
 "nbformat": 4,
 "nbformat_minor": 5
}
