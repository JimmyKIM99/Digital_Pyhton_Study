{
 "cells": [
  {
   "cell_type": "code",
   "execution_count": null,
   "id": "f44dc42b-c7be-4e59-94e1-ce8b1a9783ba",
   "metadata": {},
   "outputs": [],
   "source": [
    "### 자료구조 형태\n",
    "- 숫자, 문자, 불리언\n",
    "- 리스트(lsit)\n",
    "- 튜플(Tuple)\n",
    "    - 리스트와 달리 튜플은 소괄호 형태를 띄고 있음\n",
    "    - 튜플은 최초 생성 후 값을 삭제, 추가 할 수 없음 \n",
    "    - 단, 튜플 간 병합가능 혹은 튜플 자체의 복제 등은 가능함\n",
    "    - 튜플은 리스트처럼 리터러블한 객체 속성을 가지고 있음 => 반복문을 사용 할 수 있음\n",
    "      튜블 내부 아이템들은 각자 고유한 인덱스 값을 가지고 있음\n",
    "\n",
    "tuple : 값과 형태 갯수가 정해져 있는 list 형태의 type\n",
    "(x, y) = (y, x) => 구조문의 할당\n",
    "-> 함수의 반환값으로 찾아온 값을 활용해서 일반 변수 안에 값을 넣을 때, 구조분해할당의\n",
    "    형식으로 값을 전달할 수 있음\n",
    "- 튜플을 수정, 편집, 삭제 하고 싶다면 => 리스트로 바꿔주세요!!\n",
    "    => list(튜플자료형) => 리스트가 됨!!"
   ]
  },
  {
   "cell_type": "code",
   "execution_count": 3,
   "id": "773c7177-ec58-489f-82a4-3cab61804766",
   "metadata": {},
   "outputs": [
    {
     "name": "stdout",
     "output_type": "stream",
     "text": [
      "<class 'list'>\n",
      "<class 'tuple'>\n"
     ]
    }
   ],
   "source": [
    "listItems = []\n",
    "tupleIteems = (1,2,3)\n",
    "print(type(listItems))\n",
    "print(type(tupleIteems))"
   ]
  },
  {
   "cell_type": "code",
   "execution_count": 5,
   "id": "33275137-0bcf-46d6-ae75-b30ca0c6c671",
   "metadata": {},
   "outputs": [
    {
     "name": "stdout",
     "output_type": "stream",
     "text": [
      "1\n",
      "2\n",
      "3\n"
     ]
    }
   ],
   "source": [
    "for item in tupleIteems :\n",
    "    print(item)"
   ]
  },
  {
   "cell_type": "code",
   "execution_count": 6,
   "id": "52ca7986-615e-44c4-b200-8352f0953c02",
   "metadata": {},
   "outputs": [
    {
     "ename": "TypeError",
     "evalue": "'tuple' object doesn't support item deletion",
     "output_type": "error",
     "traceback": [
      "\u001b[1;31m---------------------------------------------------------------------------\u001b[0m",
      "\u001b[1;31mTypeError\u001b[0m                                 Traceback (most recent call last)",
      "Cell \u001b[1;32mIn[6], line 1\u001b[0m\n\u001b[1;32m----> 1\u001b[0m \u001b[38;5;28;01mdel\u001b[39;00m(tupleIteems[\u001b[38;5;241m1\u001b[39m])\n",
      "\u001b[1;31mTypeError\u001b[0m: 'tuple' object doesn't support item deletion"
     ]
    }
   ],
   "source": [
    "del(tupleIteems[1])"
   ]
  },
  {
   "cell_type": "code",
   "execution_count": 12,
   "id": "24df2e7f-1d01-4b05-946e-d889399d6052",
   "metadata": {},
   "outputs": [
    {
     "name": "stdout",
     "output_type": "stream",
     "text": [
      "(1, 2, 3, 4)\n",
      "(1, 2, 1, 2, 1, 2)\n"
     ]
    }
   ],
   "source": [
    "tuple01 = (1,2)\n",
    "tuple02 = (3,4)\n",
    "print(tuple01 + tuple02)\n",
    "print(tuple01 *3 )"
   ]
  },
  {
   "cell_type": "code",
   "execution_count": 15,
   "id": "de5d66d0-2513-47f9-bb27-4e166eb64682",
   "metadata": {},
   "outputs": [
    {
     "data": {
      "text/plain": [
       "tuple"
      ]
     },
     "execution_count": 15,
     "metadata": {},
     "output_type": "execute_result"
    }
   ],
   "source": [
    "data1 = (1, 2, 3)\n",
    "type(data1)"
   ]
  },
  {
   "cell_type": "code",
   "execution_count": 17,
   "id": "bcf6d1c6-015a-41fd-ac95-89f2ebfc0b25",
   "metadata": {},
   "outputs": [
    {
     "data": {
      "text/plain": [
       "[1, 2, 3]"
      ]
     },
     "execution_count": 17,
     "metadata": {},
     "output_type": "execute_result"
    }
   ],
   "source": [
    "data_list = list(data1)\n",
    "data_list"
   ]
  }
 ],
 "metadata": {
  "kernelspec": {
   "display_name": "Python [conda env:base] *",
   "language": "python",
   "name": "conda-base-py"
  },
  "language_info": {
   "codemirror_mode": {
    "name": "ipython",
    "version": 3
   },
   "file_extension": ".py",
   "mimetype": "text/x-python",
   "name": "python",
   "nbconvert_exporter": "python",
   "pygments_lexer": "ipython3",
   "version": "3.13.5"
  }
 },
 "nbformat": 4,
 "nbformat_minor": 5
}
