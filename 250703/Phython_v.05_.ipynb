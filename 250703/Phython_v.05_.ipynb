{
 "cells": [
  {
   "cell_type": "code",
   "execution_count": null,
   "id": "eb4ed6ac-9884-44bb-86ff-ebd25ee8b6b5",
   "metadata": {},
   "outputs": [],
   "source": [
    "#반복문 => for ~ in / while\n",
    "\n",
    "```\n",
    "for 변수 in (list || string => literable 객체 속성을 가지고 있는 자료구조)\n",
    "    실행문\n",
    "```\n",
    "while  조건:\n",
    "    실행문\n",
    "=> 조건식이 참인 동안에 반복\n",
    "\n",
    "# 함수 : 프로그래밍 언어, 꽃"
   ]
  },
  {
   "cell_type": "code",
   "execution_count": 10,
   "id": "40594ba0-8140-404b-9d0f-08aa0fd2dcc3",
   "metadata": {},
   "outputs": [
    {
     "name": "stdout",
     "output_type": "stream",
     "text": [
      "파이썬\n",
      "TS\n",
      "Node\n"
     ]
    }
   ],
   "source": [
    "lan = [\"파이썬\", \"TS\", \"Node\"]\n",
    "for item in lan :\n",
    "    print(item)"
   ]
  },
  {
   "cell_type": "code",
   "execution_count": 27,
   "id": "52ffe2c8-7b1a-4406-b86d-459a7e0fd135",
   "metadata": {},
   "outputs": [
    {
     "name": "stdout",
     "output_type": "stream",
     "text": [
      "파이썬 프로그램언어\n",
      "TS 프로그램언어\n",
      "Node 프로그램언어\n"
     ]
    }
   ],
   "source": [
    "lan = [\"파이썬\", \"TS\", \"Node\"]\n",
    "for i in lan :\n",
    "    print(i, \"프로그램언어\")"
   ]
  },
  {
   "cell_type": "code",
   "execution_count": null,
   "id": "da3f7d11-86bb-434a-a9af-69edab35e6a6",
   "metadata": {},
   "outputs": [],
   "source": [
    "문자열아 아닌경우"
   ]
  },
  {
   "cell_type": "code",
   "execution_count": 19,
   "id": "794b068e-3d1c-4dae-942c-17bfbb286853",
   "metadata": {},
   "outputs": [
    {
     "name": "stdout",
     "output_type": "stream",
     "text": [
      "1\n",
      "2\n",
      "3\n",
      "4\n",
      "5\n",
      "6\n",
      "7\n",
      "8\n",
      "9\n",
      "10\n"
     ]
    }
   ],
   "source": [
    "for num in range(1, 11) :\n",
    "    print(num)"
   ]
  },
  {
   "cell_type": "code",
   "execution_count": 25,
   "id": "e1d04d5f-059d-4124-92e9-3a25868e9459",
   "metadata": {},
   "outputs": [
    {
     "name": "stdin",
     "output_type": "stream",
     "text": [
      "최애 음식은? 아\n",
      "최애 음식은? 오\n",
      "최애 음식은? ㅇㅏ\n"
     ]
    }
   ],
   "source": [
    "for num in range(1,4) :\n",
    "    input(\"최애 음식은?\")"
   ]
  },
  {
   "cell_type": "code",
   "execution_count": 28,
   "id": "d0b4866d-0ade-4833-bec8-76779b881f86",
   "metadata": {},
   "outputs": [
    {
     "data": {
      "text/plain": [
       "range(0, 3)"
      ]
     },
     "execution_count": 28,
     "metadata": {},
     "output_type": "execute_result"
    }
   ],
   "source": [
    "range(3)"
   ]
  },
  {
   "cell_type": "code",
   "execution_count": 30,
   "id": "604594fb-e477-49f0-8597-e4f609c1bacf",
   "metadata": {},
   "outputs": [
    {
     "name": "stdout",
     "output_type": "stream",
     "text": [
      "list1\n",
      "list2\n",
      "list3\n"
     ]
    }
   ],
   "source": [
    "data_list = [\"list1\", \"list2\", \"list3\"]\n",
    "for index in data_list :\n",
    "    print(index)"
   ]
  },
  {
   "cell_type": "code",
   "execution_count": 45,
   "id": "2ed88aa2-3e88-41e0-9ab6-46510229785d",
   "metadata": {},
   "outputs": [
    {
     "name": "stdout",
     "output_type": "stream",
     "text": [
      "55\n"
     ]
    }
   ],
   "source": [
    "sum = 0\n",
    "\n",
    "for index in range(1, 11) :\n",
    "    sum = sum + index\n",
    "    sum += index\n",
    "    sum -= index\n",
    "print(sum)\n",
    "#복합 대입 연산자"
   ]
  },
  {
   "cell_type": "code",
   "execution_count": 49,
   "id": "3705cfbe-eb68-4d87-aefe-eca2be599a55",
   "metadata": {},
   "outputs": [
    {
     "name": "stdin",
     "output_type": "stream",
     "text": [
      "what's your name? foo\n"
     ]
    }
   ],
   "source": [
    "name = input(\"what's your name?\")\n",
    "while name != \"foo\" :\n",
    "    print(f\"Hi {name}!\" \"What your name?\")"
   ]
  },
  {
   "cell_type": "code",
   "execution_count": null,
   "id": "7da726cb-0d98-4f1b-a116-7658b44594b2",
   "metadata": {},
   "outputs": [],
   "source": [
    "1-10 까지,  숫자의 대해 모두 더한 값을 출력"
   ]
  },
  {
   "cell_type": "code",
   "execution_count": 55,
   "id": "07096c14-4f14-4e35-a14a-664f1ea4f530",
   "metadata": {},
   "outputs": [
    {
     "name": "stdout",
     "output_type": "stream",
     "text": [
      "55\n"
     ]
    }
   ],
   "source": [
    "sum1 = 0\n",
    "for index in range(1, 11) :\n",
    "    sum1 += index\n",
    "print(sum1)"
   ]
  },
  {
   "cell_type": "code",
   "execution_count": null,
   "id": "7ce892ca-37b3-45ee-96c2-5c1674cb5c88",
   "metadata": {},
   "outputs": [],
   "source": [
    "2-9 숫자 입력받음 해당 숫자의 대한 구구단 출력"
   ]
  },
  {
   "cell_type": "code",
   "execution_count": 67,
   "id": "c6ef4d00-56bb-492b-992c-3de1b519e145",
   "metadata": {
    "collapsed": true,
    "jupyter": {
     "outputs_hidden": true
    }
   },
   "outputs": [
    {
     "ename": "SyntaxError",
     "evalue": "invalid syntax (204855074.py, line 1)",
     "output_type": "error",
     "traceback": [
      "\u001b[1;36m  Cell \u001b[1;32mIn[67], line 1\u001b[1;36m\u001b[0m\n\u001b[1;33m    1, 사용자에게 값을 받는다\u001b[0m\n\u001b[1;37m             ^\u001b[0m\n\u001b[1;31mSyntaxError\u001b[0m\u001b[1;31m:\u001b[0m invalid syntax\n"
     ]
    }
   ],
   "source": [
    "1, 사용자에게 값을 받는다\n",
    "2. 해당 값을 가지고 값을 변수에 넣음, 변수 값을 반복적으로 곱함\n",
    "3. 변수값을 곱함 / 반복문 사용을 위해 range 함수 사용"
   ]
  },
  {
   "cell_type": "code",
   "execution_count": 73,
   "id": "8d0276c5-8c03-49bc-9e97-187ae8caa1f3",
   "metadata": {},
   "outputs": [
    {
     "name": "stdin",
     "output_type": "stream",
     "text": [
      " 2\n"
     ]
    },
    {
     "name": "stdout",
     "output_type": "stream",
     "text": [
      "2 X 1 = 2\n",
      "2 X 2 = 4\n",
      "2 X 3 = 6\n",
      "2 X 4 = 8\n",
      "2 X 5 = 10\n",
      "2 X 6 = 12\n",
      "2 X 7 = 14\n",
      "2 X 8 = 16\n",
      "2 X 9 = 18\n"
     ]
    }
   ],
   "source": [
    "data = int(input())\n",
    "if data >=2 and data <=9 :\n",
    "    for digit in range(1, 10) :\n",
    "        print(f\"{data} X {digit} = {data * digit}\")"
   ]
  },
  {
   "cell_type": "code",
   "execution_count": null,
   "id": "19d39eda-a35a-4632-a815-23847a0e7078",
   "metadata": {},
   "outputs": [],
   "source": [
    "name = \"[David], [Andy], [Juli], [Dave]\"\n",
    "- 위 name 변수 안에 담긴 값을 다음처럼 화면에 출력\n",
    "    name"
   ]
  },
  {
   "cell_type": "code",
   "execution_count": 86,
   "id": "ef69c245-6f94-47f0-bddb-ceedb342e504",
   "metadata": {},
   "outputs": [
    {
     "name": "stdout",
     "output_type": "stream",
     "text": [
      "David\n",
      "[Andy\n",
      "[Juli\n",
      "[Dave\n"
     ]
    }
   ],
   "source": [
    "name = \"[David], [Andy], [Juli], [Dave]\"\n",
    "name01 = name.split(\",\")\n",
    "for str_name in name01 :\n",
    "    print(str_name [1:-1])"
   ]
  },
  {
   "cell_type": "code",
   "execution_count": null,
   "id": "9e1c2c85-0b09-439b-a3b4-3eb2664904c0",
   "metadata": {},
   "outputs": [],
   "source": [
    "1-30 3의 배수"
   ]
  },
  {
   "cell_type": "code",
   "execution_count": 89,
   "id": "ceb70528-dfc2-4daf-b61f-5528773ff6d7",
   "metadata": {},
   "outputs": [
    {
     "ename": "SyntaxError",
     "evalue": "invalid syntax (2943622384.py, line 3)",
     "output_type": "error",
     "traceback": [
      "\u001b[1;36m  Cell \u001b[1;32mIn[89], line 3\u001b[1;36m\u001b[0m\n\u001b[1;33m    while number04 % == 0 :\u001b[0m\n\u001b[1;37m                     ^\u001b[0m\n\u001b[1;31mSyntaxError\u001b[0m\u001b[1;31m:\u001b[0m invalid syntax\n"
     ]
    }
   ],
   "source": [
    "number03 = range(1,31)\n",
    "number04 = name03 / 3\n",
    "while number04 % == 0 :\n",
    "    print(number04)"
   ]
  },
  {
   "cell_type": "code",
   "execution_count": 94,
   "id": "a19c5476-186a-4254-acf6-531fa0c68eaf",
   "metadata": {},
   "outputs": [
    {
     "name": "stdout",
     "output_type": "stream",
     "text": [
      "3\n",
      "6\n",
      "9\n",
      "12\n",
      "15\n",
      "18\n",
      "21\n",
      "24\n",
      "27\n",
      "30\n"
     ]
    }
   ],
   "source": [
    "num = 0\n",
    "while num < 30 :\n",
    "    num += 1\n",
    "    if num % 3 == 0 :\n",
    "        print(num)"
   ]
  },
  {
   "cell_type": "code",
   "execution_count": 97,
   "id": "d4490075-057e-4a48-aa43-12da6d3c95ab",
   "metadata": {},
   "outputs": [
    {
     "name": "stdout",
     "output_type": "stream",
     "text": [
      "3\n",
      "6\n",
      "9\n",
      "12\n",
      "15\n",
      "18\n",
      "21\n",
      "24\n",
      "27\n",
      "30\n"
     ]
    }
   ],
   "source": [
    "for num1 in range(1,31) :\n",
    "    if num1 % 3 == 0 :\n",
    "        print(num1)"
   ]
  },
  {
   "cell_type": "code",
   "execution_count": null,
   "id": "305c607d-0ec2-4bb7-ae5b-ddfa72f55f27",
   "metadata": {},
   "outputs": [],
   "source": [
    "-리스트에 자료구조 음수값 삭제, 양수값 새로운 리스트 변수 만들어 출력"
   ]
  },
  {
   "cell_type": "code",
   "execution_count": 109,
   "id": "9c69204c-7450-44d0-a925-cd57be0424f8",
   "metadata": {},
   "outputs": [
    {
     "ename": "TypeError",
     "evalue": "'>' not supported between instances of 'list' and 'int'",
     "output_type": "error",
     "traceback": [
      "\u001b[1;31m---------------------------------------------------------------------------\u001b[0m",
      "\u001b[1;31mTypeError\u001b[0m                                 Traceback (most recent call last)",
      "Cell \u001b[1;32mIn[109], line 2\u001b[0m\n\u001b[0;32m      1\u001b[0m num_list \u001b[38;5;241m=\u001b[39m [\u001b[38;5;241m0\u001b[39m, \u001b[38;5;241m-\u001b[39m\u001b[38;5;241m11\u001b[39m, \u001b[38;5;241m31\u001b[39m, \u001b[38;5;241m22\u001b[39m, \u001b[38;5;241m-\u001b[39m\u001b[38;5;241m11\u001b[39m, \u001b[38;5;241m33\u001b[39m, \u001b[38;5;241m44\u001b[39m, \u001b[38;5;241m-\u001b[39m\u001b[38;5;241m55\u001b[39m]\n\u001b[1;32m----> 2\u001b[0m \u001b[38;5;28;01mif\u001b[39;00m num_list \u001b[38;5;241m>\u001b[39m \u001b[38;5;241m0\u001b[39m :\n\u001b[0;32m      3\u001b[0m     \u001b[38;5;28mprint\u001b[39m(num_list)\n",
      "\u001b[1;31mTypeError\u001b[0m: '>' not supported between instances of 'list' and 'int'"
     ]
    }
   ],
   "source": [
    "num_list = [0, -11, 31, 22, -11, 33, 44, -55]\n",
    "if num_list > 0 :\n",
    "    print(num_list)"
   ]
  },
  {
   "cell_type": "code",
   "execution_count": 101,
   "id": "0c23e486-33e4-4c53-b637-dfa578722c5a",
   "metadata": {},
   "outputs": [
    {
     "name": "stdout",
     "output_type": "stream",
     "text": [
      "31\n",
      "22\n",
      "33\n",
      "44\n"
     ]
    }
   ],
   "source": [
    "num_list = [0, -11, 31, 22, -11, 33, 44, -55]\n",
    "for data in num_list :\n",
    "    if data > 0 :\n",
    "# new_list.append(num)\n",
    "        print(data)"
   ]
  },
  {
   "cell_type": "code",
   "execution_count": null,
   "id": "f5a7df88-cfd4-4f3a-b191-50d310739021",
   "metadata": {},
   "outputs": [],
   "source": [
    "- 아래 리스트에 있는 데이터들의 문자열 길이 출력 (*한줄 1개씩 구분)\n",
    "- lsit_data = [\"java\",\"phython\",\"node\"]"
   ]
  },
  {
   "cell_type": "code",
   "execution_count": 106,
   "id": "2f4f2cb2-1499-42e8-b59f-eb5e76157b5c",
   "metadata": {},
   "outputs": [
    {
     "name": "stdout",
     "output_type": "stream",
     "text": [
      "4\n",
      "7\n",
      "4\n"
     ]
    }
   ],
   "source": [
    "list_data = [\"java\",\"phython\",\"node\"]\n",
    "for num1 in list_data :\n",
    "    print(len(num1))"
   ]
  },
  {
   "cell_type": "code",
   "execution_count": 114,
   "id": "aeefda27-189b-41d1-b0e5-1e4f70a78e26",
   "metadata": {},
   "outputs": [
    {
     "name": "stdout",
     "output_type": "stream",
     "text": [
      "5\n",
      "10\n",
      "15\n",
      "20\n",
      "25\n",
      "30\n",
      "35\n",
      "40\n",
      "45\n",
      "50\n",
      "55\n",
      "60\n",
      "65\n",
      "70\n",
      "75\n",
      "80\n",
      "85\n",
      "90\n",
      "95\n",
      "100\n"
     ]
    }
   ],
   "source": [
    "num = 0\n",
    "while num < 100 :\n",
    "    num += 1\n",
    "    if num % 5 == 0 :\n",
    "        print(num)"
   ]
  },
  {
   "cell_type": "code",
   "execution_count": 116,
   "id": "40ba6ba3-cb06-41f4-839b-46b88fcc9a42",
   "metadata": {},
   "outputs": [
    {
     "name": "stdin",
     "output_type": "stream",
     "text": [
      " 김용진\n"
     ]
    },
    {
     "name": "stdout",
     "output_type": "stream",
     "text": [
      "Hello 김용진\n"
     ]
    }
   ],
   "source": [
    "print(f\"Hello {input()}\")"
   ]
  },
  {
   "cell_type": "code",
   "execution_count": 117,
   "id": "949a41df-49cd-4d0f-a3c6-bae9ed1104b2",
   "metadata": {},
   "outputs": [
    {
     "name": "stdout",
     "output_type": "stream",
     "text": [
      "1\n"
     ]
    }
   ],
   "source": [
    "a = [1, 2, 3]\n",
    "print(a[0])"
   ]
  },
  {
   "cell_type": "code",
   "execution_count": 115,
   "id": "59413c23-436d-4dbd-8f6c-b86d0fd1ad17",
   "metadata": {},
   "outputs": [
    {
     "name": "stdout",
     "output_type": "stream",
     "text": [
      "exercise\n",
      "exercfqese\n",
      "exgasfdgercise\n",
      "exedfrcise\n"
     ]
    }
   ],
   "source": [
    "filelist = [\"exercise_docx\",\"exercfqese_docx\",\"exgasfdgercise_docx\",\"exedfrcise_docx\"]\n",
    "for list01 in filelist :\n",
    "    print(list01.strip(\"_docx\"))"
   ]
  },
  {
   "cell_type": "code",
   "execution_count": 120,
   "id": "e32ccfce-15d8-4c3b-be5b-04867e29e164",
   "metadata": {},
   "outputs": [
    {
     "name": "stdout",
     "output_type": "stream",
     "text": [
      "exercise\n",
      "exercfqese\n",
      "exgasfdgercise\n",
      "exedfrcise\n"
     ]
    }
   ],
   "source": [
    "filelist = [\"exercise_docx\",\"exercfqese_docx\",\"exgasfdgercise_docx\",\"exedfrcise_docx\"]\n",
    "for list01 in filelist :\n",
    "    print(list01.split(\"_\")[0])"
   ]
  },
  {
   "cell_type": "code",
   "execution_count": null,
   "id": "a2962d5f-6f1b-48e2-9ab4-83b0424de98d",
   "metadata": {},
   "outputs": [],
   "source": [
    "filelist =[\"exercise_docx\",\"exercfqese_docx\",\"exgasfdgercise_txt\",\"exedfrcise_txt\"]"
   ]
  },
  {
   "cell_type": "code",
   "execution_count": 122,
   "id": "3f22d68f-5c7f-4abb-b7de-7b0d2e344279",
   "metadata": {},
   "outputs": [
    {
     "name": "stdout",
     "output_type": "stream",
     "text": [
      "exgasfdgercise_txt\n",
      "exedfrcise_txt\n"
     ]
    }
   ],
   "source": [
    "filelist =[\"exercise_docx\",\"exercfqese_docx\",\"exgasfdgercise_txt\",\"exedfrcise_txt\"]\n",
    "for list01 in filelist:\n",
    "    if list01.split(\"_\")[1] == \"txt\" :\n",
    "        print(list01)"
   ]
  },
  {
   "cell_type": "code",
   "execution_count": 1,
   "id": "a2cc5b99-cf77-4c79-8b2c-d6fdcfbff53b",
   "metadata": {},
   "outputs": [
    {
     "name": "stdout",
     "output_type": "stream",
     "text": [
      "[2, 2, 3, 4, 5]\n",
      "[2, 4, 3, 4, 5]\n",
      "[2, 4, 6, 4, 5]\n",
      "[2, 4, 6, 8, 5]\n",
      "[2, 4, 6, 8, 10]\n"
     ]
    }
   ],
   "source": [
    "numbers = [1, 2, 3, 4, 5]\n",
    "\n",
    "for i in range(len(numbers)):\n",
    "    numbers[i] = numbers[i] * 2  # 인덱스로 직접 수정\n",
    "    print(numbers) "
   ]
  },
  {
   "cell_type": "code",
   "execution_count": 2,
   "id": "45f48bed-38b6-4b0f-a481-7a9e685dd1a6",
   "metadata": {},
   "outputs": [],
   "source": [
    "x = 1\n",
    "y = 2"
   ]
  },
  {
   "cell_type": "code",
   "execution_count": 3,
   "id": "ccbc5c4c-ee4f-4939-b05b-389120c26427",
   "metadata": {},
   "outputs": [],
   "source": [
    "temp = x\n",
    "x = y\n",
    "y = temp"
   ]
  },
  {
   "cell_type": "code",
   "execution_count": 5,
   "id": "fd5d0074-42b0-44d3-9dce-b7c05b73cc43",
   "metadata": {},
   "outputs": [
    {
     "data": {
      "text/plain": [
       "2"
      ]
     },
     "execution_count": 5,
     "metadata": {},
     "output_type": "execute_result"
    }
   ],
   "source": [
    "x"
   ]
  }
 ],
 "metadata": {
  "kernelspec": {
   "display_name": "Python [conda env:base] *",
   "language": "python",
   "name": "conda-base-py"
  },
  "language_info": {
   "codemirror_mode": {
    "name": "ipython",
    "version": 3
   },
   "file_extension": ".py",
   "mimetype": "text/x-python",
   "name": "python",
   "nbconvert_exporter": "python",
   "pygments_lexer": "ipython3",
   "version": "3.13.5"
  }
 },
 "nbformat": 4,
 "nbformat_minor": 5
}
