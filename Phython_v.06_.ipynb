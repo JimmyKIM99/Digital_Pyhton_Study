{
 "cells": [
  {
   "cell_type": "code",
   "execution_count": null,
   "id": "05e0b5a5-8df5-4bdd-af38-488cb7c66cb2",
   "metadata": {},
   "outputs": [],
   "source": [
    "### 함수\n",
    "-함수, 선언과 호출\n",
    "-인자값 혹은 인수 개념\n",
    "\n",
    "    ```\n",
    "    def 함수이름(인자값, 인수) :\n",
    "        실행문\n",
    "        return 반환하고자 하는 값 입력\n",
    "\n",
    "    ```\n",
    "    def avg(for num1 in list01"
   ]
  },
  {
   "cell_type": "code",
   "execution_count": null,
   "id": "64d8de39-e724-417e-86d0-edcb0bba4f1e",
   "metadata": {},
   "outputs": [],
   "source": [
    "def func1("
   ]
  }
 ],
 "metadata": {
  "kernelspec": {
   "display_name": "Python [conda env:base] *",
   "language": "python",
   "name": "conda-base-py"
  },
  "language_info": {
   "codemirror_mode": {
    "name": "ipython",
    "version": 3
   },
   "file_extension": ".py",
   "mimetype": "text/x-python",
   "name": "python",
   "nbconvert_exporter": "python",
   "pygments_lexer": "ipython3",
   "version": "3.13.5"
  }
 },
 "nbformat": 4,
 "nbformat_minor": 5
}
