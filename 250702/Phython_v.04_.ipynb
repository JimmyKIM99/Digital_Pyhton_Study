{
 "cells": [
  {
   "cell_type": "code",
   "execution_count": 2,
   "id": "d5b9c490-9344-440e-afae-42bee764e28b",
   "metadata": {},
   "outputs": [
    {
     "name": "stdout",
     "output_type": "stream",
     "text": [
      "70.0\n"
     ]
    }
   ],
   "source": [
    "국어 = 80\n",
    "영어 = 75\n",
    "수학 = 55\n",
    "list01 = [국어, 영어, 수학]\n",
    "averge01 = sum(list01) / len(list01)\n",
    "print(averge01)"
   ]
  },
  {
   "cell_type": "code",
   "execution_count": 3,
   "id": "425dc46b-7818-42d4-94fd-e885bbbda79f",
   "metadata": {},
   "outputs": [
    {
     "ename": "SyntaxError",
     "evalue": "invalid syntax (3897176316.py, line 1)",
     "output_type": "error",
     "traceback": [
      "\u001b[1;36m  Cell \u001b[1;32mIn[3], line 1\u001b[1;36m\u001b[0m\n\u001b[1;33m    int(input())%==0\u001b[0m\n\u001b[1;37m                ^\u001b[0m\n\u001b[1;31mSyntaxError\u001b[0m\u001b[1;31m:\u001b[0m invalid syntax\n"
     ]
    }
   ],
   "source": [
    "- 사용자 점수 입력 / 등급 출력 / 등급\n",
    "- A 100~80 B 80 61 C 60 0"
   ]
  },
  {
   "cell_type": "code",
   "execution_count": 10,
   "id": "ffcc373e-c48d-468c-9289-d8e30c480932",
   "metadata": {},
   "outputs": [
    {
     "name": "stdin",
     "output_type": "stream",
     "text": [
      " 75\n"
     ]
    },
    {
     "name": "stdout",
     "output_type": "stream",
     "text": [
      "A\n"
     ]
    }
   ],
   "source": [
    "Grade01 = int(input())\n",
    "if Grade01 <=60 :\n",
    "    print(\"C\")\n",
    "    if Grade01 <=80 :\n",
    "        print(\"B\")\n",
    "else : print(\"A\")"
   ]
  },
  {
   "cell_type": "code",
   "execution_count": null,
   "id": "824613aa-a105-4094-b612-5828f5ede887",
   "metadata": {},
   "outputs": [],
   "source": [
    "data01 = int(input(\"사용자점수\"))\n",
    "if data01 >= 81 and <= 100\n",
    "    print(\"A\")"
   ]
  },
  {
   "cell_type": "code",
   "execution_count": null,
   "id": "dbb86ab7-590b-4612-9f8f-9b69b27d703a",
   "metadata": {},
   "outputs": [],
   "source": [
    "주민등록번호 입력, 출생연도만 확인 후 출력"
   ]
  },
  {
   "cell_type": "code",
   "execution_count": 12,
   "id": "a56093b6-51ff-4cbd-bab9-4c8133c5116c",
   "metadata": {},
   "outputs": [
    {
     "ename": "SyntaxError",
     "evalue": "invalid syntax (3696042973.py, line 1)",
     "output_type": "error",
     "traceback": [
      "\u001b[1;36m  Cell \u001b[1;32mIn[12], line 1\u001b[1;36m\u001b[0m\n\u001b[1;33m    number01 = int(input(출생년도입력!))\u001b[0m\n\u001b[1;37m                               ^\u001b[0m\n\u001b[1;31mSyntaxError\u001b[0m\u001b[1;31m:\u001b[0m invalid syntax\n"
     ]
    }
   ],
   "source": [
    "number01 = int(input(출생년도입력!))\n",
    "number02 = lis\n",
    "print(number01[0,1])"
   ]
  }
 ],
 "metadata": {
  "kernelspec": {
   "display_name": "Python [conda env:base] *",
   "language": "python",
   "name": "conda-base-py"
  },
  "language_info": {
   "codemirror_mode": {
    "name": "ipython",
    "version": 3
   },
   "file_extension": ".py",
   "mimetype": "text/x-python",
   "name": "python",
   "nbconvert_exporter": "python",
   "pygments_lexer": "ipython3",
   "version": "3.13.5"
  }
 },
 "nbformat": 4,
 "nbformat_minor": 5
}
