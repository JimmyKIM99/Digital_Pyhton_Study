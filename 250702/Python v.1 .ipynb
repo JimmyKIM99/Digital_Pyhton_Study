{
 "cells": [
  {
   "cell_type": "code",
   "execution_count": 1,
   "id": "9c91d155-b788-401b-b04b-7e8e666e55f5",
   "metadata": {},
   "outputs": [
    {
     "name": "stdout",
     "output_type": "stream",
     "text": [
      "1\n"
     ]
    }
   ],
   "source": [
    "num = 1\n",
    "print(num)\n",
    "#연산자 (사칙연산 // 비교연산)\n",
    "### 1. 변수\n",
    "### 2. 내장함수(built-in Function)\n",
    "-print()\n",
    "-input()\n",
    "-type()\n",
    "### 3. 연산자\n",
    "-사칙연산\n",
    "-비교연산\n",
    "### 4. 자료타입\n",
    "-string->문자\n",
    "-int->정수\n",
    "-float->부동소수\n",
    "-booolean\n",
    "### 5.형변환\n",
    "-int()\n",
    "-float()\n",
    "-str() 자동으로 반환 X 변수값으로 정의해야함\n",
    "반환 : 함수 실행 => 실행 내역안 실행된 결과값을 그냥 가지고만 있을  수도 있고, 해당 결과값을\n",
    "외부에서 사용할 수 있도록 제공해 줄수도 있음\n",
    "\n",
    "### 6.문자열\n",
    "-역슬레시n\n",
    "-\"\"\" \"\"\"\n",
    "-len()\n",
    "-find()\n",
    "-replace()\n",
    "-strip() => 해당 문자열 제거\n",
    "-[index]\n",
    "-[index:index]\n",
    "-format()\n",
    "- %s : 문자열 입력\n",
    "- %d : 정수 입력\n",
    "- %f : 부동소수값 입력\n",
    "\n",
    "### 7. F-Stirng = Formatted Strin\n",
    "- F\"문자열 {변수}\"\n",
    "# ex) half = 100 / print(f\"1.반지름 : {half}\")\n",
    "\n",
    "#변수명 명확! \n",
    "#sneak 표기법 : Hellow_world(2번째)\n",
    "#camel 표기법 : helloWorld(*추천)\n",
    "#Hungarian 표기법 : HelloWorld\n",
    "#변수의 이름 숫자로 표기되면 안됨!! Must!\n",
    "\n",
    "## 단축기\n",
    "# above : 위쪽에 셀 추가\n",
    "# below : 아래쪽에 셀 추가\n",
    "# dd : 셀 삭제\n",
    "\n",
    "##객체는 어떤 타입의 객체이나에 따라서 사용할 수 있는 메서드 함수(*문자열())가 결정!!\n",
    "#메서드 함수->객체가 정해져야 쓸 수 있다\n",
    "print(article2.count(\"기훈\")) => 객체에서 기훈이 몇번 나왔는지 카운트\n",
    "print(len(article2)) => 객체 전체 문자열의 총 갯수\n",
    "print(article2.find(\"성\")) => 문자열의 인덱스값\n",
    "print(article3.replace(\"than\",\"more\")) => 문자열 교체\n",
    "\n",
    "article2,count()\n",
    "# article2라는 변수를 선언, 해당 변수에 문자열 형태의 값을 할당\n",
    "# article2라는 변수에 문자열 행태의 값이 할당됨으로 인해서 이제 article2라는 변수는 문자열 객체라고 부를 수 도 있게 됨!!\n",
    "# 행바꿈, 문자열 1을 얻음(대행은 하나의 문자열) / 문자열의 시작은 0\n",
    "# 문자열은 인덱스 값을 가짐, 처음은 0\n",
    "# 동의보감 => 동 : 0번쨰 인덱스 // 감 : 3 => 문자열의 전체 총개수 - 1 = 마지막번쨰 문자열의 인덱스값과 항상 동일\n",
    "\n",
    "# 파이썬 > 문자열 > 슬라이스 기능\n",
    "print(text01[0])\n",
    "print(text01[len(text01) - 1]) => 대괄호[], index 값 문자열 반환\n",
    "print(text01[0:2])\n",
    "print(text01[-2]) => 뒤에서부터 -1 시작"
   ]
  },
  {
   "cell_type": "code",
   "execution_count": 1,
   "id": "0b12b426-4064-4492-809d-4f2851710c08",
   "metadata": {},
   "outputs": [
    {
     "name": "stdout",
     "output_type": "stream",
     "text": [
      "Hello world\n"
     ]
    }
   ],
   "source": [
    "print(\"Hello world\")"
   ]
  },
  {
   "cell_type": "code",
   "execution_count": 5,
   "id": "682e191f-361d-41b7-8f36-5aa6e7a247ea",
   "metadata": {},
   "outputs": [
    {
     "name": "stdout",
     "output_type": "stream",
     "text": [
      "<class 'int'>\n",
      "<class 'str'>\n"
     ]
    }
   ],
   "source": [
    "#자료 타입이 왜 중요한가?\n",
    "print(type(1))\n",
    "print(type(\"1\"))"
   ]
  },
  {
   "cell_type": "code",
   "execution_count": 9,
   "id": "bea0dbea-1f95-48e9-9f42-ee2d945952c4",
   "metadata": {},
   "outputs": [
    {
     "name": "stdout",
     "output_type": "stream",
     "text": [
      "10\n",
      "-4\n",
      "21\n",
      "0.42857142857142855\n",
      "50\n"
     ]
    }
   ],
   "source": [
    "num01 = 3\n",
    "num02 = 7\n",
    "\n",
    "print(num01 + num02)\n",
    "print(num01 - num02)\n",
    "print(num01 * num02)\n",
    "print(num01 / num02)\n",
    "print((7 + 3) * 5)"
   ]
  },
  {
   "cell_type": "code",
   "execution_count": 15,
   "id": "27ab91ce-a783-45eb-b7d8-72a2ef717f87",
   "metadata": {},
   "outputs": [
    {
     "name": "stdout",
     "output_type": "stream",
     "text": [
      "7.5\n",
      "2\n",
      "1\n",
      "8\n",
      "9\n"
     ]
    }
   ],
   "source": [
    "print(15 / 2)\n",
    "print(15 // 7)\n",
    "print(15 % 7)\n",
    "print(2 ** 3)\n",
    "print(3 ** 2)"
   ]
  },
  {
   "cell_type": "code",
   "execution_count": 17,
   "id": "4e73f2fb-7d4c-4375-ac4c-f50be8631e82",
   "metadata": {},
   "outputs": [
    {
     "name": "stdout",
     "output_type": "stream",
     "text": [
      "<class 'str'> <class 'int'> <class 'float'> <class 'bool'>\n"
     ]
    }
   ],
   "source": [
    "str_data = \"Hello\" # 문자열\n",
    "int_data = 1 #정수\n",
    "float_data = 1.1 #부동소수\n",
    "bool_data = True #논리형\n",
    "\n",
    "print(type(str_data), type(int_data), type(float_data), type(bool_data))"
   ]
  },
  {
   "cell_type": "code",
   "execution_count": 20,
   "id": "f3b7f151-4a82-40db-a169-4d2beea9dccb",
   "metadata": {},
   "outputs": [
    {
     "name": "stdout",
     "output_type": "stream",
     "text": [
      "30\n"
     ]
    }
   ],
   "source": [
    "digit1 = 10\n",
    "digit2 = 20\n",
    "name = \"Jimmy\"\n",
    "\n",
    "print(digit1 + digit2) #동일 자료형태의 경우에는 연산처리 가능"
   ]
  },
  {
   "cell_type": "code",
   "execution_count": null,
   "id": "962f4833-6a77-423d-b8a1-af847c6891ca",
   "metadata": {},
   "outputs": [],
   "source": [
    "# above : 위쪽에 셀 추가\n",
    "# below : 아래쪽에 셀 추가\n",
    "# dd : 셀 삭제"
   ]
  },
  {
   "cell_type": "code",
   "execution_count": null,
   "id": "e7b6e2c5-3ed1-4ce5-a52c-a0050ee9a9f0",
   "metadata": {},
   "outputs": [],
   "source": [
    "num1 = 2\n",
    "num2 = 4\n",
    "\n",
    "print(num1 < num2)\n",
    "print(num1 > num2)\n",
    "print(num1 >= num2)\n",
    "print(num1 <= num2)\n",
    "print(num1 == num2)\n",
    "print(num1 != num2) \n",
    "#변수명 명확! \n",
    "#sneak 표기법 : Hellow_world(2번째)\n",
    "#camel 표기법 : helloWorld(*추천)\n",
    "#Hungarian 표기법 : HelloWorld\n",
    "#변수의 이름 숫자로 표기되면 안됨!! Must!\n"
   ]
  },
  {
   "cell_type": "code",
   "execution_count": null,
   "id": "f82edcd8-d256-4bb8-8c13-8a477d1855fe",
   "metadata": {},
   "outputs": [],
   "source": [
    "age = 24\n",
    "name = \"Jimmy\"\n",
    "height = 180\n",
    "Weight = 67\n",
    "foot_size = 270\n",
    "glass = False\n",
    "marriage = True\n",
    "gender = \"male\"\n",
    "hobby = \"swimming\"# F-Stirng = Formatted Strin"
   ]
  },
  {
   "cell_type": "code",
   "execution_count": null,
   "id": "d767ced0-8819-4ae2-a966-458f6b0e37e8",
   "metadata": {},
   "outputs": [],
   "source": [
    "## 반지름이 10인 변수를 해당 반지름을 기중으로 하는 선언하시고, 지름 ,둘레, 넓이"
   ]
  },
  {
   "cell_type": "code",
   "execution_count": 4,
   "id": "1a683333-1192-4763-b0d4-717c0551500e",
   "metadata": {},
   "outputs": [
    {
     "name": "stdout",
     "output_type": "stream",
     "text": [
      "반지름 :  200\n",
      "넓이 :  31400.0\n",
      "지름 :  628.0\n",
      "1.반지름 : 100\n"
     ]
    }
   ],
   "source": [
    "half = 100\n",
    "full = half * 2\n",
    "pie = 3.14\n",
    "print(\"반지름 : \", full), print(\"넓이 : \", pie * half ** 2), print(\"지름 : \", pie * full)\n",
    "print(f\"1.반지름 : {half}\")"
   ]
  },
  {
   "cell_type": "code",
   "execution_count": 5,
   "id": "bce8339a-3772-4705-96b7-16ed454c17e5",
   "metadata": {},
   "outputs": [
    {
     "name": "stdin",
     "output_type": "stream",
     "text": [
      "What is your name? Jimmy\n",
      "Where are you from? seoul\n"
     ]
    },
    {
     "name": "stdout",
     "output_type": "stream",
     "text": [
      "Hi Jimmy from seoul\n"
     ]
    },
    {
     "name": "stdin",
     "output_type": "stream",
     "text": [
      "How old are you? a\n"
     ]
    },
    {
     "name": "stdout",
     "output_type": "stream",
     "text": [
      "<class 'str'>\n"
     ]
    }
   ],
   "source": [
    "name = input(\"What is your name?\")\n",
    "address = input(\"Where are you from?\")\n",
    "print(f\"Hi {name} from {address}\")\n",
    "age = input(\"How old are you?\")\n",
    "\n",
    "print(type(age))"
   ]
  },
  {
   "cell_type": "code",
   "execution_count": 8,
   "id": "e2426358-dddc-4139-ac81-59cd27447d12",
   "metadata": {},
   "outputs": [
    {
     "name": "stdin",
     "output_type": "stream",
     "text": [
      " 10\n",
      " 10\n"
     ]
    },
    {
     "name": "stdout",
     "output_type": "stream",
     "text": [
      "100\n"
     ]
    }
   ],
   "source": [
    "num1 = int(input())\n",
    "num2 = int(input())\n",
    "#형변환\n",
    "print(num1 * num2)"
   ]
  },
  {
   "cell_type": "code",
   "execution_count": 17,
   "id": "effe059e-c22e-4fc3-a72b-cacceed639ca",
   "metadata": {},
   "outputs": [
    {
     "name": "stdout",
     "output_type": "stream",
     "text": [
      "6.3\n",
      "6\n",
      "1.0 <class 'int'>\n",
      "1 <class 'int'>\n",
      "<class 'str'>\n"
     ]
    }
   ],
   "source": [
    "num3 = 6.3\n",
    "num4 = 1\n",
    "\n",
    "print(num3)\n",
    "print(int(num3))\n",
    "\n",
    "print(float(num4),type(num4))\n",
    "print(str(num4),type(num4))\n",
    "num5 = str(num4)\n",
    "print(type(num5))"
   ]
  },
  {
   "cell_type": "code",
   "execution_count": 42,
   "id": "6e8a51cd-593b-45fb-b7ef-51e4b7e1fe23",
   "metadata": {},
   "outputs": [
    {
     "name": "stdout",
     "output_type": "stream",
     "text": [
      "성인이 된 기훈은 이혼한 뒤 대리운전 기사 등을 전전하다 백발의 노모에게 얹혀살고 있었고,\n",
      "하나뿐인 어린 딸 가영의 생일 선물을 살 돈도 어머니에게서 받아내는 비루한 인생을 살고 있었다.\n",
      "이혼 후 가영은 재혼한 전처가 키우고 있었지만, 기훈은 가영의 생일도 챙겨주지 않고 어머니의 돈을\n",
      "몰래 빼내서 경마 도박에 올인하는데 딸의 생일(6월 8일) 날짜를 이용해 베팅하며 우여곡절 끝에\n",
      "456만 원이라는 거금을 얻게 된다.[4] 밖으로 나와 가영이와 전화 통화를 하며 즐거워하던 것도\n",
      "잠시, 자신을 찾아온 사채업자 김정래 대표 때문에 황급히 도망치다 누군가와 부딪히고 주머니에\n",
      "있는 455만 원을 전부 소매치기당하고 만다. 기훈은 이를 눈치챌 틈도 없이 도망치다 결국\n",
      "사채업자들에게 붙잡혀 화장실에서 신체포기각서를 쓰게 된다.[5] 어떻게든 만 원이라도 만들어서\n",
      "[6] 인형뽑기로 권총 라이터를 선물했다가[7] 황급히 가져간 뒤에 떡볶이를 사주지만, 아버지\n",
      "노릇도 제대로 못해준 나머지 그저 자괴감만 든다. 결국 \"내년 생일에는 더 잘 챙겨줄게.\"라며\n",
      "애써 가영을 위로하지만 가영이는 아무런 대답을 못하고 머뭇거린다.\n"
     ]
    }
   ],
   "source": [
    "article1 = \"주인공 성기훈의 내레이션과 함께, 어릴 적 기훈이 동네 친구들과의 오징어 게임에서 이기는 장면을 보여준 후 타이틀이 등장하면서 시작한다.\"\n",
    "article2 = \"\"\"성인이 된 기훈은 이혼한 뒤 대리운전 기사 등을 전전하다 백발의 노모에게 얹혀살고 있었고,\n",
    "하나뿐인 어린 딸 가영의 생일 선물을 살 돈도 어머니에게서 받아내는 비루한 인생을 살고 있었다.\n",
    "이혼 후 가영은 재혼한 전처가 키우고 있었지만, 기훈은 가영의 생일도 챙겨주지 않고 어머니의 돈을\n",
    "몰래 빼내서 경마 도박에 올인하는데 딸의 생일(6월 8일) 날짜를 이용해 베팅하며 우여곡절 끝에\n",
    "456만 원이라는 거금을 얻게 된다.[4] 밖으로 나와 가영이와 전화 통화를 하며 즐거워하던 것도\n",
    "잠시, 자신을 찾아온 사채업자 김정래 대표 때문에 황급히 도망치다 누군가와 부딪히고 주머니에\n",
    "있는 455만 원을 전부 소매치기당하고 만다. 기훈은 이를 눈치챌 틈도 없이 도망치다 결국\n",
    "사채업자들에게 붙잡혀 화장실에서 신체포기각서를 쓰게 된다.[5] 어떻게든 만 원이라도 만들어서\n",
    "[6] 인형뽑기로 권총 라이터를 선물했다가[7] 황급히 가져간 뒤에 떡볶이를 사주지만, 아버지\n",
    "노릇도 제대로 못해준 나머지 그저 자괴감만 든다. 결국 \"내년 생일에는 더 잘 챙겨줄게.\"라며\n",
    "애써 가영을 위로하지만 가영이는 아무런 대답을 못하고 머뭇거린다.\"\"\"\n",
    "print(article2)"
   ]
  },
  {
   "cell_type": "code",
   "execution_count": null,
   "id": "8e1cb8a5-dd59-4d82-9cdb-1af303049262",
   "metadata": {},
   "outputs": [],
   "source": [
    "# article2라는 변수를 선언, 해당 변수에 문자열 형태의 값을 할당\n",
    "# article2라는 변수에 문자열 행태의 값이 할당됨으로 인해서 이제 article2라는 변수는 문자열 객체라고 부를 수 도 있게 됨!!\n",
    "# 행바꿈, 문자열 1을 얻음(대행은 하나의 문자열) / 문자열의 시작은 0\n",
    "# 문자열은 인덱스 값을 가짐, 처음은 \n",
    "\n",
    "# 동의보감 => 동 : 0번쨰 인덱스 // 감 : 3 => 문자열의 전체 총개수 - 1 = 마지막번쨰 문자열의 인덱스값과 항상 동일\n",
    "article2"
   ]
  },
  {
   "cell_type": "code",
   "execution_count": 43,
   "id": "24ae1168-b6fe-442f-8024-4439ac0429c9",
   "metadata": {},
   "outputs": [
    {
     "name": "stdout",
     "output_type": "stream",
     "text": [
      "3\n",
      "567\n",
      "0\n"
     ]
    }
   ],
   "source": [
    "print(article2.count(\"기훈\"))\n",
    "print(len(article2))\n",
    "print(article2.find(\"성\"))"
   ]
  },
  {
   "cell_type": "code",
   "execution_count": 52,
   "id": "7919bb6a-769c-4d89-a752-52662b1f2bd7",
   "metadata": {},
   "outputs": [
    {
     "name": "stdout",
     "output_type": "stream",
     "text": [
      "US Senators have spent more than 24 hours negotiating amendments to a mega-bill on tax and spending that appears to have stalled without enough votes to pass.\n",
      "\n",
      "Four Republicans in the Senate have said they cannot support the nearly 1,000 page legislation as it stands, but with a slim margin of control the party needs to win over only one senator.\n",
      "\n",
      "Once the bill passes the Senate, it will need to return to the House of Representatives where it faces another tough battle as Republicans control the chamber by only a few votes.\n",
      "\n",
      "While President Donald Trump previously told Congress he wanted the legislation on his desk by 4 July, on Tuesday he conceded it would be \"very hard\" to meet that deadline.\n",
      "6\n",
      "2\n",
      "US Senators have spent more more 24 hours negotiating amendments to a mega-bill on tax and spending that appears to have stalled without enough votes to pass.\n",
      "\n",
      "Four Republicans in the Senate have said they cannot support the nearly 1,000 page legislation as it stands, but with a slim margin of control the party needs to win over only one senator.\n",
      "\n",
      "Once the bill passes the Senate, it will need to return to the House of Representatives where it faces another tough battle as Republicans control the chamber by only a few votes.\n",
      "\n",
      "While President Donald Trump previously told Congress he wanted the legislation on his desk by 4 July, on Tuesday he conceded it would be \"very hard\" to meet that deadline.\n"
     ]
    }
   ],
   "source": [
    "article3 = \"\"\"US Senators have spent more than 24 hours negotiating amendments to a mega-bill on tax and spending that appears to have stalled without enough votes to pass.\n",
    "\n",
    "Four Republicans in the Senate have said they cannot support the nearly 1,000 page legislation as it stands, but with a slim margin of control the party needs to win over only one senator.\n",
    "\n",
    "Once the bill passes the Senate, it will need to return to the House of Representatives where it faces another tough battle as Republicans control the chamber by only a few votes.\n",
    "\n",
    "While President Donald Trump previously told Congress he wanted the legislation on his desk by 4 July, on Tuesday he conceded it would be \"very hard\" to meet that deadline.\"\"\"\n",
    "\n",
    "print(article3)\n",
    "print(article3.find(\"a\"))\n",
    "print(article3.find(\" \"))\n",
    "print(article3.replace(\"than\",\"more\"))"
   ]
  },
  {
   "cell_type": "code",
   "execution_count": 68,
   "id": "54c2eff6-c63f-472b-b1ad-61261f55d388",
   "metadata": {},
   "outputs": [
    {
     "name": "stdout",
     "output_type": "stream",
     "text": [
      "python\n",
      "p\n",
      "6\n",
      "n\n",
      "o\n"
     ]
    }
   ],
   "source": [
    "# 파이썬 > 문자열 > 슬라이스 기능\n",
    "\n",
    "text01 = \"python\"\n",
    "print(text01)\n",
    "print(text01[0])\n",
    "print(len(text01))\n",
    "print(text01[len(text01) - 1])\n",
    "print(text01[-2])"
   ]
  },
  {
   "cell_type": "code",
   "execution_count": 73,
   "id": "8355eaa2-1005-450a-8e66-a4e44308ceed",
   "metadata": {},
   "outputs": [
    {
     "name": "stdout",
     "output_type": "stream",
     "text": [
      "14\n",
      "computer\n",
      "8\n",
      "Jimmy\n"
     ]
    }
   ],
   "source": [
    "some_string = \"   computer   \"\n",
    "print(len(some_string))\n",
    "print(some_string.strip())\n",
    "some_string2 = some_string.strip()\n",
    "print(len(some_string2))\n",
    "some_string3 = \"...Jimmy...\"\n",
    "print(some_string3.strip(\".\"))"
   ]
  },
  {
   "cell_type": "code",
   "execution_count": 80,
   "id": "6903c681-56fa-4edd-bb4e-35ca05b6c61b",
   "metadata": {},
   "outputs": [
    {
     "name": "stdout",
     "output_type": "stream",
     "text": [
      "I have a pen. I have a apple\n",
      "I hace a pen. I have a apple\n",
      "I hace a apple. I have a pen\n"
     ]
    }
   ],
   "source": [
    "var01 = \"pen\"\n",
    "var02 = \"apple\"\n",
    "\n",
    "print(f\"I have a {var01}. I have a {var02}\")\n",
    "\n",
    "print(\"I hace a {}. I have a {}\".format(\"pen\",\"apple\"))\n",
    "print(\"I hace a {1}. I have a {0}\".format(\"pen\",\"apple\"))"
   ]
  },
  {
   "cell_type": "code",
   "execution_count": 85,
   "id": "c2aef131-3556-4561-8716-0184385e585e",
   "metadata": {},
   "outputs": [
    {
     "name": "stdout",
     "output_type": "stream",
     "text": [
      "0.90\n"
     ]
    }
   ],
   "source": [
    "interest = 0.897\n",
    "print(format(interest,\".2f\"))"
   ]
  },
  {
   "cell_type": "code",
   "execution_count": 88,
   "id": "774ce25e-38fb-4442-bd28-d2f78534bc13",
   "metadata": {},
   "outputs": [
    {
     "name": "stdout",
     "output_type": "stream",
     "text": [
      "I have a pen. I have a apple.\n",
      "I have a 100. I have a apple.\n",
      "I have a 100.000000. I have a apple.\n"
     ]
    }
   ],
   "source": [
    "print(\"I have a %s. I have a %s.\" % (\"pen\",\"apple\"))\n",
    "print(\"I have a %d. I have a %s.\" % (100,\"apple\"))\n",
    "print(\"I have a %f. I have a %s.\" % (100,\"apple\"))\n",
    "\n",
    "# %s : 문자열 입력\n",
    "# %d : 정수 입력\n",
    "# %f : 부동소수값 입력"
   ]
  }
 ],
 "metadata": {
  "kernelspec": {
   "display_name": "Python [conda env:base] *",
   "language": "python",
   "name": "conda-base-py"
  },
  "language_info": {
   "codemirror_mode": {
    "name": "ipython",
    "version": 3
   },
   "file_extension": ".py",
   "mimetype": "text/x-python",
   "name": "python",
   "nbconvert_exporter": "python",
   "pygments_lexer": "ipython3",
   "version": "3.13.5"
  }
 },
 "nbformat": 4,
 "nbformat_minor": 5
}
