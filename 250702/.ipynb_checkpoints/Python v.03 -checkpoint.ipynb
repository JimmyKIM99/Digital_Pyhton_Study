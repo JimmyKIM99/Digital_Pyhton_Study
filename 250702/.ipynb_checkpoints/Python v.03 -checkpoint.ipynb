{
 "cells": [
  {
   "cell_type": "markdown",
   "id": "a31198fe-e03a-4ba3-a550-e3cd069a9ff4",
   "metadata": {},
   "source": [
    "### 조건문\n",
    "\n",
    "if 조건 : \n",
    "    실행문 -> 들여쓰기가 꼭 되어야 한다\n",
    "if 조건1 and 조건2 :\n",
    "    실행문\n",
    "if 조건1 or 조건2 :\n",
    "    실행문\n",
    "if not 조건 :\n",
    "    실행문\n",
    "'''\n",
    "ㅊ\n",
    "'''\n",
    "if 조건 :\n",
    "    실행문\n",
    "else :\n",
    "    실행문\n",
    "'''\n",
    "if 조건 :\n",
    "    실행문\n",
    "elif :\n",
    "    실행문\n",
    "else :\n",
    "    실행문"
   ]
  },
  {
   "cell_type": "code",
   "execution_count": null,
   "id": "95139b7e-b4dd-4a4a-850c-dd4b6c289f1d",
   "metadata": {},
   "outputs": [],
   "source": [
    "### else문 유의사항\n",
    "- 어떤 조건문 안에서도 1회\n",
    "- else문 조건문 중간 절대 인력할 수 없음\n",
    "- else문 독림적으로 조건식을 받을 수 없음\n",
    "- else 필수값 X"
   ]
  },
  {
   "cell_type": "code",
   "execution_count": 2,
   "id": "83a5d5a3-f025-4b7b-b06b-070b3ba520c4",
   "metadata": {},
   "outputs": [
    {
     "name": "stdin",
     "output_type": "stream",
     "text": [
      "당신의 나이는? 24\n"
     ]
    },
    {
     "name": "stdout",
     "output_type": "stream",
     "text": [
      "당신은 성인입니다\n"
     ]
    }
   ],
   "source": [
    "age = int(input(\"당신의 나이는?\"))\n",
    "if age >= 19 :\n",
    "    print(\"당신은 성인입니다\")"
   ]
  },
  {
   "cell_type": "code",
   "execution_count": 4,
   "id": "a926dd98-5238-439d-b36e-8fa1b59e6596",
   "metadata": {},
   "outputs": [
    {
     "name": "stdin",
     "output_type": "stream",
     "text": [
      "인성이의 나이는? 20\n",
      "지성이의 나이는? 20\n"
     ]
    },
    {
     "name": "stdout",
     "output_type": "stream",
     "text": [
      "영화관 입장 가능\n"
     ]
    }
   ],
   "source": [
    "age1 = int(input(\"인성이의 나이는?\"))\n",
    "age2 = int(input(\"지성이의 나이는?\"))\n",
    "\n",
    "if age1 >= 19 and age2 >= 20 :\n",
    "    print(\"영화관 입장 가능\")"
   ]
  },
  {
   "cell_type": "code",
   "execution_count": 6,
   "id": "647872c6-f66d-4b79-a543-7d485194e142",
   "metadata": {},
   "outputs": [
    {
     "name": "stdin",
     "output_type": "stream",
     "text": [
      "승헌이의 나이는? 20\n"
     ]
    },
    {
     "name": "stdout",
     "output_type": "stream",
     "text": [
      "영화관입장가능\n"
     ]
    }
   ],
   "source": [
    "age3 = int(input(\"승헌이의 나이는?\"))\n",
    "\n",
    "if not age3 <= 19 :\n",
    "    print(\"영화관입장가능\")"
   ]
  },
  {
   "cell_type": "code",
   "execution_count": 8,
   "id": "e84401ac-f1a4-4a18-92b9-078bc5e73600",
   "metadata": {},
   "outputs": [
    {
     "name": "stdin",
     "output_type": "stream",
     "text": [
      "현재 가지고 있는 현금은 얼마인가요? 10000000000\n"
     ]
    },
    {
     "name": "stdout",
     "output_type": "stream",
     "text": [
      "오늘 저녁 빕스\n"
     ]
    }
   ],
   "source": [
    "cash = int(input(\"현재 가지고 있는 현금은 얼마인가요?\"))\n",
    "\n",
    "if cash > 100000 :\n",
    "    print(\"오늘 저녁 빕스\")\n",
    "else :\n",
    "    print(\"오늘 저녁은 집에서\")"
   ]
  },
  {
   "cell_type": "code",
   "execution_count": 11,
   "id": "3b939e14-4264-405c-a12f-ba530565aed8",
   "metadata": {},
   "outputs": [
    {
     "name": "stdin",
     "output_type": "stream",
     "text": [
      "당신의 나이는? 20\n"
     ]
    },
    {
     "name": "stdout",
     "output_type": "stream",
     "text": [
      "당신은 성인입니다\n"
     ]
    }
   ],
   "source": [
    "example01 = int(input(\"당신의 나이는?\"))\n",
    "if example01 >= 19 :\n",
    "    print(\"당신은 성인입니다\")\n",
    "else :\n",
    "    print(\"당신은 미성년입니다\")"
   ]
  },
  {
   "cell_type": "code",
   "execution_count": 25,
   "id": "7e618e9c-bcb3-4753-b862-148244725151",
   "metadata": {},
   "outputs": [
    {
     "name": "stdin",
     "output_type": "stream",
     "text": [
      "당신의 나이는? 2\n"
     ]
    },
    {
     "name": "stdout",
     "output_type": "stream",
     "text": [
      "당신은 아동입니다\n"
     ]
    }
   ],
   "source": [
    "age4 = int(input(\"당신의 나이는?\"))\n",
    "if age4 >= 19 :\n",
    "    print(\"당신은 성인입니다.\")\n",
    "elif age4 >= 13 :\n",
    "    print(\"당신은 청소년입니다\")\n",
    "else :\n",
    "    print(\"당신은 아동입니다\")     "
   ]
  },
  {
   "cell_type": "code",
   "execution_count": 26,
   "id": "4f12f197-7e66-4de4-98d3-c447e5f965c1",
   "metadata": {},
   "outputs": [
    {
     "name": "stdin",
     "output_type": "stream",
     "text": [
      "예산 10000\n"
     ]
    },
    {
     "name": "stdout",
     "output_type": "stream",
     "text": [
      "집\n"
     ]
    }
   ],
   "source": [
    "budget01 = int(input(\"예산\"))\n",
    "if budget01 >= 100000 :\n",
    "    print(\"레스토랑\")\n",
    "elif budget01 >= 50000 :\n",
    "    print(\"뷔페\")\n",
    "else :\n",
    "    print(\"집\")"
   ]
  },
  {
   "cell_type": "code",
   "execution_count": 30,
   "id": "ae7f7255-6105-4f45-8cb0-d7dd4925a2e6",
   "metadata": {},
   "outputs": [
    {
     "name": "stdin",
     "output_type": "stream",
     "text": [
      "예산 70000\n"
     ]
    },
    {
     "name": "stdout",
     "output_type": "stream",
     "text": [
      "뷔페\n"
     ]
    }
   ],
   "source": [
    "cash = int(input(\"예산\"))\n",
    "if cash >= 100000 :\n",
    "    print(\"레스토랑\")\n",
    "else :\n",
    "    if cash >= 50000 :\n",
    "        print(\"뷔페\")\n",
    "    else :\n",
    "        print(\"집\")"
   ]
  },
  {
   "cell_type": "code",
   "execution_count": 40,
   "id": "104f8743-af75-48ce-8fa3-b9b2b5a49e1c",
   "metadata": {},
   "outputs": [
    {
     "name": "stdin",
     "output_type": "stream",
     "text": [
      "예산 65000\n"
     ]
    },
    {
     "name": "stdout",
     "output_type": "stream",
     "text": [
      "한식집\n"
     ]
    }
   ],
   "source": [
    "cash02 = int(input(\"예산\"))\n",
    "if cash02 > 100000 :\n",
    "    print(\"레스토랑\")\n",
    "elif cash02 > 70000 :\n",
    "    print(\"페밀리레스토랑\")\n",
    "elif cash02 > 60000 :\n",
    "    print(\"한식집\")\n",
    "elif cash02 < 50000 :\n",
    "    print(\"집\")\n",
    "else :\n",
    "    print(\"분식집\")"
   ]
  },
  {
   "cell_type": "code",
   "execution_count": 43,
   "id": "54e5555d-439d-4315-89b2-e1a8cd340dc3",
   "metadata": {},
   "outputs": [
    {
     "ename": "SyntaxError",
     "evalue": "expected ':' (2290305242.py, line 7)",
     "output_type": "error",
     "traceback": [
      "\u001b[1;36m  Cell \u001b[1;32mIn[43], line 7\u001b[1;36m\u001b[0m\n\u001b[1;33m    else cash02 > 60000 :\u001b[0m\n\u001b[1;37m         ^\u001b[0m\n\u001b[1;31mSyntaxError\u001b[0m\u001b[1;31m:\u001b[0m expected ':'\n"
     ]
    }
   ],
   "source": [
    "cash02 = int(input(\"예산\"))\n",
    "if cash02 > 100000 :\n",
    "    print(\"레스토랑\")\n",
    "else :\n",
    "    if cash02 > 70000 :\n",
    "        print(\"페밀리레스토랑\")\n",
    "        if cash02 > 50000\n",
    "    elif cash > 60000\n",
    "            \n",
    "                        print(\"분식집\")"
   ]
  },
  {
   "cell_type": "code",
   "execution_count": null,
   "id": "612e5b51-4910-4ab4-b6a0-0a66da9aabbd",
   "metadata": {},
   "outputs": [],
   "source": [
    "- 숫자 홀수 / 짝수 분별 출석"
   ]
  },
  {
   "cell_type": "code",
   "execution_count": 53,
   "id": "8b939d7a-beec-47ae-8ad6-36738064a50f",
   "metadata": {},
   "outputs": [
    {
     "name": "stdin",
     "output_type": "stream",
     "text": [
      " 2\n"
     ]
    },
    {
     "name": "stdout",
     "output_type": "stream",
     "text": [
      "홀수\n"
     ]
    }
   ],
   "source": [
    "number1 = int(input())\n",
    "number2 = number1 / 2\n",
    "if float(\"%f\" % number2) > 0 :\n",
    "    print(\"홀수\")\n",
    "else :\n",
    "    print(\"짝수\")"
   ]
  },
  {
   "cell_type": "code",
   "execution_count": 58,
   "id": "7ca3002b-38bf-40a9-8edb-91cfcd0523e5",
   "metadata": {
    "scrolled": true
   },
   "outputs": [
    {
     "name": "stdin",
     "output_type": "stream",
     "text": [
      " 10\n",
      " 20\n",
      " 30\n"
     ]
    },
    {
     "ename": "TypeError",
     "evalue": "'NoneType' object is not subscriptable",
     "output_type": "error",
     "traceback": [
      "\u001b[1;31m---------------------------------------------------------------------------\u001b[0m",
      "\u001b[1;31mTypeError\u001b[0m                                 Traceback (most recent call last)",
      "Cell \u001b[1;32mIn[58], line 6\u001b[0m\n\u001b[0;32m      3\u001b[0m num30 \u001b[38;5;241m=\u001b[39m \u001b[38;5;28mint\u001b[39m(\u001b[38;5;28minput\u001b[39m())\n\u001b[0;32m      5\u001b[0m number3 \u001b[38;5;241m=\u001b[39m [num10, num20, num30]\n\u001b[1;32m----> 6\u001b[0m \u001b[38;5;28mprint\u001b[39m(number3\u001b[38;5;241m.\u001b[39msort()[\u001b[38;5;241m0\u001b[39m])\n",
      "\u001b[1;31mTypeError\u001b[0m: 'NoneType' object is not subscriptable"
     ]
    }
   ],
   "source": [
    "num10 = int(input())\n",
    "num20 = int(input())\n",
    "num30 = int(input())\n",
    "\n",
    "number3 = [num10, num20, num30]\n",
    "print(number3.sort()[0])"
   ]
  }
 ],
 "metadata": {
  "kernelspec": {
   "display_name": "Python [conda env:base] *",
   "language": "python",
   "name": "conda-base-py"
  },
  "language_info": {
   "codemirror_mode": {
    "name": "ipython",
    "version": 3
   },
   "file_extension": ".py",
   "mimetype": "text/x-python",
   "name": "python",
   "nbconvert_exporter": "python",
   "pygments_lexer": "ipython3",
   "version": "3.13.5"
  }
 },
 "nbformat": 4,
 "nbformat_minor": 5
}
