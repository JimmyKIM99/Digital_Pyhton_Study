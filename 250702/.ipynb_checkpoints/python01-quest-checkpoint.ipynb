{
 "cells": [
  {
   "cell_type": "code",
   "execution_count": 1,
   "id": "848bb27c-bf33-4904-9447-2ed904b90f12",
   "metadata": {},
   "outputs": [
    {
     "name": "stdout",
     "output_type": "stream",
     "text": [
      "Hello Wolrd\n"
     ]
    }
   ],
   "source": [
    "print(\"Hello Wolrd\")"
   ]
  },
  {
   "cell_type": "code",
   "execution_count": 2,
   "id": "88df4cd6-d8d7-4f90-b317-cc713a3d206b",
   "metadata": {},
   "outputs": [
    {
     "name": "stdout",
     "output_type": "stream",
     "text": [
      "3.1\n"
     ]
    }
   ],
   "source": [
    "var01 = 3.1415\n",
    "print(format(var01,\".1f\"))"
   ]
  },
  {
   "cell_type": "code",
   "execution_count": 3,
   "id": "4bab1188-7035-4f29-9261-a4cff427a900",
   "metadata": {},
   "outputs": [
    {
     "name": "stdout",
     "output_type": "stream",
     "text": [
      "720\n"
     ]
    }
   ],
   "source": [
    "var02 = \"720\"\n",
    "var03 = int(var02)\n",
    "print(var03)"
   ]
  },
  {
   "cell_type": "code",
   "execution_count": 4,
   "id": "f83ab7d1-1d8f-46fc-9e9b-6fbd456db7e5",
   "metadata": {},
   "outputs": [
    {
     "name": "stdout",
     "output_type": "stream",
     "text": [
      "36\n"
     ]
    }
   ],
   "source": [
    "print(6**2)"
   ]
  },
  {
   "cell_type": "code",
   "execution_count": 14,
   "id": "f4ee060a-5a9e-40f8-9e21-43d458aaca98",
   "metadata": {},
   "outputs": [
    {
     "name": "stdin",
     "output_type": "stream",
     "text": [
      " 3\n",
      " 4\n"
     ]
    },
    {
     "name": "stdout",
     "output_type": "stream",
     "text": [
      "OUTPUT = 7\n"
     ]
    }
   ],
   "source": [
    "num01 = input()\n",
    "num02 = input()\n",
    "var01 = int(num01)\n",
    "var02 = int(num02)\n",
    "print(f\"OUTPUT = {var01+var02}\")"
   ]
  }
 ],
 "metadata": {
  "kernelspec": {
   "display_name": "Python [conda env:base] *",
   "language": "python",
   "name": "conda-base-py"
  },
  "language_info": {
   "codemirror_mode": {
    "name": "ipython",
    "version": 3
   },
   "file_extension": ".py",
   "mimetype": "text/x-python",
   "name": "python",
   "nbconvert_exporter": "python",
   "pygments_lexer": "ipython3",
   "version": "3.13.5"
  }
 },
 "nbformat": 4,
 "nbformat_minor": 5
}
