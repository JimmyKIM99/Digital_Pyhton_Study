{
 "cells": [
  {
   "cell_type": "code",
   "execution_count": null,
   "id": "5471e590-2748-4d6d-9702-0279c7156beb",
   "metadata": {},
   "outputs": [],
   "source": [
    "### 파이선 입출력 예시"
   ]
  },
  {
   "cell_type": "code",
   "execution_count": 7,
   "id": "d303216b-71c8-4c6d-8fff-4b9e08fbc6ff",
   "metadata": {},
   "outputs": [
    {
     "name": "stdin",
     "output_type": "stream",
     "text": [
      " 10\n",
      " 10\n"
     ]
    },
    {
     "name": "stdout",
     "output_type": "stream",
     "text": [
      "출력값 : 20\n"
     ]
    }
   ],
   "source": [
    "input01 = input()\n",
    "input02 = input()\n",
    "input03 = int(input01) + int(input02)\n",
    "print(f\"출력값 : {input03}\")"
   ]
  },
  {
   "cell_type": "code",
   "execution_count": 10,
   "id": "0fd10bb4-0bf8-4447-8a6c-4d7b387eef90",
   "metadata": {},
   "outputs": [
    {
     "ename": "NameError",
     "evalue": "name 'values' is not defined",
     "output_type": "error",
     "traceback": [
      "\u001b[1;31m---------------------------------------------------------------------------\u001b[0m",
      "\u001b[1;31mNameError\u001b[0m                                 Traceback (most recent call last)",
      "Cell \u001b[1;32mIn[10], line 1\u001b[0m\n\u001b[1;32m----> 1\u001b[0m numbers \u001b[38;5;241m=\u001b[39m [\u001b[38;5;28mint\u001b[39m(v) \u001b[38;5;28;01mfor\u001b[39;00m v \u001b[38;5;129;01min\u001b[39;00m values]\n\u001b[0;32m      2\u001b[0m \u001b[38;5;28mprint\u001b[39m(numbers, \u001b[38;5;28mtype\u001b[39m(numbers))\n",
      "\u001b[1;31mNameError\u001b[0m: name 'values' is not defined"
     ]
    }
   ],
   "source": [
    "numbers = [int(v) for v in values]\n",
    "print(numbers, type(numbers))"
   ]
  },
  {
   "cell_type": "code",
   "execution_count": 21,
   "id": "5e690365-010e-4b6a-b3ec-397ed06e7a25",
   "metadata": {},
   "outputs": [
    {
     "name": "stdin",
     "output_type": "stream",
     "text": [
      " 10\n",
      " 10\n"
     ]
    },
    {
     "name": "stdout",
     "output_type": "stream",
     "text": [
      "출력값 :  20 100 1.0\n",
      "출력값 : 20 100 1.0\n",
      "10 // 10 = 1\n"
     ]
    }
   ],
   "source": [
    "num01 = int(input())\n",
    "num02 = int(input())\n",
    "print(\"출력값 : \", num01 + num02, num01 * num02, num01 / num02)\n",
    "print(f\"출력값 : {num01 + num02} {num01 * num02} {num01 / num02}\")\n",
    "print(num01, \"//\", num02, \"=\", num01//num02)"
   ]
  },
  {
   "cell_type": "code",
   "execution_count": null,
   "id": "33fc1248-9655-449b-8e75-bdf37b4dbba2",
   "metadata": {},
   "outputs": [],
   "source": [
    "### 데이터 자료 구조 - (list)\n",
    "- 파이썬의 리스트(list) => 배열(array)\n",
    "- 프로그래밍 언어 => 패턴을 가지고 있는 반복적인 작업을 대신 해줌 => 리터러블하다 => 반복적이다\n",
    "- []대괄호, list 객체, 여러 값을 복수로 넣을 수 있음\n",
    "- 리스트 자료구조는 내부에 입력된 갚에 고유한 개별적인 인덱스(index)값을 부여! + 문자열(리터러블)\n",
    "  0부터 시작함\n",
    "- list.append -> 리스트 하나의 매개변수 추가\n",
    "- 리스트에서 특정 인덱스값 찾기 [인덱스]\n",
    "- .remove() 왼쪽부터 서칭, 발견시 삭제\n",
    "- del 변수명[인덱스값] -> 해당 인덱스값 삭제\n",
    "- [시작인덱스 : 종료인덱스 + 1] 문자열과 동일하게 슬라이싱 기능 O / 찾을려는 값 + 1\n",
    "- .extend() -> 리스트 구조에서 신규 값을 추가, 그 안의 값은 list 형태\n",
    "- .insert(index값, 추가값) -> 원하는 index 값에 값을 추가\n",
    "- .sort() : 리스트 안의 값을 오름차순 정렬\n",
    "- .reverse() : 리스트 안의 값을 내림차순 정렬\n",
    "\n",
    "### list 자료 구조 생성 방법\n",
    "- 직접 대괄호 작성 후 내부에 요소들을 입력하는 방법(ex, mydata = [ ... ]\n",
    "- lint = [] 값이 없는 lsit 정의, 값을 채워가는 방법\n",
    "- 파이썬 class 문법을 통해 이미 생성된 리스트 프로토타입을 활용해서 인스턴스 객체를 생성하는 방법\n",
    "  ex) location02 = list() => 변수에 list() 함수로 속성을 할당, 리스트 프로토타입 할당(속성 할당)\n",
    "\n",
    "### 자료의 형변환\n",
    "- .split() => 문자열의 자료형태를 인자값을 기준으로 나눠서 리스트 자료형태로 변환시켜주는 함수"
   ]
  },
  {
   "cell_type": "code",
   "execution_count": 23,
   "id": "e807e0ac-e2da-4bd5-b42f-f3c25de2c5b5",
   "metadata": {},
   "outputs": [
    {
     "name": "stdout",
     "output_type": "stream",
     "text": [
      "오마이뉴스\n",
      "한국일보\n",
      "시사뉴스\n",
      "스포츠조선\n"
     ]
    }
   ],
   "source": [
    "mydata = [\"hello\", 1, 2, \"world\"]\n",
    "news = [\"오마이뉴스\", \"한국일보\", \"시사뉴스\", \"스포츠조선\"]\n",
    "\n",
    "for media in news :\n",
    "    print(media)"
   ]
  },
  {
   "cell_type": "code",
   "execution_count": 28,
   "id": "601b89ff-0228-49e4-adaa-d9ac678bb7ba",
   "metadata": {},
   "outputs": [
    {
     "name": "stdout",
     "output_type": "stream",
     "text": [
      "서울시\n",
      "['서울시', '경기도', '인천시']\n",
      "<class 'list'>\n"
     ]
    }
   ],
   "source": [
    "location = [\"서울시\", \"경기도\", \"인천시\"]\n",
    "\n",
    "print(location[0])\n",
    "print(location)\n",
    "print(type(location))"
   ]
  },
  {
   "cell_type": "code",
   "execution_count": 32,
   "id": "bab5318b-7273-49da-8446-50a4d4f4cb16",
   "metadata": {},
   "outputs": [
    {
     "data": {
      "text/plain": [
       "['서울시', '경기도', '인천시', '부산시', '부산시']"
      ]
     },
     "execution_count": 32,
     "metadata": {},
     "output_type": "execute_result"
    }
   ],
   "source": [
    "location.append(\"부산시\")\n",
    "# print(location)"
   ]
  },
  {
   "cell_type": "code",
   "execution_count": 37,
   "id": "03fde02a-11f3-4f54-a12c-86fa1d1c4c70",
   "metadata": {},
   "outputs": [
    {
     "name": "stdout",
     "output_type": "stream",
     "text": [
      "완도군\n"
     ]
    },
    {
     "data": {
      "text/plain": [
       "'부산시'"
      ]
     },
     "execution_count": 37,
     "metadata": {},
     "output_type": "execute_result"
    }
   ],
   "source": [
    "location.append(\"완도군\")\n",
    "print(location[-1])\n",
    "location[-5]"
   ]
  },
  {
   "cell_type": "code",
   "execution_count": 41,
   "id": "782e7e92-f78e-4223-91c0-b2a2618fdd8a",
   "metadata": {},
   "outputs": [
    {
     "data": {
      "text/plain": [
       "['인천시', '부산시']"
      ]
     },
     "execution_count": 41,
     "metadata": {},
     "output_type": "execute_result"
    }
   ],
   "source": [
    "location[2:4]"
   ]
  },
  {
   "cell_type": "code",
   "execution_count": 43,
   "id": "3242aafb-dad0-412a-91c8-d250c2e5765d",
   "metadata": {},
   "outputs": [
    {
     "data": {
      "text/plain": [
       "['서울시', '경기도', '인천시', '완도군', '완도군', '완도군', '완도군']"
      ]
     },
     "execution_count": 43,
     "metadata": {},
     "output_type": "execute_result"
    }
   ],
   "source": [
    "location.remove(\"부산시\")\n",
    "location"
   ]
  },
  {
   "cell_type": "code",
   "execution_count": 46,
   "id": "516778d4-ee3b-4b5f-9454-3c3c21492a62",
   "metadata": {},
   "outputs": [],
   "source": [
    "location.remove(\"완도군\")"
   ]
  },
  {
   "cell_type": "code",
   "execution_count": 49,
   "id": "80c4ea9f-af52-47e1-8a9d-751faa44b526",
   "metadata": {},
   "outputs": [
    {
     "data": {
      "text/plain": [
       "['서울시']"
      ]
     },
     "execution_count": 49,
     "metadata": {},
     "output_type": "execute_result"
    }
   ],
   "source": [
    "location[0:1]"
   ]
  },
  {
   "cell_type": "code",
   "execution_count": 50,
   "id": "e0bd5652-ab2e-4f56-8335-a904a874b7bb",
   "metadata": {},
   "outputs": [],
   "source": [
    "del location [3]"
   ]
  },
  {
   "cell_type": "code",
   "execution_count": 51,
   "id": "c62c8619-be1a-45fd-b4bf-2b1ab4f031e0",
   "metadata": {},
   "outputs": [
    {
     "data": {
      "text/plain": [
       "['서울시', '경기도', '인천시']"
      ]
     },
     "execution_count": 51,
     "metadata": {},
     "output_type": "execute_result"
    }
   ],
   "source": [
    "location"
   ]
  },
  {
   "cell_type": "code",
   "execution_count": 58,
   "id": "d7c7c68e-61c9-4ab3-a067-805278bebe35",
   "metadata": {},
   "outputs": [
    {
     "data": {
      "text/plain": [
       "['서울시', '경기도', '인천시', '천안', '대구']"
      ]
     },
     "execution_count": 58,
     "metadata": {},
     "output_type": "execute_result"
    }
   ],
   "source": [
    "location.extend([\"천안\", \"대구\"])\n",
    "location"
   ]
  },
  {
   "cell_type": "code",
   "execution_count": 59,
   "id": "83db4c39-1481-4b37-b114-14b9c8e2441f",
   "metadata": {},
   "outputs": [],
   "source": [
    "location.insert(0, \"제주도\")"
   ]
  },
  {
   "cell_type": "code",
   "execution_count": 60,
   "id": "c4e589fc-f3ae-4c0f-b1d8-673c1d8767b1",
   "metadata": {},
   "outputs": [
    {
     "data": {
      "text/plain": [
       "['제주도', '서울시', '경기도', '인천시', '천안', '대구']"
      ]
     },
     "execution_count": 60,
     "metadata": {},
     "output_type": "execute_result"
    }
   ],
   "source": [
    "location"
   ]
  },
  {
   "cell_type": "code",
   "execution_count": 65,
   "id": "1d6b1495-b205-4b71-9f5b-1820ee1b1e78",
   "metadata": {},
   "outputs": [
    {
     "data": {
      "text/plain": [
       "['강원도']"
      ]
     },
     "execution_count": 65,
     "metadata": {},
     "output_type": "execute_result"
    }
   ],
   "source": [
    "location01 = []\n",
    "type(location01)\n",
    "location01.append(\"강원도\")\n",
    "location01"
   ]
  },
  {
   "cell_type": "code",
   "execution_count": 63,
   "id": "3b8e62d3-4f59-44f7-8fdd-ed584dd93769",
   "metadata": {},
   "outputs": [
    {
     "data": {
      "text/plain": [
       "['제주도', '서울시', '경기도', '인천시', '천안', '대구', '강원도']"
      ]
     },
     "execution_count": 63,
     "metadata": {},
     "output_type": "execute_result"
    }
   ],
   "source": [
    "location"
   ]
  },
  {
   "cell_type": "code",
   "execution_count": 68,
   "id": "692381ef-95e7-4d95-86a5-d11620ca3354",
   "metadata": {},
   "outputs": [
    {
     "name": "stdout",
     "output_type": "stream",
     "text": [
      "<class 'list'>\n"
     ]
    }
   ],
   "source": [
    "location02 = list()\n",
    "print(type(location02))"
   ]
  },
  {
   "cell_type": "code",
   "execution_count": 72,
   "id": "c5d8339c-75dc-46ea-ae48-46039c841ed5",
   "metadata": {},
   "outputs": [
    {
     "name": "stdout",
     "output_type": "stream",
     "text": [
      "[2, 1, 4, 3]\n",
      "[1, 2, 3, 4]\n",
      "[4, 3, 2, 1]\n"
     ]
    }
   ],
   "source": [
    "numbers = [2, 1, 4, 3]\n",
    "print(numbers)\n",
    "\n",
    "numbers.sort()\n",
    "print(numbers)\n",
    "\n",
    "numbers.reverse()\n",
    "print(numbers)"
   ]
  },
  {
   "cell_type": "code",
   "execution_count": 75,
   "id": "a483c61e-063a-4bfe-9f8b-4b3022f4a45f",
   "metadata": {},
   "outputs": [
    {
     "name": "stdout",
     "output_type": "stream",
     "text": [
      "1\n"
     ]
    },
    {
     "data": {
      "text/plain": [
       "'python'"
      ]
     },
     "execution_count": 75,
     "metadata": {},
     "output_type": "execute_result"
    }
   ],
   "source": [
    "phythonbasic = \"python is easy\"\n",
    "print(phythonbasic.count(\"python\"))\n",
    "pylist = phythonbasic.split()\n",
    "pylist[0]"
   ]
  }
 ],
 "metadata": {
  "kernelspec": {
   "display_name": "Python [conda env:base] *",
   "language": "python",
   "name": "conda-base-py"
  },
  "language_info": {
   "codemirror_mode": {
    "name": "ipython",
    "version": 3
   },
   "file_extension": ".py",
   "mimetype": "text/x-python",
   "name": "python",
   "nbconvert_exporter": "python",
   "pygments_lexer": "ipython3",
   "version": "3.13.5"
  }
 },
 "nbformat": 4,
 "nbformat_minor": 5
}
