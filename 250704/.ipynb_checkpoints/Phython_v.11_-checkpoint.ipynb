{
 "cells": [
  {
   "cell_type": "code",
   "execution_count": null,
   "id": "17b95934-37b8-499f-b446-a88f80d9f94e",
   "metadata": {},
   "outputs": [],
   "source": [
    "### 자료구조 : set = 집합\n",
    "- 서로 다른 그룹 간 연산 작업을 보다 쉽게 하기 위한 목적으로 탄생된 자료 구조\n",
    "- set() // list() // tuple() // dict()\n",
    "- list / (*각각의 세부값에 인덱스 부여, 리터러블 객체, 반복문 가능)\n",
    "- 튜플 (*각각의 세부값에 인덱스 부여, 리터러블 객체, 반복문 가능_\n",
    "- dictonary(*각각의 세부값에 인덱수 값 부여 X, 리터러블한 객체X, 반복문X)\n",
    "- set(*인덱스 값을 부여받지 않음, 리터러블한 객체) => 유사 배열\n",
    "- & (교집합)\n",
    "- | (합집합)\n",
    "- - (차집합)\n",
    "- ^ (캐럿) : 교집합을 제외한 나머지값\n",
    "=> 크롤링 시, 찾아온 값이 거의 대부분 리스트형태로 들어옴!!! => 굳이 반복적으로 값을 찾아오는 경우 부지기수 => 중복된 값을 하나로 정리하는 기능"
   ]
  },
  {
   "cell_type": "code",
   "execution_count": 2,
   "id": "4e546312-ba56-4b61-a05e-a332c654036a",
   "metadata": {},
   "outputs": [
    {
     "data": {
      "text/plain": [
       "set"
      ]
     },
     "execution_count": 2,
     "metadata": {},
     "output_type": "execute_result"
    }
   ],
   "source": [
    "data_set01 = set()\n",
    "type(data_set01)"
   ]
  },
  {
   "cell_type": "code",
   "execution_count": 3,
   "id": "2bc0c08b-dac2-4459-b5aa-f4d6337c11ad",
   "metadata": {},
   "outputs": [
    {
     "data": {
      "text/plain": [
       "{'apple', 'dell', 'lg'}"
      ]
     },
     "execution_count": 3,
     "metadata": {},
     "output_type": "execute_result"
    }
   ],
   "source": [
    "data_set02 = {\"apple\", \"dell\", \"lg\"}\n",
    "data_set02"
   ]
  },
  {
   "cell_type": "code",
   "execution_count": 6,
   "id": "b0f91574-fe29-4931-98fe-9e9ecfe3443c",
   "metadata": {},
   "outputs": [
    {
     "data": {
      "text/plain": [
       "{'a', 'e', 'l', 'p'}"
      ]
     },
     "execution_count": 6,
     "metadata": {},
     "output_type": "execute_result"
    }
   ],
   "source": [
    "data_set03 = set(\"apple\") #=> 단일값가능, 분절되어서 나옴\n",
    "data_set03"
   ]
  },
  {
   "cell_type": "code",
   "execution_count": 7,
   "id": "5b6f66f4-5308-4a59-b9c5-b17e1da5a5e3",
   "metadata": {},
   "outputs": [
    {
     "data": {
      "text/plain": [
       "{'apple', 'dell', 'lg'}"
      ]
     },
     "execution_count": 7,
     "metadata": {},
     "output_type": "execute_result"
    }
   ],
   "source": [
    "{\"apple\", \"dell\", \"lg\"}"
   ]
  },
  {
   "cell_type": "code",
   "execution_count": 9,
   "id": "0ef6a677-b69a-465f-8337-67c8db883ab5",
   "metadata": {},
   "outputs": [
    {
     "name": "stdout",
     "output_type": "stream",
     "text": [
      "lg\n",
      "apple\n",
      "dell\n"
     ]
    }
   ],
   "source": [
    "for data in data_set02 :\n",
    "    print(data)"
   ]
  },
  {
   "cell_type": "code",
   "execution_count": 14,
   "id": "994c8fe4-c963-4fbe-8814-3ea6fcf165dc",
   "metadata": {},
   "outputs": [
    {
     "name": "stdout",
     "output_type": "stream",
     "text": [
      "False\n",
      "True\n"
     ]
    }
   ],
   "source": [
    "#data_set02[0]\n",
    "\n",
    "print(\"motorola\" in data_set02)\n",
    "print(\"apple\" in data_set02)"
   ]
  },
  {
   "cell_type": "code",
   "execution_count": 18,
   "id": "cc5a1dad-fccb-4303-81b8-75645281b21f",
   "metadata": {},
   "outputs": [],
   "source": [
    "data04 = {\"피카츄\", \"라이츄\", \"꼬부기\"}"
   ]
  },
  {
   "cell_type": "code",
   "execution_count": 17,
   "id": "a5baed0e-6da9-4dae-922a-5ff42a872b58",
   "metadata": {},
   "outputs": [],
   "source": [
    "data05 = {\"잠만보\", \"파이리\", \"피카츄\"}"
   ]
  },
  {
   "cell_type": "code",
   "execution_count": 19,
   "id": "3a83b846-27eb-4e73-bab4-3c009cd893ea",
   "metadata": {},
   "outputs": [
    {
     "data": {
      "text/plain": [
       "{'피카츄'}"
      ]
     },
     "execution_count": 19,
     "metadata": {},
     "output_type": "execute_result"
    }
   ],
   "source": [
    "data04 & data05"
   ]
  },
  {
   "cell_type": "code",
   "execution_count": 20,
   "id": "1719a2be-28ef-431d-b949-87a980452e20",
   "metadata": {},
   "outputs": [
    {
     "data": {
      "text/plain": [
       "{'꼬부기', '라이츄', '잠만보', '파이리', '피카츄'}"
      ]
     },
     "execution_count": 20,
     "metadata": {},
     "output_type": "execute_result"
    }
   ],
   "source": [
    "data04 | data05"
   ]
  },
  {
   "cell_type": "code",
   "execution_count": 21,
   "id": "00ac88cf-491a-4be1-9c3c-81ad4f64fa4a",
   "metadata": {},
   "outputs": [
    {
     "data": {
      "text/plain": [
       "{'꼬부기', '라이츄'}"
      ]
     },
     "execution_count": 21,
     "metadata": {},
     "output_type": "execute_result"
    }
   ],
   "source": [
    "data04 - data05"
   ]
  },
  {
   "cell_type": "code",
   "execution_count": 22,
   "id": "76c0bd8e-c8fa-4688-a699-7d42a579dc6e",
   "metadata": {},
   "outputs": [
    {
     "data": {
      "text/plain": [
       "{'꼬부기', '라이츄', '잠만보', '파이리'}"
      ]
     },
     "execution_count": 22,
     "metadata": {},
     "output_type": "execute_result"
    }
   ],
   "source": [
    "data04 ^ data05"
   ]
  },
  {
   "cell_type": "code",
   "execution_count": null,
   "id": "d22e5a8e-b81e-4c09-a716-6e94c87959f0",
   "metadata": {},
   "outputs": [],
   "source": [
    "numbers = [1, 2, 3, 4, 5]\n",
    "\n",
    "for i in range(len(numbers)):\n",
    "    numbers[i] = numbers[i] * 2  # 인덱스로 직접 수정\n",
    "\n",
    "print(numbers)  # [2, 4, 6, 8, 10]"
   ]
  }
 ],
 "metadata": {
  "kernelspec": {
   "display_name": "Python [conda env:base] *",
   "language": "python",
   "name": "conda-base-py"
  },
  "language_info": {
   "codemirror_mode": {
    "name": "ipython",
    "version": 3
   },
   "file_extension": ".py",
   "mimetype": "text/x-python",
   "name": "python",
   "nbconvert_exporter": "python",
   "pygments_lexer": "ipython3",
   "version": "3.13.5"
  }
 },
 "nbformat": 4,
 "nbformat_minor": 5
}
