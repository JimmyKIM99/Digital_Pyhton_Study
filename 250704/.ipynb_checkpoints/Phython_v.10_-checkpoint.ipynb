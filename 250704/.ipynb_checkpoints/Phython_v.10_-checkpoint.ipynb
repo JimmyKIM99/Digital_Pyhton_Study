{
 "cells": [
  {
   "cell_type": "code",
   "execution_count": null,
   "id": "ebdaaa67-8c1b-4177-87e9-ac66612418a8",
   "metadata": {},
   "outputs": [],
   "source": [
    "### 웹 사이트 데이터를 크롤링 해오자!!\n",
    "- 크롤링 : 마치 동물의 발톱 혹은 갈퀴로 어떤 정보를 잡아채온다 개념\n",
    "- 크롤링은 파이썬에서만 할 수 있나요? 파이썬이 아닌 언어로도 충분히 예전부터 가능\n",
    "- 파이썬은 문법이 타 언어대비 심플 & 간소 => 초심자 학습하기에 매우 좋음\n",
    "- 꼭 굳이 개발자가 아니더라도, 비개발자 보다 쉽고 간편하고 빠르게 개발언어 활용 크롤링 가능\n",
    "- Why 다른 언어 복잡? => 파이썬 언어는 내부 혹은 외부 라이브러리 소스를 가져다가 사용할 수 있는 기회 혹은 상황이 정말 많다\n",
    "- beautifulsoup4 : 아래의 requests 통해서 찾아온 HTML 문서를 파싱 \n",
    "- requests : 크롤링 해오고자 하는 웹 사이트 요청 -> HTML 문서 안에 있는 코드를 가져오는 역할\n",
    "HTML -> DOM(Document Object Model) / SSG -> CSSOM(CSS Object Model)  => 파씽(passing) => 실행(이그제크팅)\n",
    "=> 모든 Website X / static(정적) site ~> danamic(동적) site (JavaScripte)\n",
    "    -> Meta(React->모듈화 시킨 JavasScripte, 모듈화)\n",
    "-셀레니윰, 스크레치 -> 프레임웍 탄생\n",
    "- 프레임웍 : 독자적 문법\n",
    "- Library : 주도권 언어(파이썬)가지고 있음, 문법 최적화(동일)\n",
    "- pip install (...) -> 라이브러리 설치\n",
    "enumerate( , ) -> 반목문 실행, index 값 찾기 가능 (첫번째 index값 부여 객체, 두번째 시작값)"
   ]
  },
  {
   "cell_type": "code",
   "execution_count": null,
   "id": "5a411e89-ed27-4965-b5c9-de7ac3cdf906",
   "metadata": {},
   "outputs": [],
   "source": [
    "- 외부 라이브러리 설치 필요"
   ]
  },
  {
   "cell_type": "code",
   "execution_count": 1,
   "id": "4dbd3b77-00e4-414f-9c78-ed57b191eed0",
   "metadata": {},
   "outputs": [
    {
     "name": "stdout",
     "output_type": "stream",
     "text": [
      "Requirement already satisfied: requests in c:\\users\\user\\anaconda3\\lib\\site-packages (2.32.3)\n",
      "Requirement already satisfied: charset-normalizer<4,>=2 in c:\\users\\user\\anaconda3\\lib\\site-packages (from requests) (3.3.2)\n",
      "Requirement already satisfied: idna<4,>=2.5 in c:\\users\\user\\anaconda3\\lib\\site-packages (from requests) (3.7)\n",
      "Requirement already satisfied: urllib3<3,>=1.21.1 in c:\\users\\user\\anaconda3\\lib\\site-packages (from requests) (2.3.0)\n",
      "Requirement already satisfied: certifi>=2017.4.17 in c:\\users\\user\\anaconda3\\lib\\site-packages (from requests) (2025.6.15)\n",
      "Note: you may need to restart the kernel to use updated packages.\n"
     ]
    }
   ],
   "source": [
    "pip install requests"
   ]
  },
  {
   "cell_type": "code",
   "execution_count": 3,
   "id": "bee7e340-6020-44f0-8745-fcb470e5d2b0",
   "metadata": {},
   "outputs": [
    {
     "name": "stdout",
     "output_type": "stream",
     "text": [
      "Requirement already satisfied: beautifulsoup4 in c:\\users\\user\\anaconda3\\lib\\site-packages (4.12.3)\n",
      "Requirement already satisfied: soupsieve>1.2 in c:\\users\\user\\anaconda3\\lib\\site-packages (from beautifulsoup4) (2.5)\n",
      "Note: you may need to restart the kernel to use updated packages.\n"
     ]
    }
   ],
   "source": [
    "pip install beautifulsoup4"
   ]
  },
  {
   "cell_type": "code",
   "execution_count": 27,
   "id": "d42fcd71-919e-42e7-84a5-3fc5e2a44e16",
   "metadata": {},
   "outputs": [
    {
     "name": "stdout",
     "output_type": "stream",
     "text": [
      "1번째 / 상품 카테고리 : 매트리스커버 관련 상품 추천 / 상품이미지 : https://davelee-fun.github.io\n",
      "2번째 / 상품 카테고리 : 매트리스커버 관련 상품 추천 / 상품이미지 : https://davelee-fun.github.io\n",
      "3번째 / 상품 카테고리 : 매트리스커버 관련 상품 추천 / 상품이미지 : https://davelee-fun.github.io\n",
      "4번째 / 상품 카테고리 : 매트리스커버 관련 상품 추천 / 상품이미지 : https://davelee-fun.github.io\n",
      "5번째 / 상품 카테고리 : 매트리스커버 관련 상품 추천 / 상품이미지 : https://davelee-fun.github.io\n",
      "6번째 / 상품 카테고리 : 매트리스커버 관련 상품 추천 / 상품이미지 : https://davelee-fun.github.io\n",
      "7번째 / 상품 카테고리 : 매트리스커버 관련 상품 추천 / 상품이미지 : https://davelee-fun.github.io\n",
      "8번째 / 상품 카테고리 : 매트리스커버 관련 상품 추천 / 상품이미지 : https://davelee-fun.github.io\n",
      "9번째 / 상품 카테고리 : 행거도어 관련 상품 추천 / 상품이미지 : https://davelee-fun.github.io\n",
      "10번째 / 상품 카테고리 : 매트리스커버 관련 상품 추천 / 상품이미지 : https://davelee-fun.github.io\n",
      "11번째 / 상품 카테고리 : 매트리스커버 관련 상품 추천 / 상품이미지 : https://davelee-fun.github.io\n",
      "12번째 / 상품 카테고리 : 매트리스커버 관련 상품 추천 / 상품이미지 : https://davelee-fun.github.io\n"
     ]
    }
   ],
   "source": [
    "import requests\n",
    "from bs4 import BeautifulSoup\n",
    "\n",
    "url = \"https://davelee-fun.github.io\"\n",
    "response = requests.get(url)\n",
    "soup = BeautifulSoup(response.text, \"html.parser\")\n",
    "\n",
    "cards = soup.select(\"div.maxthumb img\")\n",
    "card_data = []\n",
    "\n",
    "for indx, card in enumerate(cards, 1) :\n",
    "    title = card.get(\"alt\", \"제목 없음\").strip()\n",
    "    image_url = card.get(\"src\", \"\").strip()\n",
    "\n",
    "    card_info = (indx, title, url)\n",
    "    card_data.append(card_info)\n",
    "\n",
    "for item in card_data :\n",
    "    print(f\"{item[0]}번째 / 상품 카테고리 : {item[1]} / 상품이미지 : {item[2]}\")"
   ]
  }
 ],
 "metadata": {
  "kernelspec": {
   "display_name": "Python [conda env:base] *",
   "language": "python",
   "name": "conda-base-py"
  },
  "language_info": {
   "codemirror_mode": {
    "name": "ipython",
    "version": 3
   },
   "file_extension": ".py",
   "mimetype": "text/x-python",
   "name": "python",
   "nbconvert_exporter": "python",
   "pygments_lexer": "ipython3",
   "version": "3.13.5"
  }
 },
 "nbformat": 4,
 "nbformat_minor": 5
}
