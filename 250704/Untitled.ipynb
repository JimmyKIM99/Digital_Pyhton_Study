{
 "cells": [
  {
   "cell_type": "code",
   "execution_count": 20,
   "id": "d5b6519a-bf41-417d-a4b6-0227a71ee5ba",
   "metadata": {},
   "outputs": [
    {
     "name": "stdout",
     "output_type": "stream",
     "text": [
      "3\n"
     ]
    }
   ],
   "source": [
    "list01 = []\n",
    "for i in range(5) :\n",
    "    list01.append(i+1)\n",
    "print(list01[2])"
   ]
  },
  {
   "cell_type": "code",
   "execution_count": 22,
   "id": "5c9bac69-f220-4f3c-a68d-de18e04e09ec",
   "metadata": {},
   "outputs": [
    {
     "name": "stdout",
     "output_type": "stream",
     "text": [
      "300\n"
     ]
    }
   ],
   "source": [
    "tuple1 = (100, 200, 300)\n",
    "print(tuple1[2])"
   ]
  },
  {
   "cell_type": "code",
   "execution_count": 9,
   "id": "7eed9a3e-a90e-4ae5-b179-beec2e1903e1",
   "metadata": {},
   "outputs": [
    {
     "name": "stdout",
     "output_type": "stream",
     "text": [
      "apple : 3\n",
      "banana : 5\n",
      "orange : 2\n"
     ]
    }
   ],
   "source": [
    "dict1 = {\"apple\": 3, \"banana\": 5}\n",
    "dict2 = {\"orange\" : 2}\n",
    "for item01 in dict2.keys() :\n",
    "    dict1[item01] = dict2[item01]\n",
    "\n",
    "\n",
    "for item in dict1.keys() :\n",
    "    print(f\"{item} : {dict1[item]}\")"
   ]
  },
  {
   "cell_type": "code",
   "execution_count": 6,
   "id": "3ffbbf1a-a5b9-42e5-89b8-82a0f55c1e9a",
   "metadata": {},
   "outputs": [
    {
     "ename": "KeyError",
     "evalue": "'banana'",
     "output_type": "error",
     "traceback": [
      "\u001b[1;31m---------------------------------------------------------------------------\u001b[0m",
      "\u001b[1;31mKeyError\u001b[0m                                  Traceback (most recent call last)",
      "Cell \u001b[1;32mIn[6], line 1\u001b[0m\n\u001b[1;32m----> 1\u001b[0m \u001b[38;5;28;01mdel\u001b[39;00m dict1[\u001b[38;5;124m\"\u001b[39m\u001b[38;5;124mbanana\u001b[39m\u001b[38;5;124m\"\u001b[39m]\n\u001b[0;32m      2\u001b[0m \u001b[38;5;28mprint\u001b[39m(dict1)\n",
      "\u001b[1;31mKeyError\u001b[0m: 'banana'"
     ]
    }
   ],
   "source": [
    "for item in "
   ]
  }
 ],
 "metadata": {
  "kernelspec": {
   "display_name": "Python [conda env:base] *",
   "language": "python",
   "name": "conda-base-py"
  },
  "language_info": {
   "codemirror_mode": {
    "name": "ipython",
    "version": 3
   },
   "file_extension": ".py",
   "mimetype": "text/x-python",
   "name": "python",
   "nbconvert_exporter": "python",
   "pygments_lexer": "ipython3",
   "version": "3.13.5"
  }
 },
 "nbformat": 4,
 "nbformat_minor": 5
}
