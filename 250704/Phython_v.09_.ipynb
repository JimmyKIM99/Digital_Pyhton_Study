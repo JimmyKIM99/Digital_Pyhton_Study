{
 "cells": [
  {
   "cell_type": "code",
   "execution_count": null,
   "id": "7b894fb6-a4f7-4aba-aacb-78d2ab391832",
   "metadata": {},
   "outputs": [],
   "source": [
    "### 파이썬 자료구조\n",
    "- list\n",
    "~ HTML 문서에서 제목이 여러게있는 경우\n",
    "\n",
    "- tuple => 하나의 그룹에 순번을 매겨서 값을 저장해놓은 형태\n",
    "- dictionary => 사전 {단어 : 뜻, 형태, 예시 등등 세부정보}\n",
    " => key(단어), value(해당 단어에 대한 의미) => 속성(promperty)\n",
    "data_dict[\"미국\"] = \"US\" => dic 데이터 추가, 대괄호 안에 값 = 데이터 value 추가\n",
    "del data_dict[\"일본\"] # => 데이터 제거, 키를 기준으로\n",
    "data_dict[\"미국\"] = \"USA\" => #키를 기준으로 Value change\n",
    "print(type(keys)) #value 값은 list 값\n",
    "keys = data_dict.keys() # => .keys 함수, dict_keys(['한국', '중국', '미국']), 리스트 형식 출력\n",
    "values1 = data_dict.values() # => .values 함수, dict_values(['KR', 'CN', 'USA']), 리스트 형식으로 출력\n",
    "items1 = data_dict.items() # => .items 함수 dict_items([('한국', 'KR'), ('중국', 'CN'), ('미국', 'USA')]), 튜플 + 리스트 형식으로 출력\n",
    "~> dictionary 개체들, (.keys, .values, .items), list형식, But .items -> 튜플 형식으로 저장\n",
    "\n",
    "- CRUD => 웹사이트의 구현정도 // 프로그램의 난이도 // 고급언어인지 아닌지, 저급 언어인지 구별\n",
    "    Create // Read // Update // Delete => 고급 언어, 난이도 상단계 포지션\n",
    "- 프로그래밍언어는 절대 정답X => 예제 문제 => 문제 해결 방법 // 문제 해결 방법 different -> 효과/효율, 지향하는 것 무엇?\n",
    "    보통 -> 코드 처리 시간 -> 시간복잡도, 어떤 코드가 실행됨에 있어 얼마큼 빨리 처리하느냐\n",
    "    => 비오 개념 // 빅오게마(firt) // 빅세타(2-3) // 빅오 개념(7)\n",
    "- 빅오 시간 체크 => 가장 많이 시간을 차지하는 것 하나를 체크 ~> 반복문"
   ]
  },
  {
   "cell_type": "code",
   "execution_count": 2,
   "id": "90ab70eb-1735-49d9-9417-33d1141246ca",
   "metadata": {},
   "outputs": [
    {
     "data": {
      "text/plain": [
       "{'name': 'Jimmy'}"
      ]
     },
     "execution_count": 2,
     "metadata": {},
     "output_type": "execute_result"
    }
   ],
   "source": [
    "# dict1 = {\"name\"#key: \"Jimmy\"#value}\n",
    "dict1"
   ]
  },
  {
   "cell_type": "code",
   "execution_count": null,
   "id": "d790e197-4f10-498e-9cee-0a891a7228a0",
   "metadata": {},
   "outputs": [],
   "source": [
    "dict2 = {\"korean\":95, \"math\":100, \"science\":80}"
   ]
  },
  {
   "cell_type": "code",
   "execution_count": 4,
   "id": "01ee93e8-923d-4eaa-a434-a346a0ffa194",
   "metadata": {},
   "outputs": [
    {
     "name": "stdout",
     "output_type": "stream",
     "text": [
      "<class 'dict'>\n"
     ]
    }
   ],
   "source": [
    "#list = [], [1, 2], list()\n",
    "#tuple = (), (1, 2), tuple()\n",
    "\n",
    "dict1 = {} #{} dict 아닌 => set 자료구조 될수도 있음\n",
    "dict2 = dict()\n",
    "\n",
    "print(type(dict2))"
   ]
  },
  {
   "cell_type": "code",
   "execution_count": 5,
   "id": "4fb086e9-8c89-4f45-bfdf-4afdd8fc7b37",
   "metadata": {},
   "outputs": [],
   "source": [
    "data_dict = {\"한국\":\"KR\", \"일본\":\"JP\", \"중국\":\"CN\"}"
   ]
  },
  {
   "cell_type": "code",
   "execution_count": 8,
   "id": "c40ae443-015b-413e-8fb6-2cac745df9a3",
   "metadata": {},
   "outputs": [
    {
     "data": {
      "text/plain": [
       "'KR'"
      ]
     },
     "execution_count": 8,
     "metadata": {},
     "output_type": "execute_result"
    }
   ],
   "source": [
    "data_dict[\"한국\"]"
   ]
  },
  {
   "cell_type": "code",
   "execution_count": 11,
   "id": "c8393849-7e76-4817-b254-42a5554841d8",
   "metadata": {},
   "outputs": [],
   "source": [
    "data_dict[\"미국\"] = \"US\""
   ]
  },
  {
   "cell_type": "code",
   "execution_count": 12,
   "id": "85b6222a-e766-4f96-9057-2aa9d8fab97b",
   "metadata": {},
   "outputs": [
    {
     "data": {
      "text/plain": [
       "{'한국': 'KR', '일본': 'JP', '중국': 'CN', '미국': 'US'}"
      ]
     },
     "execution_count": 12,
     "metadata": {},
     "output_type": "execute_result"
    }
   ],
   "source": [
    "data_dict"
   ]
  },
  {
   "cell_type": "code",
   "execution_count": 13,
   "id": "71605582-93a3-4355-9841-7689d8c915b2",
   "metadata": {},
   "outputs": [],
   "source": [
    "del data_dict[\"일본\"] # => 데이터 제거, 키를 기준으로"
   ]
  },
  {
   "cell_type": "code",
   "execution_count": 14,
   "id": "2e5db205-27a0-488f-b1e0-0151d1f6b4ed",
   "metadata": {},
   "outputs": [
    {
     "data": {
      "text/plain": [
       "{'한국': 'KR', '중국': 'CN', '미국': 'US'}"
      ]
     },
     "execution_count": 14,
     "metadata": {},
     "output_type": "execute_result"
    }
   ],
   "source": [
    "data_dict"
   ]
  },
  {
   "cell_type": "code",
   "execution_count": 16,
   "id": "79a46685-c5c4-4af9-9d1f-906a383652ff",
   "metadata": {},
   "outputs": [],
   "source": [
    "data_dict[\"미국\"] = \"USA\" => 키를 기준으로 Value change"
   ]
  },
  {
   "cell_type": "code",
   "execution_count": 17,
   "id": "21280199-6319-4e72-92d7-d6145843e019",
   "metadata": {},
   "outputs": [
    {
     "data": {
      "text/plain": [
       "{'한국': 'KR', '중국': 'CN', '미국': 'USA'}"
      ]
     },
     "execution_count": 17,
     "metadata": {},
     "output_type": "execute_result"
    }
   ],
   "source": [
    "data_dict"
   ]
  },
  {
   "cell_type": "code",
   "execution_count": 29,
   "id": "807ec07b-6874-4b33-b176-a20752992f76",
   "metadata": {},
   "outputs": [
    {
     "name": "stdout",
     "output_type": "stream",
     "text": [
      "dict_keys(['한국', '중국', '미국'])\n",
      "<class 'dict_keys'>\n",
      "dict_values(['KR', 'CN', 'USA'])\n",
      "dict_items([('한국', 'KR'), ('중국', 'CN'), ('미국', 'USA')])\n"
     ]
    }
   ],
   "source": [
    "keys = data_dict.keys()\n",
    "print(keys)\n",
    "print(type(keys)) #value 값은 list 값\n",
    "\n",
    "values1 = data_dict.values()\n",
    "print(values1)\n",
    "\n",
    "items1 = data_dict.items()\n",
    "print(items1)"
   ]
  },
  {
   "cell_type": "code",
   "execution_count": 28,
   "id": "5066735e-1e1a-4938-b6e6-abbdbea7ac21",
   "metadata": {},
   "outputs": [
    {
     "name": "stdout",
     "output_type": "stream",
     "text": [
      "한국\n",
      "중국\n",
      "미국\n"
     ]
    }
   ],
   "source": [
    "for key in keys :\n",
    "    print(key)"
   ]
  },
  {
   "cell_type": "code",
   "execution_count": 34,
   "id": "4127367b-3212-4114-869d-82cbc21fd29d",
   "metadata": {},
   "outputs": [
    {
     "name": "stdin",
     "output_type": "stream",
     "text": [
      " 40\n"
     ]
    },
    {
     "name": "stdout",
     "output_type": "stream",
     "text": [
      "불합격\n"
     ]
    }
   ],
   "source": [
    "score1 = int(input())\n",
    "if score1 >= 80 :\n",
    "    print(\"합격\")\n",
    "else: \n",
    "    print(\"불합격\")"
   ]
  },
  {
   "cell_type": "code",
   "execution_count": 49,
   "id": "2940020f-9020-4065-828c-ab32fff228fe",
   "metadata": {},
   "outputs": [
    {
     "name": "stdout",
     "output_type": "stream",
     "text": [
      "10\n",
      "30\n",
      "60\n"
     ]
    }
   ],
   "source": [
    "list01 = [\"10\", \"20\", \"30\"]\n",
    "list02 = []\n",
    "for i in list01 :\n",
    "    list02.append(int(i))\n",
    "    print(sum(list02))"
   ]
  },
  {
   "cell_type": "code",
   "execution_count": 43,
   "id": "ff45953a-e6de-4649-95a9-382635e596b5",
   "metadata": {},
   "outputs": [
    {
     "name": "stdout",
     "output_type": "stream",
     "text": [
      "('한국', 'KR')\n",
      "('중국', 'CN')\n",
      "('미국', 'USA')\n"
     ]
    }
   ],
   "source": [
    "for item in items1 :\n",
    "    print(item)"
   ]
  },
  {
   "cell_type": "code",
   "execution_count": 45,
   "id": "3bc6737c-ae83-4339-9241-321651b794ea",
   "metadata": {},
   "outputs": [
    {
     "name": "stdout",
     "output_type": "stream",
     "text": [
      "뉴스A\n",
      "뉴스B\n",
      "뉴스C\n"
     ]
    }
   ],
   "source": [
    "titles = [\"뉴스A\", \"뉴스B\", \"뉴스C\"]\n",
    "for title in titles :\n",
    "    print(title)"
   ]
  },
  {
   "cell_type": "code",
   "execution_count": null,
   "id": "8fa317c3-a2aa-4103-ae28-53d1e7cefac9",
   "metadata": {},
   "outputs": [],
   "source": [
    "article01 = {\"title\":\"뉴스A\",\n",
    "            \"Link\":\"https://www.naver.com\"}\n",
    "article02 = \n",
    "   {\"title\":\"뉴스B\",\n",
    "    \"Link\":\"https://www.naver1.com\"}\n",
    "article_list = [article01, article02]"
   ]
  },
  {
   "cell_type": "code",
   "execution_count": null,
   "id": "fafaf25e-1dcb-46a0-9fce-a68f5731d82d",
   "metadata": {},
   "outputs": [],
   "source": [
    "num3 = input()\n",
    "if num3.split(\"-\") "
   ]
  }
 ],
 "metadata": {
  "kernelspec": {
   "display_name": "Python [conda env:base] *",
   "language": "python",
   "name": "conda-base-py"
  },
  "language_info": {
   "codemirror_mode": {
    "name": "ipython",
    "version": 3
   },
   "file_extension": ".py",
   "mimetype": "text/x-python",
   "name": "python",
   "nbconvert_exporter": "python",
   "pygments_lexer": "ipython3",
   "version": "3.13.5"
  }
 },
 "nbformat": 4,
 "nbformat_minor": 5
}
