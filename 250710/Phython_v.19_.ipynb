{
 "cells": [
  {
   "cell_type": "code",
   "execution_count": null,
   "id": "dfe123ef-6212-4c2d-805d-f0665fe8275b",
   "metadata": {},
   "outputs": [],
   "source": [
    "### 다음 사이트를 크롤링 할 수 BS4, Request를 활용해서 기본 세팅!"
   ]
  },
  {
   "cell_type": "code",
   "execution_count": 11,
   "id": "2a91ed67-160c-4622-8613-35daa5235e40",
   "metadata": {},
   "outputs": [
    {
     "data": {
      "text/plain": [
       "[<li class=\"nav-item active\">\n",
       " <a class=\"nav-link\" href=\"/index.html\">Blog</a>\n",
       " </li>,\n",
       " <li class=\"nav-item\">\n",
       " <a class=\"nav-link\" href=\"/about\">About</a>\n",
       " </li>]"
      ]
     },
     "execution_count": 11,
     "metadata": {},
     "output_type": "execute_result"
    }
   ],
   "source": [
    "import requests\n",
    "from bs4 import BeautifulSoup\n",
    "\n",
    "res = requests.get(\"https://davelee-fun.github.io/\")\n",
    "data = BeautifulSoup(res.content, \"html.parser\")\n",
    "\n",
    "data1 = data.select(\"li\", class_= \"nav-item active, nav-link\" )\n",
    "data1"
   ]
  },
  {
   "cell_type": "code",
   "execution_count": 13,
   "id": "f0373f46-3471-43de-8e1e-6469a79869c2",
   "metadata": {
    "scrolled": true
   },
   "outputs": [
    {
     "data": {
      "text/plain": [
       "'\\nhttps://davelee-fun.github.io/\\nhttps://davelee-fun.github.io/\\nhttps://davelee-fun.github.io/\\nhttps://davelee-fun.github.io/\\nhttps://davelee-fun.github.io/\\nhttps://davelee-fun.github.io/Home | Teddy의 선물 블로그https://davelee-fun.github.io/\\nhttps://davelee-fun.github.io/\\nhttps://davelee-fun.github.io/Home | Teddy의 선물 블로그https://davelee-fun.github.io/\\nhttps://davelee-fun.github.io/\\nhttps://davelee-fun.github.io/\\nhttps://davelee-fun.github.io/\\nhttps://davelee-fun.github.io/\\nhttps://davelee-fun.github.io/\\nhttps://davelee-fun.github.io/\\nhttps://davelee-fun.github.io/\\nhttps://davelee-fun.github.io/\\nhttps://davelee-fun.github.io/\\nhttps://davelee-fun.github.io/\\nhttps://davelee-fun.github.io/\\nhttps://davelee-fun.github.io/\\nhttps://davelee-fun.github.io/\\nhttps://davelee-fun.github.io/\\nhttps://davelee-fun.github.io/\\nhttps://davelee-fun.github.io/\\nhttps://davelee-fun.github.io/\\nhttps://davelee-fun.github.io/\\nhttps://davelee-fun.github.io/\\nhttps://davelee-fun.github.io/\\nhttps://davelee-fun.github.io/\\nhttps://davelee-fun.github.io/\\nhttps://davelee-fun.github.io/\\nhttps://davelee-fun.github.io/\\nhttps://davelee-fun.github.io/\\nhttps://davelee-fun.github.io/\\nhttps://davelee-fun.github.io/\\nhttps://davelee-fun.github.io/\\nhttps://davelee-fun.github.io/\\nhttps://davelee-fun.github.io/\\nhttps://davelee-fun.github.io/\\nhttps://davelee-fun.github.io/\\nhttps://davelee-fun.github.io/\\nhttps://davelee-fun.github.io/\\nhttps://davelee-fun.github.io/\\nhttps://davelee-fun.github.io/\\nhttps://davelee-fun.github.io/\\nhttps://davelee-fun.github.io/\\nhttps://davelee-fun.github.io/\\nhttps://davelee-fun.github.io/Bloghttps://davelee-fun.github.io/\\nhttps://davelee-fun.github.io/\\nhttps://davelee-fun.github.io/\\nhttps://davelee-fun.github.io/Abouthttps://davelee-fun.github.io/\\nhttps://davelee-fun.github.io/\\nhttps://davelee-fun.github.io/\\nhttps://davelee-fun.github.io/\\nhttps://davelee-fun.github.io/\\nhttps://davelee-fun.github.io/\\nhttps://davelee-fun.github.io/\\nhttps://davelee-fun.github.io/\\nhttps://davelee-fun.github.io/\\nhttps://davelee-fun.github.io/\\nhttps://davelee-fun.github.io/\\nhttps://davelee-fun.github.io/\\nhttps://davelee-fun.github.io/Teddy의 선물 블로그https://davelee-fun.github.io/\\nhttps://davelee-fun.github.io/\\n        선물하기 좋은 선물을 고르고 골라서 소개하는 블로그입니다.\\n    https://davelee-fun.github.io/\\nhttps://davelee-fun.github.io/\\nhttps://davelee-fun.github.io/\\nhttps://davelee-fun.github.io/\\nhttps://davelee-fun.github.io/\\nhttps://davelee-fun.github.io/\\nhttps://davelee-fun.github.io/\\nhttps://davelee-fun.github.io/Featuredhttps://davelee-fun.github.io/\\nhttps://davelee-fun.github.io/\\nhttps://davelee-fun.github.io/\\nhttps://davelee-fun.github.io/\\nhttps://davelee-fun.github.io/\\nhttps://davelee-fun.github.io/\\nhttps://davelee-fun.github.io/\\nhttps://davelee-fun.github.io/\\nhttps://davelee-fun.github.io/\\nhttps://davelee-fun.github.io/\\nhttps://davelee-fun.github.io/\\nhttps://davelee-fun.github.io/\\nhttps://davelee-fun.github.io/\\nhttps://davelee-fun.github.io/\\nhttps://davelee-fun.github.io/\\nhttps://davelee-fun.github.io/\\nhttps://davelee-fun.github.io/\\nhttps://davelee-fun.github.io/\\nhttps://davelee-fun.github.io/\\nhttps://davelee-fun.github.io/\\nhttps://davelee-fun.github.io/\\nhttps://davelee-fun.github.io/매트리스커버 관련 상품 추천https://davelee-fun.github.io/\\nhttps://davelee-fun.github.io/\\nhttps://davelee-fun.github.io/상품명: 보몽드 순면스퀘어 솔리드 누빔매트커버, 다크블루\\n\\nhttps://davelee-fun.github.io/\\nhttps://davelee-fun.github.io/\\nhttps://davelee-fun.github.io/\\nhttps://davelee-fun.github.io/\\nhttps://davelee-fun.github.io/\\nhttps://davelee-fun.github.io/\\nhttps://davelee-fun.github.io/\\nhttps://davelee-fun.github.io/\\nhttps://davelee-fun.github.io/Teddyhttps://davelee-fun.github.io/\\nhttps://davelee-fun.github.io/05 Jun 2020https://davelee-fun.github.io/\\nhttps://davelee-fun.github.io/\\nhttps://davelee-fun.github.io/\\nhttps://davelee-fun.github.io/\\nhttps://davelee-fun.github.io/\\nhttps://davelee-fun.github.io/\\nhttps://davelee-fun.github.io/\\nhttps://davelee-fun.github.io/\\nhttps://davelee-fun.github.io/\\nhttps://davelee-fun.github.io/\\nhttps://davelee-fun.github.io/\\nhttps://davelee-fun.github.io/\\nhttps://davelee-fun.github.io/\\nhttps://davelee-fun.github.io/\\nhttps://davelee-fun.github.io/\\nhttps://davelee-fun.github.io/\\nhttps://davelee-fun.github.io/\\nhttps://davelee-fun.github.io/\\nhttps://davelee-fun.github.io/\\nhttps://davelee-fun.github.io/\\nhttps://davelee-fun.github.io/\\nhttps://davelee-fun.github.io/\\nhttps://davelee-fun.github.io/\\nhttps://davelee-fun.github.io/\\nhttps://davelee-fun.github.io/\\nhttps://davelee-fun.github.io/\\nhttps://davelee-fun.github.io/\\nhttps://davelee-fun.github.io/\\nhttps://davelee-fun.github.io/\\nhttps://davelee-fun.github.io/\\nhttps://davelee-fun.github.io/\\nhttps://davelee-fun.github.io/여름이불세트 관련 상품 추천https://davelee-fun.github.io/\\nhttps://davelee-fun.github.io/\\nhttps://davelee-fun.github.io/상품명: 슈에뜨룸 선인장 리플 침구 세트, 베이지\\n\\nhttps://davelee-fun.github.io/\\nhttps://davelee-fun.github.io/\\nhttps://davelee-fun.github.io/\\nhttps://davelee-fun.github.io/\\nhttps://davelee-fun.github.io/\\nhttps://davelee-fun.github.io/\\nhttps://davelee-fun.github.io/\\nhttps://davelee-fun.github.io/\\nhttps://davelee-fun.github.io/Teddyhttps://davelee-fun.github.io/\\nhttps://davelee-fun.github.io/05 Jun 2020https://davelee-fun.github.io/\\nhttps://davelee-fun.github.io/\\nhttps://davelee-fun.github.io/\\nhttps://davelee-fun.github.io/\\nhttps://davelee-fun.github.io/\\nhttps://davelee-fun.github.io/\\nhttps://davelee-fun.github.io/\\nhttps://davelee-fun.github.io/\\nhttps://davelee-fun.github.io/\\nhttps://davelee-fun.github.io/\\nhttps://davelee-fun.github.io/\\nhttps://davelee-fun.github.io/\\nhttps://davelee-fun.github.io/\\nhttps://davelee-fun.github.io/\\nhttps://davelee-fun.github.io/\\nhttps://davelee-fun.github.io/\\nhttps://davelee-fun.github.io/\\nhttps://davelee-fun.github.io/\\nhttps://davelee-fun.github.io/\\nhttps://davelee-fun.github.io/\\nhttps://davelee-fun.github.io/\\nhttps://davelee-fun.github.io/\\nhttps://davelee-fun.github.io/\\nhttps://davelee-fun.github.io/\\nhttps://davelee-fun.github.io/\\nhttps://davelee-fun.github.io/\\nhttps://davelee-fun.github.io/\\nhttps://davelee-fun.github.io/\\nhttps://davelee-fun.github.io/\\nhttps://davelee-fun.github.io/\\nhttps://davelee-fun.github.io/\\nhttps://davelee-fun.github.io/행거도어 관련 상품 추천https://davelee-fun.github.io/\\nhttps://davelee-fun.github.io/\\nhttps://davelee-fun.github.io/상품명: 선우랜드 레인보우 2단 문걸이용 옷걸이 _중형, 화이트, 상세페이지참조\\n\\nhttps://davelee-fun.github.io/\\nhttps://davelee-fun.github.io/\\nhttps://davelee-fun.github.io/\\nhttps://davelee-fun.github.io/\\nhttps://davelee-fun.github.io/\\nhttps://davelee-fun.github.io/\\nhttps://davelee-fun.github.io/\\nhttps://davelee-fun.github.io/\\nhttps://davelee-fun.github.io/Teddyhttps://davelee-fun.github.io/\\nhttps://davelee-fun.github.io/05 Jun 2020https://davelee-fun.github.io/\\nhttps://davelee-fun.github.io/\\nhttps://davelee-fun.github.io/\\nhttps://davelee-fun.github.io/\\nhttps://davelee-fun.github.io/\\nhttps://davelee-fun.github.io/\\nhttps://davelee-fun.github.io/\\nhttps://davelee-fun.github.io/\\nhttps://davelee-fun.github.io/\\nhttps://davelee-fun.github.io/\\nhttps://davelee-fun.github.io/\\nhttps://davelee-fun.github.io/\\nhttps://davelee-fun.github.io/\\nhttps://davelee-fun.github.io/\\nhttps://davelee-fun.github.io/\\nhttps://davelee-fun.github.io/\\nhttps://davelee-fun.github.io/\\nhttps://davelee-fun.github.io/\\nhttps://davelee-fun.github.io/\\nhttps://davelee-fun.github.io/\\nhttps://davelee-fun.github.io/\\nhttps://davelee-fun.github.io/\\nhttps://davelee-fun.github.io/\\nhttps://davelee-fun.github.io/\\nhttps://davelee-fun.github.io/\\nhttps://davelee-fun.github.io/\\nhttps://davelee-fun.github.io/\\nhttps://davelee-fun.github.io/\\nhttps://davelee-fun.github.io/\\nhttps://davelee-fun.github.io/\\nhttps://davelee-fun.github.io/\\nhttps://davelee-fun.github.io/매트리스커버 관련 상품 추천https://davelee-fun.github.io/\\nhttps://davelee-fun.github.io/\\nhttps://davelee-fun.github.io/상품명: 보드래 헬로우 누빔 매트리스커버, 핑크\\n\\nhttps://davelee-fun.github.io/\\nhttps://davelee-fun.github.io/\\nhttps://davelee-fun.github.io/\\nhttps://davelee-fun.github.io/\\nhttps://davelee-fun.github.io/\\nhttps://davelee-fun.github.io/\\nhttps://davelee-fun.github.io/\\nhttps://davelee-fun.github.io/\\nhttps://davelee-fun.github.io/Teddyhttps://davelee-fun.github.io/\\nhttps://davelee-fun.github.io/05 Jun 2020https://davelee-fun.github.io/\\nhttps://davelee-fun.github.io/\\nhttps://davelee-fun.github.io/\\nhttps://davelee-fun.github.io/\\nhttps://davelee-fun.github.io/\\nhttps://davelee-fun.github.io/\\nhttps://davelee-fun.github.io/\\nhttps://davelee-fun.github.io/\\nhttps://davelee-fun.github.io/\\nhttps://davelee-fun.github.io/\\nhttps://davelee-fun.github.io/\\nhttps://davelee-fun.github.io/\\nhttps://davelee-fun.github.io/\\nhttps://davelee-fun.github.io/\\nhttps://davelee-fun.github.io/\\nhttps://davelee-fun.github.io/\\nhttps://davelee-fun.github.io/\\nhttps://davelee-fun.github.io/\\nhttps://davelee-fun.github.io/All Storieshttps://davelee-fun.github.io/\\nhttps://davelee-fun.github.io/\\nhttps://davelee-fun.github.io/\\nhttps://davelee-fun.github.io/\\nhttps://davelee-fun.github.io/\\nhttps://davelee-fun.github.io/\\nhttps://davelee-fun.github.io/\\nhttps://davelee-fun.github.io/\\nhttps://davelee-fun.github.io/\\nhttps://davelee-fun.github.io/\\nhttps://davelee-fun.github.io/\\nhttps://davelee-fun.github.io/\\nhttps://davelee-fun.github.io/\\nhttps://davelee-fun.github.io/매트리스커버 관련 상품 추천https://davelee-fun.github.io/\\nhttps://davelee-fun.github.io/\\nhttps://davelee-fun.github.io/상품명: 보드래 퍼펙트 누빔 매트리스커버, 차콜\\n\\nhttps://davelee-fun.github.io/\\nhttps://davelee-fun.github.io/\\nhttps://davelee-fun.github.io/\\nhttps://davelee-fun.github.io/\\nhttps://davelee-fun.github.io/\\nhttps://davelee-fun.github.io/\\nhttps://davelee-fun.github.io/\\nhttps://davelee-fun.github.io/\\nhttps://davelee-fun.github.io/Teddyhttps://davelee-fun.github.io/\\nhttps://davelee-fun.github.io/05 Jun 2020https://davelee-fun.github.io/\\nhttps://davelee-fun.github.io/\\nhttps://davelee-fun.github.io/\\nhttps://davelee-fun.github.io/\\nhttps://davelee-fun.github.io/\\nhttps://davelee-fun.github.io/\\nhttps://davelee-fun.github.io/\\nhttps://davelee-fun.github.io/\\nhttps://davelee-fun.github.io/\\nhttps://davelee-fun.github.io/\\nhttps://davelee-fun.github.io/\\nhttps://davelee-fun.github.io/\\nhttps://davelee-fun.github.io/\\nhttps://davelee-fun.github.io/\\nhttps://davelee-fun.github.io/\\nhttps://davelee-fun.github.io/\\nhttps://davelee-fun.github.io/\\nhttps://davelee-fun.github.io/\\nhttps://davelee-fun.github.io/\\nhttps://davelee-fun.github.io/매트리스커버 관련 상품 추천https://davelee-fun.github.io/\\nhttps://davelee-fun.github.io/\\nhttps://davelee-fun.github.io/상품명: 피아블 클래식 방수 매트리스커버, 화이트\\n\\nhttps://davelee-fun.github.io/\\nhttps://davelee-fun.github.io/\\nhttps://davelee-fun.github.io/\\nhttps://davelee-fun.github.io/\\nhttps://davelee-fun.github.io/\\nhttps://davelee-fun.github.io/\\nhttps://davelee-fun.github.io/\\nhttps://davelee-fun.github.io/\\nhttps://davelee-fun.github.io/Teddyhttps://davelee-fun.github.io/\\nhttps://davelee-fun.github.io/05 Jun 2020https://davelee-fun.github.io/\\nhttps://davelee-fun.github.io/\\nhttps://davelee-fun.github.io/\\nhttps://davelee-fun.github.io/\\nhttps://davelee-fun.github.io/\\nhttps://davelee-fun.github.io/\\nhttps://davelee-fun.github.io/\\nhttps://davelee-fun.github.io/\\nhttps://davelee-fun.github.io/\\nhttps://davelee-fun.github.io/\\nhttps://davelee-fun.github.io/\\nhttps://davelee-fun.github.io/\\nhttps://davelee-fun.github.io/\\nhttps://davelee-fun.github.io/\\nhttps://davelee-fun.github.io/\\nhttps://davelee-fun.github.io/\\nhttps://davelee-fun.github.io/\\nhttps://davelee-fun.github.io/\\nhttps://davelee-fun.github.io/\\nhttps://davelee-fun.github.io/매트리스커버 관련 상품 추천https://davelee-fun.github.io/\\nhttps://davelee-fun.github.io/\\nhttps://davelee-fun.github.io/상품명: 더자리 에코항균 마이크로 매트리스커버, 밀키차콜그레이\\n\\nhttps://davelee-fun.github.io/\\nhttps://davelee-fun.github.io/\\nhttps://davelee-fun.github.io/\\nhttps://davelee-fun.github.io/\\nhttps://davelee-fun.github.io/\\nhttps://davelee-fun.github.io/\\nhttps://davelee-fun.github.io/\\nhttps://davelee-fun.github.io/\\nhttps://davelee-fun.github.io/Teddyhttps://davelee-fun.github.io/\\nhttps://davelee-fun.github.io/05 Jun 2020https://davelee-fun.github.io/\\nhttps://davelee-fun.github.io/\\nhttps://davelee-fun.github.io/\\nhttps://davelee-fun.github.io/\\nhttps://davelee-fun.github.io/\\nhttps://davelee-fun.github.io/\\nhttps://davelee-fun.github.io/\\nhttps://davelee-fun.github.io/\\nhttps://davelee-fun.github.io/\\nhttps://davelee-fun.github.io/\\nhttps://davelee-fun.github.io/\\nhttps://davelee-fun.github.io/\\nhttps://davelee-fun.github.io/\\nhttps://davelee-fun.github.io/\\nhttps://davelee-fun.github.io/\\nhttps://davelee-fun.github.io/\\nhttps://davelee-fun.github.io/\\nhttps://davelee-fun.github.io/\\nhttps://davelee-fun.github.io/\\nhttps://davelee-fun.github.io/매트리스커버 관련 상품 추천https://davelee-fun.github.io/\\nhttps://davelee-fun.github.io/\\nhttps://davelee-fun.github.io/상품명: 더자리 프레쉬 퓨어 매트리스 커버, 퓨어 차콜그레이\\n\\nhttps://davelee-fun.github.io/\\nhttps://davelee-fun.github.io/\\nhttps://davelee-fun.github.io/\\nhttps://davelee-fun.github.io/\\nhttps://davelee-fun.github.io/\\nhttps://davelee-fun.github.io/\\nhttps://davelee-fun.github.io/\\nhttps://davelee-fun.github.io/\\nhttps://davelee-fun.github.io/Teddyhttps://davelee-fun.github.io/\\nhttps://davelee-fun.github.io/05 Jun 2020https://davelee-fun.github.io/\\nhttps://davelee-fun.github.io/\\nhttps://davelee-fun.github.io/\\nhttps://davelee-fun.github.io/\\nhttps://davelee-fun.github.io/\\nhttps://davelee-fun.github.io/\\nhttps://davelee-fun.github.io/\\nhttps://davelee-fun.github.io/\\nhttps://davelee-fun.github.io/\\nhttps://davelee-fun.github.io/\\nhttps://davelee-fun.github.io/\\nhttps://davelee-fun.github.io/\\nhttps://davelee-fun.github.io/\\nhttps://davelee-fun.github.io/\\nhttps://davelee-fun.github.io/\\nhttps://davelee-fun.github.io/\\nhttps://davelee-fun.github.io/\\nhttps://davelee-fun.github.io/\\nhttps://davelee-fun.github.io/\\nhttps://davelee-fun.github.io/매트리스커버 관련 상품 추천https://davelee-fun.github.io/\\nhttps://davelee-fun.github.io/\\nhttps://davelee-fun.github.io/상품명: 몽쉐어 알러스킨 항균 매트리스 커버, 카키그레이\\n\\nhttps://davelee-fun.github.io/\\nhttps://davelee-fun.github.io/\\nhttps://davelee-fun.github.io/\\nhttps://davelee-fun.github.io/\\nhttps://davelee-fun.github.io/\\nhttps://davelee-fun.github.io/\\nhttps://davelee-fun.github.io/\\nhttps://davelee-fun.github.io/\\nhttps://davelee-fun.github.io/Teddyhttps://davelee-fun.github.io/\\nhttps://davelee-fun.github.io/05 Jun 2020https://davelee-fun.github.io/\\nhttps://davelee-fun.github.io/\\nhttps://davelee-fun.github.io/\\nhttps://davelee-fun.github.io/\\nhttps://davelee-fun.github.io/\\nhttps://davelee-fun.github.io/\\nhttps://davelee-fun.github.io/\\nhttps://davelee-fun.github.io/\\nhttps://davelee-fun.github.io/\\nhttps://davelee-fun.github.io/\\nhttps://davelee-fun.github.io/\\nhttps://davelee-fun.github.io/\\nhttps://davelee-fun.github.io/\\nhttps://davelee-fun.github.io/\\nhttps://davelee-fun.github.io/\\nhttps://davelee-fun.github.io/\\nhttps://davelee-fun.github.io/\\nhttps://davelee-fun.github.io/\\nhttps://davelee-fun.github.io/\\nhttps://davelee-fun.github.io/매트리스커버 관련 상품 추천https://davelee-fun.github.io/\\nhttps://davelee-fun.github.io/\\nhttps://davelee-fun.github.io/상품명: 쿠팡 브랜드 - 코멧 홈 40수 트윌 순면 100% 홑겹 매트리스커버, 그레이\\n\\nhttps://davelee-fun.github.io/\\nhttps://davelee-fun.github.io/\\nhttps://davelee-fun.github.io/\\nhttps://davelee-fun.github.io/\\nhttps://davelee-fun.github.io/\\nhttps://davelee-fun.github.io/\\nhttps://davelee-fun.github.io/\\nhttps://davelee-fun.github.io/\\nhttps://davelee-fun.github.io/Teddyhttps://davelee-fun.github.io/\\nhttps://davelee-fun.github.io/05 Jun 2020https://davelee-fun.github.io/\\nhttps://davelee-fun.github.io/\\nhttps://davelee-fun.github.io/\\nhttps://davelee-fun.github.io/\\nhttps://davelee-fun.github.io/\\nhttps://davelee-fun.github.io/\\nhttps://davelee-fun.github.io/\\nhttps://davelee-fun.github.io/\\nhttps://davelee-fun.github.io/\\nhttps://davelee-fun.github.io/\\nhttps://davelee-fun.github.io/\\nhttps://davelee-fun.github.io/\\nhttps://davelee-fun.github.io/\\nhttps://davelee-fun.github.io/\\nhttps://davelee-fun.github.io/\\nhttps://davelee-fun.github.io/\\nhttps://davelee-fun.github.io/\\nhttps://davelee-fun.github.io/\\nhttps://davelee-fun.github.io/\\nhttps://davelee-fun.github.io/매트리스커버 관련 상품 추천https://davelee-fun.github.io/\\nhttps://davelee-fun.github.io/\\nhttps://davelee-fun.github.io/상품명: 패브릭아트 항균 마이크로 원단 매트리스 커버, 아이보리\\n\\nhttps://davelee-fun.github.io/\\nhttps://davelee-fun.github.io/\\nhttps://davelee-fun.github.io/\\nhttps://davelee-fun.github.io/\\nhttps://davelee-fun.github.io/\\nhttps://davelee-fun.github.io/\\nhttps://davelee-fun.github.io/\\nhttps://davelee-fun.github.io/\\nhttps://davelee-fun.github.io/Teddyhttps://davelee-fun.github.io/\\nhttps://davelee-fun.github.io/05 Jun 2020https://davelee-fun.github.io/\\nhttps://davelee-fun.github.io/\\nhttps://davelee-fun.github.io/\\nhttps://davelee-fun.github.io/\\nhttps://davelee-fun.github.io/\\nhttps://davelee-fun.github.io/\\nhttps://davelee-fun.github.io/\\nhttps://davelee-fun.github.io/\\nhttps://davelee-fun.github.io/\\nhttps://davelee-fun.github.io/\\nhttps://davelee-fun.github.io/\\nhttps://davelee-fun.github.io/\\nhttps://davelee-fun.github.io/\\nhttps://davelee-fun.github.io/\\nhttps://davelee-fun.github.io/\\nhttps://davelee-fun.github.io/\\nhttps://davelee-fun.github.io/\\nhttps://davelee-fun.github.io/\\nhttps://davelee-fun.github.io/\\nhttps://davelee-fun.github.io/매트리스커버 관련 상품 추천https://davelee-fun.github.io/\\nhttps://davelee-fun.github.io/\\nhttps://davelee-fun.github.io/상품명: 바숨 순면 누빔 침대 매트리스커버, 차콜\\n\\nhttps://davelee-fun.github.io/\\nhttps://davelee-fun.github.io/\\nhttps://davelee-fun.github.io/\\nhttps://davelee-fun.github.io/\\nhttps://davelee-fun.github.io/\\nhttps://davelee-fun.github.io/\\nhttps://davelee-fun.github.io/\\nhttps://davelee-fun.github.io/\\nhttps://davelee-fun.github.io/Teddyhttps://davelee-fun.github.io/\\nhttps://davelee-fun.github.io/05 Jun 2020https://davelee-fun.github.io/\\nhttps://davelee-fun.github.io/\\nhttps://davelee-fun.github.io/\\nhttps://davelee-fun.github.io/\\nhttps://davelee-fun.github.io/\\nhttps://davelee-fun.github.io/\\nhttps://davelee-fun.github.io/\\nhttps://davelee-fun.github.io/\\nhttps://davelee-fun.github.io/\\nhttps://davelee-fun.github.io/\\nhttps://davelee-fun.github.io/\\nhttps://davelee-fun.github.io/\\nhttps://davelee-fun.github.io/\\nhttps://davelee-fun.github.io/\\nhttps://davelee-fun.github.io/\\nhttps://davelee-fun.github.io/\\nhttps://davelee-fun.github.io/\\nhttps://davelee-fun.github.io/\\nhttps://davelee-fun.github.io/\\nhttps://davelee-fun.github.io/행거도어 관련 상품 추천https://davelee-fun.github.io/\\nhttps://davelee-fun.github.io/\\nhttps://davelee-fun.github.io/상품명: WEMAX 다용도 문옷걸이, 화이트, 1개\\n\\nhttps://davelee-fun.github.io/\\nhttps://davelee-fun.github.io/\\nhttps://davelee-fun.github.io/\\nhttps://davelee-fun.github.io/\\nhttps://davelee-fun.github.io/\\nhttps://davelee-fun.github.io/\\nhttps://davelee-fun.github.io/\\nhttps://davelee-fun.github.io/\\nhttps://davelee-fun.github.io/Teddyhttps://davelee-fun.github.io/\\nhttps://davelee-fun.github.io/05 Jun 2020https://davelee-fun.github.io/\\nhttps://davelee-fun.github.io/\\nhttps://davelee-fun.github.io/\\nhttps://davelee-fun.github.io/\\nhttps://davelee-fun.github.io/\\nhttps://davelee-fun.github.io/\\nhttps://davelee-fun.github.io/\\nhttps://davelee-fun.github.io/\\nhttps://davelee-fun.github.io/\\nhttps://davelee-fun.github.io/\\nhttps://davelee-fun.github.io/\\nhttps://davelee-fun.github.io/\\nhttps://davelee-fun.github.io/\\nhttps://davelee-fun.github.io/\\nhttps://davelee-fun.github.io/\\nhttps://davelee-fun.github.io/\\nhttps://davelee-fun.github.io/\\nhttps://davelee-fun.github.io/\\nhttps://davelee-fun.github.io/\\nhttps://davelee-fun.github.io/매트리스커버 관련 상품 추천https://davelee-fun.github.io/\\nhttps://davelee-fun.github.io/\\nhttps://davelee-fun.github.io/상품명: 타카타카 프리미엄 나노 화이바 누빔 매트리스 커버, 젠틀핑핑\\n\\nhttps://davelee-fun.github.io/\\nhttps://davelee-fun.github.io/\\nhttps://davelee-fun.github.io/\\nhttps://davelee-fun.github.io/\\nhttps://davelee-fun.github.io/\\nhttps://davelee-fun.github.io/\\nhttps://davelee-fun.github.io/\\nhttps://davelee-fun.github.io/\\nhttps://davelee-fun.github.io/Teddyhttps://davelee-fun.github.io/\\nhttps://davelee-fun.github.io/05 Jun 2020https://davelee-fun.github.io/\\nhttps://davelee-fun.github.io/\\nhttps://davelee-fun.github.io/\\nhttps://davelee-fun.github.io/\\nhttps://davelee-fun.github.io/\\nhttps://davelee-fun.github.io/\\nhttps://davelee-fun.github.io/\\nhttps://davelee-fun.github.io/\\nhttps://davelee-fun.github.io/\\nhttps://davelee-fun.github.io/\\nhttps://davelee-fun.github.io/\\nhttps://davelee-fun.github.io/\\nhttps://davelee-fun.github.io/\\nhttps://davelee-fun.github.io/\\nhttps://davelee-fun.github.io/\\nhttps://davelee-fun.github.io/\\nhttps://davelee-fun.github.io/\\nhttps://davelee-fun.github.io/\\nhttps://davelee-fun.github.io/\\nhttps://davelee-fun.github.io/매트리스커버 관련 상품 추천https://davelee-fun.github.io/\\nhttps://davelee-fun.github.io/\\nhttps://davelee-fun.github.io/상품명: 보몽드 순면스퀘어 누빔매트커버, 다크그레이\\n\\nhttps://davelee-fun.github.io/\\nhttps://davelee-fun.github.io/\\nhttps://davelee-fun.github.io/\\nhttps://davelee-fun.github.io/\\nhttps://davelee-fun.github.io/\\nhttps://davelee-fun.github.io/\\nhttps://davelee-fun.github.io/\\nhttps://davelee-fun.github.io/\\nhttps://davelee-fun.github.io/Teddyhttps://davelee-fun.github.io/\\nhttps://davelee-fun.github.io/05 Jun 2020https://davelee-fun.github.io/\\nhttps://davelee-fun.github.io/\\nhttps://davelee-fun.github.io/\\nhttps://davelee-fun.github.io/\\nhttps://davelee-fun.github.io/\\nhttps://davelee-fun.github.io/\\nhttps://davelee-fun.github.io/\\nhttps://davelee-fun.github.io/\\nhttps://davelee-fun.github.io/\\nhttps://davelee-fun.github.io/\\nhttps://davelee-fun.github.io/\\nhttps://davelee-fun.github.io/\\nhttps://davelee-fun.github.io/\\nhttps://davelee-fun.github.io/\\nhttps://davelee-fun.github.io/\\nhttps://davelee-fun.github.io/\\nhttps://davelee-fun.github.io/\\nhttps://davelee-fun.github.io/\\nhttps://davelee-fun.github.io/\\nhttps://davelee-fun.github.io/매트리스커버 관련 상품 추천https://davelee-fun.github.io/\\nhttps://davelee-fun.github.io/\\nhttps://davelee-fun.github.io/상품명: 보드래 국내산 순면 60수 누빔 매트리스커버, 그레이\\n\\nhttps://davelee-fun.github.io/\\nhttps://davelee-fun.github.io/\\nhttps://davelee-fun.github.io/\\nhttps://davelee-fun.github.io/\\nhttps://davelee-fun.github.io/\\nhttps://davelee-fun.github.io/\\nhttps://davelee-fun.github.io/\\nhttps://davelee-fun.github.io/\\nhttps://davelee-fun.github.io/Teddyhttps://davelee-fun.github.io/\\nhttps://davelee-fun.github.io/05 Jun 2020https://davelee-fun.github.io/\\nhttps://davelee-fun.github.io/\\nhttps://davelee-fun.github.io/\\nhttps://davelee-fun.github.io/\\nhttps://davelee-fun.github.io/\\nhttps://davelee-fun.github.io/\\nhttps://davelee-fun.github.io/\\nhttps://davelee-fun.github.io/\\nhttps://davelee-fun.github.io/\\nhttps://davelee-fun.github.io/\\nhttps://davelee-fun.github.io/\\nhttps://davelee-fun.github.io/\\nhttps://davelee-fun.github.io/\\nhttps://davelee-fun.github.io/\\nhttps://davelee-fun.github.io/\\nhttps://davelee-fun.github.io/\\nhttps://davelee-fun.github.io/« Prevhttps://davelee-fun.github.io/\\nhttps://davelee-fun.github.io/1https://davelee-fun.github.io/\\nhttps://davelee-fun.github.io/2https://davelee-fun.github.io/\\nhttps://davelee-fun.github.io/3https://davelee-fun.github.io/\\nhttps://davelee-fun.github.io/4https://davelee-fun.github.io/\\nhttps://davelee-fun.github.io/5https://davelee-fun.github.io/\\nhttps://davelee-fun.github.io/6https://davelee-fun.github.io/\\nhttps://davelee-fun.github.io/7https://davelee-fun.github.io/\\nhttps://davelee-fun.github.io/8https://davelee-fun.github.io/\\nhttps://davelee-fun.github.io/Next »https://davelee-fun.github.io/\\nhttps://davelee-fun.github.io/\\nhttps://davelee-fun.github.io/\\nhttps://davelee-fun.github.io/\\nhttps://davelee-fun.github.io/\\nhttps://davelee-fun.github.io/\\nhttps://davelee-fun.github.io/\\nhttps://davelee-fun.github.io/\\nhttps://davelee-fun.github.io/ \\xa0 Never miss a https://davelee-fun.github.io/storyhttps://davelee-fun.github.io/ from us, subscribe to our newsletterhttps://davelee-fun.github.io/\\nhttps://davelee-fun.github.io/\\nhttps://davelee-fun.github.io/\\nhttps://davelee-fun.github.io/\\nhttps://davelee-fun.github.io/\\nhttps://davelee-fun.github.io/\\nhttps://davelee-fun.github.io/\\nhttps://davelee-fun.github.io/\\nhttps://davelee-fun.github.io/\\nhttps://davelee-fun.github.io/\\nhttps://davelee-fun.github.io/\\nhttps://davelee-fun.github.io/\\nhttps://davelee-fun.github.io/\\nhttps://davelee-fun.github.io/\\nhttps://davelee-fun.github.io/\\nhttps://davelee-fun.github.io/Explore https://davelee-fun.github.io/→https://davelee-fun.github.io/\\nhttps://davelee-fun.github.io/\\nhttps://davelee-fun.github.io/\\nhttps://davelee-fun.github.io/\\nhttps://davelee-fun.github.io/가구/인테리어 (90)https://davelee-fun.github.io/\\nhttps://davelee-fun.github.io/\\nhttps://davelee-fun.github.io/\\nhttps://davelee-fun.github.io/\\nhttps://davelee-fun.github.io/\\nhttps://davelee-fun.github.io/\\nhttps://davelee-fun.github.io/\\nhttps://davelee-fun.github.io/\\nhttps://davelee-fun.github.io/\\n                Copyright © 2020 Teddy의 선물 블로그 \\n            https://davelee-fun.github.io/\\nhttps://davelee-fun.github.io/\\nhttps://davelee-fun.github.io/Mediumish Jekyll Themehttps://davelee-fun.github.io/ by WowThemes.net\\n            https://davelee-fun.github.io/\\nhttps://davelee-fun.github.io/\\nhttps://davelee-fun.github.io/\\nhttps://davelee-fun.github.io/\\nhttps://davelee-fun.github.io/\\nhttps://davelee-fun.github.io/ https://davelee-fun.github.io/\\nhttps://davelee-fun.github.io/\\nhttps://davelee-fun.github.io/\\nhttps://davelee-fun.github.io/\\nhttps://davelee-fun.github.io/\\nhttps://davelee-fun.github.io/\\nhttps://davelee-fun.github.io/\\nhttps://davelee-fun.github.io/\\n'"
      ]
     },
     "execution_count": 13,
     "metadata": {},
     "output_type": "execute_result"
    }
   ],
   "source": [
    "import requests\n",
    "from bs4 import BeautifulSoup\n",
    "\n",
    "url = \"https://davelee-fun.github.io/\"\n",
    "\n",
    "res = requests.get(url)\n",
    "data = BeautifulSoup(res.content, \"html.parser\")\n",
    "\n",
    "data.get_text(url)"
   ]
  },
  {
   "cell_type": "code",
   "execution_count": 15,
   "id": "819552c4-71f9-4a0c-90e8-8ad5638fa247",
   "metadata": {},
   "outputs": [
    {
     "name": "stdout",
     "output_type": "stream",
     "text": [
      "\n",
      "Blog\n",
      "\n",
      "\n",
      "About\n",
      "\n"
     ]
    }
   ],
   "source": [
    "import requests\n",
    "from bs4 import BeautifulSoup\n",
    "\n",
    "url = \"https://davelee-fun.github.io/\"\n",
    "\n",
    "res = requests.get(url)\n",
    "data = BeautifulSoup(res.content, \"html.parser\")\n",
    "\n",
    "items = data.select(\".nav-item\")\n",
    "for item in items :\n",
    "    print(item.get_text())"
   ]
  },
  {
   "cell_type": "code",
   "execution_count": 19,
   "id": "8f0ee57b-5eef-4727-8b47-9a19b4a5e498",
   "metadata": {},
   "outputs": [
    {
     "name": "stdout",
     "output_type": "stream",
     "text": [
      "\n",
      "Blog\n",
      "\n"
     ]
    }
   ],
   "source": [
    "import requests\n",
    "from bs4 import BeautifulSoup\n",
    "\n",
    "url = \"https://davelee-fun.github.io/\"\n",
    "\n",
    "res = requests.get(url)\n",
    "data = BeautifulSoup(res.content, \"html.parser\")\n",
    "\n",
    "items = data.select(\"li.nav-item.active\")\n",
    "for item in items :\n",
    "    print(item.get_text())"
   ]
  },
  {
   "cell_type": "code",
   "execution_count": null,
   "id": "18ce1682-3caf-4261-bb1d-007a1fa08122",
   "metadata": {},
   "outputs": [],
   "source": [
    "### 현재 사이트에서 sitetitle 이라는 클래스 값을 가지고 있는 h1 태그"
   ]
  },
  {
   "cell_type": "code",
   "execution_count": 44,
   "id": "19c406ce-03f4-4595-97a9-c0ca60678f20",
   "metadata": {},
   "outputs": [
    {
     "name": "stdout",
     "output_type": "stream",
     "text": [
      "Teddy의 선물 블로그\n"
     ]
    }
   ],
   "source": [
    "import requests\n",
    "from bs4 import BeautifulSoup\n",
    "\n",
    "url = \"https://davelee-fun.github.io/\"\n",
    "\n",
    "res = requests.get(url)\n",
    "data = BeautifulSoup(res.content, \"html.parser\")\n",
    "\n",
    "items = data.select_one(\"h1.sitetitle\")\n",
    "print(items.string)"
   ]
  },
  {
   "cell_type": "code",
   "execution_count": null,
   "id": "551e35ad-d442-4a54-a63e-9d095844cc00",
   "metadata": {},
   "outputs": [],
   "source": [
    "### 5. 현재 사이트에서 선물하기 좋은 선물을 고르고 골라서 소개하는 블로그\n",
    "라는 서브 타이틀"
   ]
  },
  {
   "cell_type": "code",
   "execution_count": 47,
   "id": "156b1190-a7d2-494a-b309-e2a82a5035d0",
   "metadata": {},
   "outputs": [
    {
     "name": "stdout",
     "output_type": "stream",
     "text": [
      "\n",
      "        선물하기 좋은 선물을 고르고 골라서 소개하는 블로그입니다.\n",
      "    \n"
     ]
    }
   ],
   "source": [
    "import requests\n",
    "from bs4 import BeautifulSoup\n",
    "\n",
    "url = \"https://davelee-fun.github.io/\"\n",
    "\n",
    "res = requests.get(url)\n",
    "data = BeautifulSoup(res.content, \"html.parser\")\n",
    "\n",
    "items = data.select_one(\"p.lead\")\n",
    "print(items.get_text())"
   ]
  },
  {
   "cell_type": "code",
   "execution_count": null,
   "id": "80a87844-a721-4260-b53b-bebd92dc2042",
   "metadata": {},
   "outputs": [],
   "source": [
    "# 6. 현재 사이트에서 Featured 카테고리의\n",
    "속해있는 상품들의 상품명만 가져와서 출력"
   ]
  },
  {
   "cell_type": "code",
   "execution_count": 46,
   "id": "2fc2e054-72b4-4812-9cb2-05d84eb730aa",
   "metadata": {},
   "outputs": [
    {
     "name": "stdout",
     "output_type": "stream",
     "text": [
      "매트리스커버 관련 상품 추천\n",
      "여름이불세트 관련 상품 추천\n",
      "행거도어 관련 상품 추천\n",
      "매트리스커버 관련 상품 추천\n",
      "매트리스커버 관련 상품 추천\n",
      "매트리스커버 관련 상품 추천\n",
      "매트리스커버 관련 상품 추천\n",
      "매트리스커버 관련 상품 추천\n",
      "매트리스커버 관련 상품 추천\n",
      "매트리스커버 관련 상품 추천\n",
      "매트리스커버 관련 상품 추천\n",
      "매트리스커버 관련 상품 추천\n",
      "행거도어 관련 상품 추천\n",
      "매트리스커버 관련 상품 추천\n",
      "매트리스커버 관련 상품 추천\n",
      "매트리스커버 관련 상품 추천\n"
     ]
    }
   ],
   "source": [
    "import requests\n",
    "from bs4 import BeautifulSoup\n",
    "\n",
    "url = \"https://davelee-fun.github.io/\"\n",
    "\n",
    "res = requests.get(url)\n",
    "data = BeautifulSoup(res.content, \"html.parser\")\n",
    "\n",
    "items = data.select(\"a.text-dark\")\n",
    "for item in items :\n",
    "    print(item.get_text())"
   ]
  },
  {
   "cell_type": "code",
   "execution_count": 53,
   "id": "5a2aec13-4348-4618-8860-8663ad2c2f70",
   "metadata": {},
   "outputs": [
    {
     "name": "stdout",
     "output_type": "stream",
     "text": [
      "상품명: 보몽드 순면스퀘어 솔리드 누빔매트커버, 다크블루\n",
      "\n",
      "\n",
      "상품명: 슈에뜨룸 선인장 리플 침구 세트, 베이지\n",
      "\n",
      "\n",
      "상품명: 선우랜드 레인보우 2단 문걸이용 옷걸이 _중형, 화이트, 상세페이지참조\n",
      "\n",
      "\n",
      "상품명: 보드래 헬로우 누빔 매트리스커버, 핑크\n",
      "\n",
      "\n",
      "상품명: 보드래 퍼펙트 누빔 매트리스커버, 차콜\n",
      "\n",
      "\n",
      "상품명: 피아블 클래식 방수 매트리스커버, 화이트\n",
      "\n",
      "\n",
      "상품명: 더자리 에코항균 마이크로 매트리스커버, 밀키차콜그레이\n",
      "\n",
      "\n",
      "상품명: 더자리 프레쉬 퓨어 매트리스 커버, 퓨어 차콜그레이\n",
      "\n",
      "\n",
      "상품명: 몽쉐어 알러스킨 항균 매트리스 커버, 카키그레이\n",
      "\n",
      "\n",
      "상품명: 쿠팡 브랜드 - 코멧 홈 40수 트윌 순면 100% 홑겹 매트리스커버, 그레이\n",
      "\n",
      "\n",
      "상품명: 패브릭아트 항균 마이크로 원단 매트리스 커버, 아이보리\n",
      "\n",
      "\n",
      "상품명: 바숨 순면 누빔 침대 매트리스커버, 차콜\n",
      "\n",
      "\n",
      "상품명: WEMAX 다용도 문옷걸이, 화이트, 1개\n",
      "\n",
      "\n",
      "상품명: 타카타카 프리미엄 나노 화이바 누빔 매트리스 커버, 젠틀핑핑\n",
      "\n",
      "\n",
      "상품명: 보몽드 순면스퀘어 누빔매트커버, 다크그레이\n",
      "\n",
      "\n",
      "상품명: 보드래 국내산 순면 60수 누빔 매트리스커버, 그레이\n",
      "\n",
      "\n"
     ]
    }
   ],
   "source": [
    "import requests\n",
    "from bs4 import BeautifulSoup\n",
    "\n",
    "url = \"https://davelee-fun.github.io/\"\n",
    "\n",
    "res = requests.get(url)\n",
    "data = BeautifulSoup(res.content, \"html.parser\")\n",
    "\n",
    "items = data.select(\"h4.card-text\")\n",
    "for item in items :\n",
    "    print(item.get_text())"
   ]
  },
  {
   "cell_type": "code",
   "execution_count": null,
   "id": "f80cb213-5413-4f42-abd7-4c59646f0760",
   "metadata": {},
   "outputs": [],
   "source": [
    "# 7. All Stories 상품명 출력"
   ]
  },
  {
   "cell_type": "code",
   "execution_count": 56,
   "id": "239c10c8-6cd3-4646-aff3-79e3ef827100",
   "metadata": {},
   "outputs": [
    {
     "name": "stdout",
     "output_type": "stream",
     "text": [
      "상품명: 보드래 퍼펙트 누빔 매트리스커버, 차콜\n",
      "\n",
      "\n",
      "상품명: 피아블 클래식 방수 매트리스커버, 화이트\n",
      "\n",
      "\n",
      "상품명: 더자리 에코항균 마이크로 매트리스커버, 밀키차콜그레이\n",
      "\n",
      "\n",
      "상품명: 더자리 프레쉬 퓨어 매트리스 커버, 퓨어 차콜그레이\n",
      "\n",
      "\n",
      "상품명: 몽쉐어 알러스킨 항균 매트리스 커버, 카키그레이\n",
      "\n",
      "\n",
      "상품명: 쿠팡 브랜드 - 코멧 홈 40수 트윌 순면 100% 홑겹 매트리스커버, 그레이\n",
      "\n",
      "\n",
      "상품명: 패브릭아트 항균 마이크로 원단 매트리스 커버, 아이보리\n",
      "\n",
      "\n",
      "상품명: 바숨 순면 누빔 침대 매트리스커버, 차콜\n",
      "\n",
      "\n",
      "상품명: WEMAX 다용도 문옷걸이, 화이트, 1개\n",
      "\n",
      "\n",
      "상품명: 타카타카 프리미엄 나노 화이바 누빔 매트리스 커버, 젠틀핑핑\n",
      "\n",
      "\n",
      "상품명: 보몽드 순면스퀘어 누빔매트커버, 다크그레이\n",
      "\n",
      "\n",
      "상품명: 보드래 국내산 순면 60수 누빔 매트리스커버, 그레이\n",
      "\n",
      "\n"
     ]
    }
   ],
   "source": [
    "import requests\n",
    "from bs4 import BeautifulSoup\n",
    "\n",
    "url = \"https://davelee-fun.github.io/\"\n",
    "\n",
    "res = requests.get(url)\n",
    "data = BeautifulSoup(res.content, \"html.parser\")\n",
    "\n",
    "items = data.select(\"section.recent-posts h4.card-text\")\n",
    "for item in items :\n",
    "    print(item.get_text())"
   ]
  },
  {
   "cell_type": "code",
   "execution_count": 59,
   "id": "0c866bfe-abf7-4477-b5a0-bd0f4eab9a57",
   "metadata": {},
   "outputs": [
    {
     "ename": "AttributeError",
     "evalue": "ResultSet object has no attribute 'select'. You're probably treating a list of elements like a single element. Did you call find_all() when you meant to call find()?",
     "output_type": "error",
     "traceback": [
      "\u001b[1;31m---------------------------------------------------------------------------\u001b[0m",
      "\u001b[1;31mAttributeError\u001b[0m                            Traceback (most recent call last)",
      "Cell \u001b[1;32mIn[59], line 10\u001b[0m\n\u001b[0;32m      7\u001b[0m data \u001b[38;5;241m=\u001b[39m BeautifulSoup(res\u001b[38;5;241m.\u001b[39mcontent, \u001b[38;5;124m\"\u001b[39m\u001b[38;5;124mhtml.parser\u001b[39m\u001b[38;5;124m\"\u001b[39m)\n\u001b[0;32m      9\u001b[0m alldata \u001b[38;5;241m=\u001b[39m data\u001b[38;5;241m.\u001b[39mselect(\u001b[38;5;124m\"\u001b[39m\u001b[38;5;124m.recent-posts\u001b[39m\u001b[38;5;124m\"\u001b[39m)\n\u001b[1;32m---> 10\u001b[0m items \u001b[38;5;241m=\u001b[39m alldata\u001b[38;5;241m.\u001b[39mselect(\u001b[38;5;124m\"\u001b[39m\u001b[38;5;124mh4.card-text\u001b[39m\u001b[38;5;124m\"\u001b[39m)\n\u001b[0;32m     11\u001b[0m \u001b[38;5;28;01mfor\u001b[39;00m item \u001b[38;5;129;01min\u001b[39;00m items :\n\u001b[0;32m     12\u001b[0m     \u001b[38;5;28mprint\u001b[39m(item)\n",
      "File \u001b[1;32m~\\anaconda3\\Lib\\site-packages\\bs4\\element.py:2433\u001b[0m, in \u001b[0;36mResultSet.__getattr__\u001b[1;34m(self, key)\u001b[0m\n\u001b[0;32m   2431\u001b[0m \u001b[38;5;28;01mdef\u001b[39;00m\u001b[38;5;250m \u001b[39m\u001b[38;5;21m__getattr__\u001b[39m(\u001b[38;5;28mself\u001b[39m, key):\n\u001b[0;32m   2432\u001b[0m \u001b[38;5;250m    \u001b[39m\u001b[38;5;124;03m\"\"\"Raise a helpful exception to explain a common code fix.\"\"\"\u001b[39;00m\n\u001b[1;32m-> 2433\u001b[0m     \u001b[38;5;28;01mraise\u001b[39;00m \u001b[38;5;167;01mAttributeError\u001b[39;00m(\n\u001b[0;32m   2434\u001b[0m         \u001b[38;5;124m\"\u001b[39m\u001b[38;5;124mResultSet object has no attribute \u001b[39m\u001b[38;5;124m'\u001b[39m\u001b[38;5;132;01m%s\u001b[39;00m\u001b[38;5;124m'\u001b[39m\u001b[38;5;124m. You\u001b[39m\u001b[38;5;124m'\u001b[39m\u001b[38;5;124mre probably treating a list of elements like a single element. Did you call find_all() when you meant to call find()?\u001b[39m\u001b[38;5;124m\"\u001b[39m \u001b[38;5;241m%\u001b[39m key\n\u001b[0;32m   2435\u001b[0m     )\n",
      "\u001b[1;31mAttributeError\u001b[0m: ResultSet object has no attribute 'select'. You're probably treating a list of elements like a single element. Did you call find_all() when you meant to call find()?"
     ]
    }
   ],
   "source": [
    "import requests\n",
    "from bs4 import BeautifulSoup\n",
    "\n",
    "url = \"https://davelee-fun.github.io/\"\n",
    "\n",
    "res = requests.get(url)\n",
    "data = BeautifulSoup(res.content, \"html.parser\")\n",
    "\n",
    "alldata = data.select(\".recent-posts\")\n",
    "items = alldata.select(\"h4.card-text\")\n",
    "for item in items :\n",
    "    print(item)"
   ]
  },
  {
   "cell_type": "code",
   "execution_count": null,
   "id": "6dc95e2d-e1bc-4852-b492-3f5fe0ee4fd4",
   "metadata": {},
   "outputs": [],
   "source": [
    "# never miss"
   ]
  },
  {
   "cell_type": "code",
   "execution_count": 60,
   "id": "4ff157f0-06e2-4d7b-9c7a-6bdd09d5fc12",
   "metadata": {
    "scrolled": true
   },
   "outputs": [
    {
     "name": "stdout",
     "output_type": "stream",
     "text": [
      "상품명: 보드래 퍼펙트 누빔 매트리스커버, 차콜\n",
      "\n",
      "\n",
      "상품명: 피아블 클래식 방수 매트리스커버, 화이트\n",
      "\n",
      "\n",
      "상품명: 더자리 에코항균 마이크로 매트리스커버, 밀키차콜그레이\n",
      "\n",
      "\n",
      "상품명: 더자리 프레쉬 퓨어 매트리스 커버, 퓨어 차콜그레이\n",
      "\n",
      "\n",
      "상품명: 몽쉐어 알러스킨 항균 매트리스 커버, 카키그레이\n",
      "\n",
      "\n",
      "상품명: 쿠팡 브랜드 - 코멧 홈 40수 트윌 순면 100% 홑겹 매트리스커버, 그레이\n",
      "\n",
      "\n",
      "상품명: 패브릭아트 항균 마이크로 원단 매트리스 커버, 아이보리\n",
      "\n",
      "\n",
      "상품명: 바숨 순면 누빔 침대 매트리스커버, 차콜\n",
      "\n",
      "\n",
      "상품명: WEMAX 다용도 문옷걸이, 화이트, 1개\n",
      "\n",
      "\n",
      "상품명: 타카타카 프리미엄 나노 화이바 누빔 매트리스 커버, 젠틀핑핑\n",
      "\n",
      "\n",
      "상품명: 보몽드 순면스퀘어 누빔매트커버, 다크그레이\n",
      "\n",
      "\n",
      "상품명: 보드래 국내산 순면 60수 누빔 매트리스커버, 그레이\n",
      "\n",
      "\n"
     ]
    }
   ],
   "source": [
    "import requests\n",
    "from bs4 import BeautifulSoup\n",
    "\n",
    "url = \"https://davelee-fun.github.io/\"\n",
    "\n",
    "res = requests.get(url)\n",
    "data = BeautifulSoup(res.content, \"html.parser\")\n",
    "\n",
    "items = data.select(\"section.recent-posts h4.card-text\")\n",
    "for item in items :\n",
    "    print(item.get_text())"
   ]
  },
  {
   "cell_type": "code",
   "execution_count": 96,
   "id": "e4116720-bdb1-496d-894e-1e3636e0c25c",
   "metadata": {},
   "outputs": [
    {
     "ename": "AttributeError",
     "evalue": "'NoneType' object has no attribute 'get_text'",
     "output_type": "error",
     "traceback": [
      "\u001b[1;31m---------------------------------------------------------------------------\u001b[0m",
      "\u001b[1;31mAttributeError\u001b[0m                            Traceback (most recent call last)",
      "Cell \u001b[1;32mIn[96], line 10\u001b[0m\n\u001b[0;32m      7\u001b[0m data \u001b[38;5;241m=\u001b[39m BeautifulSoup(res\u001b[38;5;241m.\u001b[39mcontent, \u001b[38;5;124m\"\u001b[39m\u001b[38;5;124mhtml.parser\u001b[39m\u001b[38;5;124m\"\u001b[39m)\n\u001b[0;32m      9\u001b[0m item \u001b[38;5;241m=\u001b[39m data\u001b[38;5;241m.\u001b[39mselect_one(\u001b[38;5;124m\"\u001b[39m\u001b[38;5;124mdiv.container text-center\u001b[39m\u001b[38;5;124m\"\u001b[39m)\n\u001b[1;32m---> 10\u001b[0m \u001b[38;5;28mprint\u001b[39m(item\u001b[38;5;241m.\u001b[39mget_text()\u001b[38;5;241m.\u001b[39mstrip())\n",
      "\u001b[1;31mAttributeError\u001b[0m: 'NoneType' object has no attribute 'get_text'"
     ]
    }
   ],
   "source": [
    "import requests\n",
    "from bs4 import BeautifulSoup\n",
    "\n",
    "url = \"https://davelee-fun.github.io/\"\n",
    "\n",
    "res = requests.get(url)\n",
    "data = BeautifulSoup(res.content, \"html.parser\")\n",
    "\n",
    "item = data.select_one(\"div.container text-center\")\n",
    "print(item.get_text().strip())"
   ]
  }
 ],
 "metadata": {
  "kernelspec": {
   "display_name": "Python [conda env:base] *",
   "language": "python",
   "name": "conda-base-py"
  },
  "language_info": {
   "codemirror_mode": {
    "name": "ipython",
    "version": 3
   },
   "file_extension": ".py",
   "mimetype": "text/x-python",
   "name": "python",
   "nbconvert_exporter": "python",
   "pygments_lexer": "ipython3",
   "version": "3.13.5"
  }
 },
 "nbformat": 4,
 "nbformat_minor": 5
}
