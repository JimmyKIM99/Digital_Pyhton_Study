{
 "cells": [
  {
   "cell_type": "code",
   "execution_count": null,
   "id": "55fd5bd0-aa10-4afc-9ae9-baa310baea71",
   "metadata": {},
   "outputs": [],
   "source": [
    "import requests\n",
    "from bs4 import BeautifulSoup\n",
    "\n",
    "res = requests.get(\"https://crawlingtest.netlify.app/\")\n",
    "data = BeautifulSoup(res.content,\"html.parser\")\n",
    "\n",
    "find_data = data.find_all(\"li\", class_=\"course\")\n",
    "for item in find_data :\n",
    "    for item1 in item :\n",
    "        print(item1)"
   ]
  }
 ],
 "metadata": {
  "kernelspec": {
   "display_name": "Python [conda env:base] *",
   "language": "python",
   "name": "conda-base-py"
  },
  "language_info": {
   "codemirror_mode": {
    "name": "ipython",
    "version": 3
   },
   "file_extension": ".py",
   "mimetype": "text/x-python",
   "name": "python",
   "nbconvert_exporter": "python",
   "pygments_lexer": "ipython3",
   "version": "3.13.5"
  }
 },
 "nbformat": 4,
 "nbformat_minor": 5
}
