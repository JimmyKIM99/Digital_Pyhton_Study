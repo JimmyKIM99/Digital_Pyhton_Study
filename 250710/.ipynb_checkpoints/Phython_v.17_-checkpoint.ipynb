{
 "cells": [
  {
   "cell_type": "code",
   "execution_count": 6,
   "id": "16762bc9-dd66-43ac-bf35-a93e1881adfe",
   "metadata": {},
   "outputs": [
    {
     "name": "stdout",
     "output_type": "stream",
     "text": [
      "나만의 엣지있는 블로그 사이트 만들기\n",
      "당신의 커리어에 파이썬을 입히세요! 자신만의 자동 프로그램까지 가져가는\n",
      "      특별한 강의\n"
     ]
    }
   ],
   "source": [
    "import requests\n",
    "from bs4 import BeautifulSoup\n",
    "\n",
    "res = requests.get(\"https://crawlingtest.netlify.app/\")\n",
    "data = BeautifulSoup(res.content,\"html.parser\")\n",
    "\n",
    "find_data = data.select(\"h3\")\n",
    "find_data\n",
    "\n",
    "for find_data01 in find_data :\n",
    "    print(find_data01.get_text().strip())"
   ]
  },
  {
   "cell_type": "code",
   "execution_count": 8,
   "id": "f7da4a6d-f69b-4d6b-9964-2a8e40faf79c",
   "metadata": {},
   "outputs": [
    {
     "data": {
      "text/plain": [
       "[<h1>메가스터디 크롤링 테스트 페이지</h1>]"
      ]
     },
     "execution_count": 8,
     "metadata": {},
     "output_type": "execute_result"
    }
   ],
   "source": [
    "import requests\n",
    "from bs4 import BeautifulSoup\n",
    "\n",
    "res = requests.get(\"https://crawlingtest.netlify.app/\")\n",
    "data = BeautifulSoup(res.content,\"html.parser\")\n",
    "\n",
    "find_data = data.select(\"html > body > h1\")\n",
    "find_data"
   ]
  }
 ],
 "metadata": {
  "kernelspec": {
   "display_name": "Python [conda env:base] *",
   "language": "python",
   "name": "conda-base-py"
  },
  "language_info": {
   "codemirror_mode": {
    "name": "ipython",
    "version": 3
   },
   "file_extension": ".py",
   "mimetype": "text/x-python",
   "name": "python",
   "nbconvert_exporter": "python",
   "pygments_lexer": "ipython3",
   "version": "3.13.5"
  }
 },
 "nbformat": 4,
 "nbformat_minor": 5
}
