{
 "cells": [
  {
   "cell_type": "code",
   "execution_count": null,
   "id": "2125bea6-5e6e-43f7-a627-6290537ad854",
   "metadata": {},
   "outputs": [],
   "source": [
    "### request로 크롤링하는 방법"
   ]
  },
  {
   "cell_type": "code",
   "execution_count": 5,
   "id": "22f31355-d0d4-4c24-8cf9-0804012c3b98",
   "metadata": {},
   "outputs": [
    {
     "name": "stdout",
     "output_type": "stream",
     "text": [
      "상품명: 보몽드 순면스퀘어 솔리드 누빔매트커버, 다크블루\n",
      "상품명: 슈에뜨룸 선인장 리플 침구 세트, 베이지\n",
      "상품명: 선우랜드 레인보우 2단 문걸이용 옷걸이 _중형, 화이트, 상세페이지참조\n",
      "상품명: 보드래 헬로우 누빔 매트리스커버, 핑크\n",
      "상품명: 보드래 퍼펙트 누빔 매트리스커버, 차콜\n",
      "상품명: 피아블 클래식 방수 매트리스커버, 화이트\n",
      "상품명: 더자리 에코항균 마이크로 매트리스커버, 밀키차콜그레이\n",
      "상품명: 더자리 프레쉬 퓨어 매트리스 커버, 퓨어 차콜그레이\n",
      "상품명: 몽쉐어 알러스킨 항균 매트리스 커버, 카키그레이\n",
      "상품명: 쿠팡 브랜드 - 코멧 홈 40수 트윌 순면 100% 홑겹 매트리스커버, 그레이\n",
      "상품명: 패브릭아트 항균 마이크로 원단 매트리스 커버, 아이보리\n",
      "상품명: 바숨 순면 누빔 침대 매트리스커버, 차콜\n",
      "상품명: WEMAX 다용도 문옷걸이, 화이트, 1개\n",
      "상품명: 타카타카 프리미엄 나노 화이바 누빔 매트리스 커버, 젠틀핑핑\n",
      "상품명: 보몽드 순면스퀘어 누빔매트커버, 다크그레이\n",
      "상품명: 보드래 국내산 순면 60수 누빔 매트리스커버, 그레이\n"
     ]
    }
   ],
   "source": [
    "import requests\n",
    "from bs4 import BeautifulSoup\n",
    "\n",
    "res = requests.get(\"https://davelee-fun.github.io/\")\n",
    "data = BeautifulSoup(res.content,\"html.parser\")\n",
    "\n",
    "datas = data.select(\"h4.card-text\")\n",
    "for data in datas :\n",
    "    print(data.get_text().strip())"
   ]
  },
  {
   "cell_type": "code",
   "execution_count": null,
   "id": "75f406bb-3542-47e7-86b4-392d2c562bda",
   "metadata": {},
   "outputs": [],
   "source": [
    "# url로 크롤링 하는 방법\n",
    "# 1~3년차 주니어 시절\n",
    "# 3~5년 중간직급자(*레벨 차이) => 어떤 버그 발생, 문제 발생 => 찾아내는 속도 및 해결 절차 프로세스\n",
    "# 에러가 발생할 것을 대비하는 코드를 항상 기입 // 예외사항이 발생될 것을 항상 대비"
   ]
  },
  {
   "cell_type": "code",
   "execution_count": 25,
   "id": "6f046e88-a3a8-4087-a000-1f75a896f4bd",
   "metadata": {},
   "outputs": [
    {
     "ename": "AttributeError",
     "evalue": "'function' object has no attribute 'get'",
     "output_type": "error",
     "traceback": [
      "\u001b[1;31m---------------------------------------------------------------------------\u001b[0m",
      "\u001b[1;31mAttributeError\u001b[0m                            Traceback (most recent call last)",
      "Cell \u001b[1;32mIn[25], line 4\u001b[0m\n\u001b[0;32m      1\u001b[0m \u001b[38;5;28;01mfrom\u001b[39;00m\u001b[38;5;250m \u001b[39m\u001b[38;5;21;01murllib\u001b[39;00m\u001b[38;5;21;01m.\u001b[39;00m\u001b[38;5;21;01mrequest\u001b[39;00m\u001b[38;5;250m \u001b[39m\u001b[38;5;28;01mimport\u001b[39;00m urlopen\n\u001b[0;32m      2\u001b[0m \u001b[38;5;28;01mfrom\u001b[39;00m\u001b[38;5;250m \u001b[39m\u001b[38;5;21;01mbs4\u001b[39;00m\u001b[38;5;250m \u001b[39m\u001b[38;5;28;01mimport\u001b[39;00m BeautifulSoup\n\u001b[1;32m----> 4\u001b[0m res \u001b[38;5;241m=\u001b[39m urlopen\u001b[38;5;241m.\u001b[39mget(\u001b[38;5;124m\"\u001b[39m\u001b[38;5;124mhttps://davelee-fun.github.io/\u001b[39m\u001b[38;5;124m\"\u001b[39m)\n\u001b[0;32m      6\u001b[0m \u001b[38;5;28mprint\u001b[39m(res\u001b[38;5;241m.\u001b[39mstatus_code)\n",
      "\u001b[1;31mAttributeError\u001b[0m: 'function' object has no attribute 'get'"
     ]
    }
   ],
   "source": [
    "from urllib.request import urlopen\n",
    "from bs4 import BeautifulSoup\n",
    "\n",
    "res = urlopen.get(\"https://davelee-fun.github.io/\")\n",
    "\n",
    "print(res.status_code)\n",
    "\n",
    "#if res.status_code\n",
    "\n",
    "#soup = BeautifulSoup(res, \"html.parser\")\n",
    "\n",
    "#data = soup.select(\"h4.card-text\")\n",
    "\n",
    "#for datas in data :\n",
    "#    print(datas.get_text().strip())"
   ]
  },
  {
   "cell_type": "code",
   "execution_count": 37,
   "id": "19145256-b9b6-4563-8147-ebb3026e7cdd",
   "metadata": {},
   "outputs": [
    {
     "name": "stdout",
     "output_type": "stream",
     "text": [
      "보몽드 순면스퀘어 솔리드 누빔매트커버, 다크블루\n",
      "슈에뜨룸 선인장 리플 침구 세트, 베이지\n",
      "선우랜드 레인보우 2단 문걸이용 옷걸이 _중형, 화이트, 상세페이지참조\n",
      "보드래 헬로우 누빔 매트리스커버, 핑크\n",
      "보드래 퍼펙트 누빔 매트리스커버, 차콜\n",
      "피아블 클래식 방수 매트리스커버, 화이트\n",
      "더자리 에코항균 마이크로 매트리스커버, 밀키차콜그레이\n",
      "더자리 프레쉬 퓨어 매트리스 커버, 퓨어 차콜그레이\n",
      "몽쉐어 알러스킨 항균 매트리스 커버, 카키그레이\n",
      "쿠팡 브랜드 - 코멧 홈 40수 트윌 순면 100% 홑겹 매트리스커버, 그레이\n",
      "패브릭아트 항균 마이크로 원단 매트리스 커버, 아이보리\n",
      "바숨 순면 누빔 침대 매트리스커버, 차콜\n",
      "WEMAX 다용도 문옷걸이, 화이트, 1개\n",
      "타카타카 프리미엄 나노 화이바 누빔 매트리스 커버, 젠틀핑핑\n",
      "보몽드 순면스퀘어 누빔매트커버, 다크그레이\n",
      "보드래 국내산 순면 60수 누빔 매트리스커버, 그레이\n"
     ]
    }
   ],
   "source": [
    "import requests\n",
    "from bs4 import BeautifulSoup\n",
    "\n",
    "res = requests.get(\"https://davelee-fun.github.io/\")\n",
    "\n",
    "if res.status_code != 200 :\n",
    "    print(\"존재하지 않는 페이지입니다\")\n",
    "else : \n",
    "    soup = BeautifulSoup(res.content, \"html.parser\")\n",
    "    data = soup.select(\"h4.card-text\")\n",
    "    for datas in data :\n",
    "        print(datas.get_text().strip()[5:])"
   ]
  },
  {
   "cell_type": "code",
   "execution_count": 54,
   "id": "7fb7584e-aca1-4d4f-a59e-65f2af7ceba0",
   "metadata": {},
   "outputs": [
    {
     "name": "stdout",
     "output_type": "stream",
     "text": [
      "상품명: 보몽드 순면스퀘어 솔리드 누빔매트커버, 다크블루\n",
      "상품명: 슈에뜨룸 선인장 리플 침구 세트, 베이지\n",
      "상품명: 선우랜드 레인보우 2단 문걸이용 옷걸이 _중형, 화이트, 상세페이지참조\n",
      "상품명: 보드래 헬로우 누빔 매트리스커버, 핑크\n",
      "상품명: 보드래 퍼펙트 누빔 매트리스커버, 차콜\n",
      "상품명: 피아블 클래식 방수 매트리스커버, 화이트\n",
      "상품명: 더자리 에코항균 마이크로 매트리스커버, 밀키차콜그레이\n",
      "상품명: 더자리 프레쉬 퓨어 매트리스 커버, 퓨어 차콜그레이\n",
      "상품명: 몽쉐어 알러스킨 항균 매트리스 커버, 카키그레이\n",
      "상품명: 쿠팡 브랜드 - 코멧 홈 40수 트윌 순면 100% 홑겹 매트리스커버, 그레이\n",
      "상품명: 패브릭아트 항균 마이크로 원단 매트리스 커버, 아이보리\n",
      "상품명: 바숨 순면 누빔 침대 매트리스커버, 차콜\n",
      "상품명: WEMAX 다용도 문옷걸이, 화이트, 1개\n",
      "상품명: 타카타카 프리미엄 나노 화이바 누빔 매트리스 커버, 젠틀핑핑\n",
      "상품명: 보몽드 순면스퀘어 누빔매트커버, 다크그레이\n",
      "상품명: 보드래 국내산 순면 60수 누빔 매트리스커버, 그레이\n"
     ]
    }
   ],
   "source": [
    "import requests\n",
    "from bs4 import BeautifulSoup\n",
    "\n",
    "url = \"https://davelee-fun.github.io/\"\n",
    "\n",
    "for page_number in range(7) :\n",
    "    if page_number == 0 :\n",
    "        res = requests.get(url)\n",
    "    else :\n",
    "        res = requests.get(f\"{url}product-{page_number + 1}\")\n",
    "\n",
    "    soup = BeautifulSoup(res.content, \"html.parser\")\n",
    "    datas = soup.select(\"h4.card-text\")\n",
    "    for data in datas :\n",
    "        print(data.get_text().strip())\n",
    "\n",
    "\n",
    "#res = requests.get(\"https://davelee-fun.github.io/\")\n",
    "#data = BeautifulSoup(res.content, \"html.parser\")"
   ]
  }
 ],
 "metadata": {
  "kernelspec": {
   "display_name": "Python [conda env:base] *",
   "language": "python",
   "name": "conda-base-py"
  },
  "language_info": {
   "codemirror_mode": {
    "name": "ipython",
    "version": 3
   },
   "file_extension": ".py",
   "mimetype": "text/x-python",
   "name": "python",
   "nbconvert_exporter": "python",
   "pygments_lexer": "ipython3",
   "version": "3.13.5"
  }
 },
 "nbformat": 4,
 "nbformat_minor": 5
}
