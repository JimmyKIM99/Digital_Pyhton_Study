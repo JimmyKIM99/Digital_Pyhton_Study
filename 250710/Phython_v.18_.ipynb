{
 "cells": [
  {
   "cell_type": "code",
   "execution_count": 1,
   "id": "e65d6280-b2b2-4a99-93f5-e4c23bb37cef",
   "metadata": {},
   "outputs": [
    {
     "data": {
      "text/plain": [
       "[<a href=\"#\">(왕초보) - 클래스 소개</a>,\n",
       " <a href=\"#\">(왕초보) - 블로그 개발 필요한 준비물 준비하기</a>,\n",
       " <a href=\"#\">(왕초보) - Github pages 설정해서 블로그 첫 페이지 만들어보기</a>,\n",
       " <a href=\"#\">(왕초보) - 초간단 페이지 만들어보기</a>,\n",
       " <a href=\"#\">(왕초보) - 이쁘게 테마 적용해보기</a>,\n",
       " <a href=\"#\">(왕초보) - 마크다운 기초 이해하고, 실제 나만의 블로그 페이지\n",
       "           만들기</a>,\n",
       " <a href=\"#\">(왕초보) - 다양한 마크다운 기법 익혀보며, 나만의 블로그 페이지\n",
       "           꾸며보기</a>,\n",
       " <a href=\"#\">(초급) - 강사가 실제 사용하는 자동 프로그램 소개 [2]</a>,\n",
       " <a href=\"#\">(초급) - 필요한 프로그램 설치 시연 [5]</a>,\n",
       " <a href=\"#\">(초급) - 데이터를 엑셀 파일로 만들기 [9]</a>,\n",
       " <a href=\"#\">(초급) -     엑셀 파일 이쁘게! 이쁘게! [8]</a>,\n",
       " <a href=\"#\">(초급) -     나대신 주기적으로 파이썬 프로그램\n",
       "           실행하기 [7]</a>,\n",
       " <a href=\"#\">(초급) - 파이썬으로 슬랙(slack) 메신저에 글쓰기 [40]</a>,\n",
       " <a href=\"#\">(초급) - 웹사이트 변경사항 주기적으로 체크해서, 메신저로 알람주기\n",
       "           [12]</a>,\n",
       " <a href=\"#\">(초급) - 네이버 API 사용해서, 블로그에 글쓰기 [42]</a>,\n",
       " <a href=\"#\">(중급) - 자동으로 쿠팡파트너스 API 로 가져온 상품 정보, 네이버\n",
       "           블로그/트위터에 홍보하기 [412]</a>]"
      ]
     },
     "execution_count": 1,
     "metadata": {},
     "output_type": "execute_result"
    }
   ],
   "source": [
    "import requests\n",
    "from bs4 import BeautifulSoup\n",
    "\n",
    "res = requests.get(\"https://crawlingtest.netlify.app/\")\n",
    "data = BeautifulSoup(res.content,\"html.parser\")\n",
    "\n",
    "find_data = data.select(\"ul a\")\n",
    "find_data"
   ]
  },
  {
   "cell_type": "code",
   "execution_count": 5,
   "id": "f4e50ce0-5381-4ff8-af88-8ea3d6e5ce65",
   "metadata": {
    "scrolled": true
   },
   "outputs": [
    {
     "name": "stdout",
     "output_type": "stream",
     "text": [
      "<li class=\"course\">\n",
      "<a href=\"#\">(왕초보) - 클래스 소개</a>\n",
      "</li>\n",
      "<li class=\"course\">\n",
      "<a href=\"#\">(왕초보) - 블로그 개발 필요한 준비물 준비하기</a>\n",
      "</li>\n",
      "<li class=\"course\">\n",
      "<a href=\"#\">(왕초보) - Github pages 설정해서 블로그 첫 페이지 만들어보기</a>\n",
      "</li>\n",
      "<li class=\"course\">\n",
      "<a href=\"#\">(왕초보) - 초간단 페이지 만들어보기</a>\n",
      "</li>\n",
      "<li class=\"course\">\n",
      "<a href=\"#\">(왕초보) - 이쁘게 테마 적용해보기</a>\n",
      "</li>\n",
      "<li class=\"course\">\n",
      "<a href=\"#\">(왕초보) - 마크다운 기초 이해하고, 실제 나만의 블로그 페이지\n",
      "          만들기</a>\n",
      "</li>\n",
      "<li class=\"course\">\n",
      "<a href=\"#\">(왕초보) - 다양한 마크다운 기법 익혀보며, 나만의 블로그 페이지\n",
      "          꾸며보기</a>\n",
      "</li>\n"
     ]
    }
   ],
   "source": [
    "import requests\n",
    "from bs4 import BeautifulSoup\n",
    "\n",
    "res = requests.get(\"https://crawlingtest.netlify.app/\")\n",
    "data = BeautifulSoup(res.content,\"html.parser\")\n",
    "\n",
    "#find_data = data.select(\".course\")\n",
    "#for find_data01 in find_data :\n",
    "#    print(find_data01)\n",
    "\n",
    "find_data = data.select(\"#hobby_course_list .course\")\n",
    "for find_data01 in find_data :\n",
    "    print(find_data01)"
   ]
  },
  {
   "cell_type": "code",
   "execution_count": 17,
   "id": "52ce79b3-93ca-420f-8e3a-df62994c3d82",
   "metadata": {},
   "outputs": [
    {
     "data": {
      "text/plain": [
       "<li class=\"course\" id=\"specialad\">\n",
       "<a href=\"#\">(왕초보) - 클래스 소개</a>\n",
       "</li>"
      ]
     },
     "execution_count": 17,
     "metadata": {},
     "output_type": "execute_result"
    }
   ],
   "source": [
    "import requests\n",
    "from bs4 import BeautifulSoup\n",
    "\n",
    "res = requests.get(\"https://crawlingtest.netlify.app/\")\n",
    "data = BeautifulSoup(res.content,\"html.parser\")\n",
    "\n",
    "# select() => 기본적으로 class 속성을 가지고 있는 선택자들을 찾아와서 반복문을 사용하고 싶은 경우\n",
    "# select_one => id 속성과 같이 문서상에 한 번밖에 사용을 하지 못하는 겨웅에 크롤링하고 싶을 때\n",
    "# items = data.select(\"body #hobby_course_list > .course#specialad\")\n",
    "\n",
    "items = data.select_one(\"#specialad\") # => 하나의 값을 찾음\n",
    "items"
   ]
  },
  {
   "cell_type": "code",
   "execution_count": 40,
   "id": "8d82f426-0874-470f-b7d2-be31d7e6283f",
   "metadata": {},
   "outputs": [
    {
     "name": "stdout",
     "output_type": "stream",
     "text": [
      "일정 // 커리큘럼 타이틀 // 난이도 /\n",
      "5.1 ~ 6.15 // 나만의 엣지있는 블로그 사이트 만들기 (취미로 익히는 IT) // 초급 /\n",
      "6.16 ~ 7.31 // 파이썬과 데이터과학 첫걸음 (IT 기본기 익히기) // 중급 /\n"
     ]
    }
   ],
   "source": [
    "import requests\n",
    "from bs4 import BeautifulSoup\n",
    "\n",
    "res = requests.get(\"https://crawlingtest.netlify.app/\")\n",
    "data = BeautifulSoup(res.content,\"html.parser\")\n",
    "\n",
    "items = data.select(\"tr\")\n",
    "\n",
    "#for tr in items :\n",
    "#    td = tr.select(\"id\")\n",
    "#    for td in items :\n",
    "#        print(td.get_text())\n",
    "\n",
    "for tr in items :\n",
    "    tds = tr.find_all(\"td\")\n",
    "    row_str = \"\"\n",
    "    for tdd in tds :\n",
    "        row_str += f\"/ {tdd.get_text()} /\"\n",
    "    print(row_str[2:])"
   ]
  },
  {
   "cell_type": "code",
   "execution_count": null,
   "id": "6872b39a-6b69-445e-8d5b-14d4361ed98b",
   "metadata": {},
   "outputs": [],
   "source": []
  }
 ],
 "metadata": {
  "kernelspec": {
   "display_name": "Python [conda env:base] *",
   "language": "python",
   "name": "conda-base-py"
  },
  "language_info": {
   "codemirror_mode": {
    "name": "ipython",
    "version": 3
   },
   "file_extension": ".py",
   "mimetype": "text/x-python",
   "name": "python",
   "nbconvert_exporter": "python",
   "pygments_lexer": "ipython3",
   "version": "3.13.5"
  }
 },
 "nbformat": 4,
 "nbformat_minor": 5
}
