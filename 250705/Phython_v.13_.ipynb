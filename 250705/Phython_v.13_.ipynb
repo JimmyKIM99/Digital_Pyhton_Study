{
 "cells": [
  {
   "cell_type": "code",
   "execution_count": null,
   "id": "df994c2e-79be-4a72-8ce0-fa7c80efa15d",
   "metadata": {},
   "outputs": [],
   "source": [
    "### 파이썬 크롤링\n",
    "1. 크롤링을 하는 수많은 언어와 프로그래밍 언어와 툴이 존재하는데 왜? 파이썬?\n",
    " - 파이썬은 라이브러리의 천국이다\n",
    " - 라이브러리 => 도서관 => 특정 분야에 대한 전문지식을 습득하기 위해서 해당 책을 빌려보거나 서재에서 가져다가 참고!\n",
    " - 크롤링을 하려고 하는데, A to Z 까지 직접 크롤링을 위한 코드를 작성한다면, 시간, 효율이 매우 안좋을 것임\n",
    " - 파이썬은 미리 크롤링할 수 있도록 도와줄 수 있는 일종의 참고서적을 만들어 놓음 (*참고서적 => 라이브러리)\n",
    " - 특정 라이브러리를 가져와서 사용하려면 import 예약어 (*명령어)를 사용!!\n",
    " - 만약에 해당 라이브러리가 파이썬에 내장되어있는 라이브러리가 아니라고 한다면 반드시 사전에 설치가 필요!!\n",
    "    -> !pip = (python install package)\n",
    "    - !pip install (설치하고싶은 라이브러리명 = pandas)"
   ]
  },
  {
   "cell_type": "code",
   "execution_count": 4,
   "id": "c0292b3e-e239-4498-8e42-cb99109a594a",
   "metadata": {},
   "outputs": [
    {
     "name": "stdout",
     "output_type": "stream",
     "text": [
      "Requirement already satisfied: pandas in c:\\users\\user\\anaconda3\\lib\\site-packages (2.2.3)\n",
      "Requirement already satisfied: numpy>=1.26.0 in c:\\users\\user\\anaconda3\\lib\\site-packages (from pandas) (2.1.3)\n",
      "Requirement already satisfied: python-dateutil>=2.8.2 in c:\\users\\user\\anaconda3\\lib\\site-packages (from pandas) (2.9.0.post0)\n",
      "Requirement already satisfied: pytz>=2020.1 in c:\\users\\user\\anaconda3\\lib\\site-packages (from pandas) (2024.1)\n",
      "Requirement already satisfied: tzdata>=2022.7 in c:\\users\\user\\anaconda3\\lib\\site-packages (from pandas) (2025.2)\n",
      "Requirement already satisfied: six>=1.5 in c:\\users\\user\\anaconda3\\lib\\site-packages (from python-dateutil>=2.8.2->pandas) (1.17.0)\n"
     ]
    }
   ],
   "source": [
    "!pip install pandas"
   ]
  },
  {
   "cell_type": "code",
   "execution_count": 6,
   "id": "ac5c1c01-4a04-43cb-adca-bd52617d977a",
   "metadata": {},
   "outputs": [],
   "source": [
    "import pandas"
   ]
  },
  {
   "cell_type": "code",
   "execution_count": 31,
   "id": "cf55ed41-b3fd-4521-ab6a-481a96cdc149",
   "metadata": {},
   "outputs": [
    {
     "data": {
      "text/plain": [
       "1.2909944487358056"
      ]
     },
     "execution_count": 31,
     "metadata": {},
     "output_type": "execute_result"
    }
   ],
   "source": [
    "# import statistics\n",
    "#from statistics import mean\n",
    "#import statistics as static\n",
    "from statistics import mean as m\n",
    "\n",
    "data = [1, 2, 3, 4]\n",
    "\n",
    "# print(statistics.mean(data))\n",
    "# print(statistics.stdev(data))\n",
    "# @(at) // -(dash) // .(온점) // # // ^(캐럿) // nickname(alias, 엘리아스, as)\n",
    "\n",
    "statistics.mean(data)\n",
    "static.stdev(data)"
   ]
  }
 ],
 "metadata": {
  "kernelspec": {
   "display_name": "Python [conda env:base] *",
   "language": "python",
   "name": "conda-base-py"
  },
  "language_info": {
   "codemirror_mode": {
    "name": "ipython",
    "version": 3
   },
   "file_extension": ".py",
   "mimetype": "text/x-python",
   "name": "python",
   "nbconvert_exporter": "python",
   "pygments_lexer": "ipython3",
   "version": "3.13.5"
  }
 },
 "nbformat": 4,
 "nbformat_minor": 5
}
