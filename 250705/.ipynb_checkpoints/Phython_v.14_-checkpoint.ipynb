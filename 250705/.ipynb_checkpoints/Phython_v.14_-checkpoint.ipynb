{
 "cells": [
  {
   "cell_type": "code",
   "execution_count": null,
   "id": "2580dd7f-58f7-4eb1-b631-596429ca40c1",
   "metadata": {},
   "outputs": [],
   "source": [
    "### 파이썬 Basic 크롤링 문법\n",
    "1. requests\n",
    "2. Bs4"
   ]
  },
  {
   "cell_type": "code",
   "execution_count": 15,
   "id": "2086ddeb-ed73-4984-a921-a155c5b6776a",
   "metadata": {},
   "outputs": [
    {
     "name": "stdout",
     "output_type": "stream",
     "text": [
      "잔금대출에도 DTI 규제 적용 검토\n"
     ]
    }
   ],
   "source": [
    "import requests\n",
    "from bs4 import BeautifulSoup\n",
    "\n",
    "res = requests.get(\"https://v.daum.net/v/20170615203441266\")\n",
    "soup = BeautifulSoup(res.content, \"html.parser\")\n",
    "\n",
    "mydate = soup.find(\"title\")\n",
    "print(mydate.get_text())"
   ]
  }
 ],
 "metadata": {
  "kernelspec": {
   "display_name": "Python [conda env:base] *",
   "language": "python",
   "name": "conda-base-py"
  },
  "language_info": {
   "codemirror_mode": {
    "name": "ipython",
    "version": 3
   },
   "file_extension": ".py",
   "mimetype": "text/x-python",
   "name": "python",
   "nbconvert_exporter": "python",
   "pygments_lexer": "ipython3",
   "version": "3.13.5"
  }
 },
 "nbformat": 4,
 "nbformat_minor": 5
}
