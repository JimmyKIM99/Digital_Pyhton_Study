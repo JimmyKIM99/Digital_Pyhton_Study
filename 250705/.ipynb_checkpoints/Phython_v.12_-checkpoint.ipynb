{
 "cells": [
  {
   "cell_type": "code",
   "execution_count": null,
   "id": "4364e1ca-36ff-4d60-8f1a-e4974cb8cef7",
   "metadata": {},
   "outputs": [],
   "source": [
    "#### 절차지향 언어가 문제를 해결해가는 과정\n",
    "\n",
    "- 예 : 냉장고에 코끼를 넣는다\n",
    "- 1. 냉장고 문을 연다 // open 냉장고\n",
    "- 2. 코끼리를 냉장고에 넣는다 //  insert 코끼리 into 냉장고\n",
    "- 3. 냉장고 문을 닫는다 // restore 냉장고"
   ]
  },
  {
   "cell_type": "code",
   "execution_count": null,
   "id": "c9dc4be6-8c9d-4505-97e3-9a15e368eca7",
   "metadata": {},
   "outputs": [],
   "source": [
    "#### 객체 지향 언어 문제 해결\n",
    "\n",
    "- 예 : 냉장고에 코끼리를 넣는다\n",
    "- 1. 코끼리라는 동물의 정보를 수집해서 해당 동물에 대한 설계도(*코끼리는 냉장고 문을 열 수 있음, 안으로 들고 있음을 사전에 정의)를 만든다.\n",
    "- 2. 이전 단계에서 만든 코끼리 설계도를 기반으로 코끼리1 이라는 객체를 하나 만든다.\n",
    "- 3. 냉장고라는 사물의 정보를 수집해서 해당 사물에 대한 설계도(*만약 코끼리가 낭장고 안에 들어오면 문이 닫히는 기능)를 만든다.\n",
    "- 4. 이전 단계에서 만든 냉장고 설계도를 기반으로 냉장고1 이라는 개체를 하나 만든다.\n",
    "- 5. 코끼리1 이라는 객체안에 \"내장\"되어있는 기능을 호출해서 냉장고1 이라는 객체의 문을 열게 한다.\n",
    "- 6. 코끼리1 이라는 객체안에 \"내장\"되어있는 기능을 호출해서 냉장고1 이라는 개체 안으로 들어가게 한다.\n",
    "- 7. 냉장고1 이라는 객체안에 \"내장\"되어있는 기능을 호출해서 냉장고1 이라는 개체의 문을 닫게 한다."
   ]
  },
  {
   "cell_type": "code",
   "execution_count": null,
   "id": "5275cffb-a998-4146-89aa-ba4185fe9c51",
   "metadata": {},
   "outputs": [],
   "source": [
    "### 객체지향 언어 핵심 요소\n",
    "1. 어떤 사물 혹은 동물 나타낼 수 있는 설계도를 객체지향언어에서 => (Class)\n",
    "    - attribute (속성) : ex) 코끼리의 다리는 4개 / 코끼리의 코는 1개 / 코는 손의 역할을 함\n",
    "    - method (기능 = 함수, 개체만의 함수) : 코끼리가 냉장고를 보면 자신의 코로 문을 연다. /\n",
    "    코끼리가 냉장고를 보면 자신의 코로 냉장고 문을 열고 그 안으로 들어간다.\n",
    "    - 만약 해당 객체가 사전에 설계도면에 정의가 되어있는 속성값과 기능을 구현하고 싶다면 이렇게 작성해라 = > 개체명.속성명 or 객체.메서드함수\n",
    "2. 어떤 사물 혹은 동물의 정보를 가지고 있는 설계도를 가지고 객체 => (Object) == \"객체\"\n",
    "    - 객체명, 속성 : 객체가 가지고 있는 어떤 정보들을 찾아올 수 있음\n",
    "    - 객체명.메서드함수() : 객체가 가지고 있는 고유한 매서드함수를 실행하겠다는 의미"
   ]
  },
  {
   "cell_type": "code",
   "execution_count": null,
   "id": "fe40cb8f-ca2a-45c0-afcf-3fc5329f98e0",
   "metadata": {},
   "outputs": [],
   "source": [
    "#### 4. class를 활용한 객체 생성 문법\n",
    "\n",
    "1. 클래스 정의 : class Student -> Student라는 클래스를 정의하겠다는 의미!\n",
    "2. 클래스 안에 속성과 메서드함수를 정의하려면, \"생성자 함수\" = \"초기화 함수\"를 만들어야 함!\n",
    "    - __init__ : 클래스를 통해서 객체가 생성될 때 자동으로 호출되는 특별한 함수!\n",
    "    - self : __init__ 특별한 함수를 선언할 때, 반드시 첫번째 매개변수로 작성해야 함! => 자기자신 => 클래스를 통해서 생성되어질 그 객체 그 당사자\n",
    "    - Ex) __init__(self, name, grade) ==> 클래스를 활용하여 최초에 객체를 생성할 때,  name 이라는 속성값과 grade라는 속성값을 받아서\n",
    "    객체 본인의 속성으로 정의하겠다는 의미를 내포\n",
    "    - def __init__(self, name, grade) :\n",
    "        self.name = name\n",
    "        self.grade = grade\n",
    "    - self.name => 클래스 안에 있는 하나의 변수로서 인식\n",
    "    - 생성자 함수를 선언한 이후에 메서드함수를 선언!! => 개발자가 원하는 직관적인 이름으로 메서드 함수명을 선언\n",
    "    def study(self):\n",
    "        print(f\"{self.name}가 공부를 열심히 합니다.\")\n",
    "    - 클래스를 통해서 새롭게 탄생한 객체.study(공유) => 공유가 공부를 열심히 합니다.\n",
    "    "
   ]
  },
  {
   "cell_type": "code",
   "execution_count": null,
   "id": "9e07f8d8-18f4-45c8-90ac-ce8c1deb8ae3",
   "metadata": {},
   "outputs": [],
   "source": [
    "##파이썬 객체 지향 언어\n",
    "# C언어, 절차 지향 언어\n",
    "# C++, C#, Java, JS, PY : 객체지향 언어"
   ]
  },
  {
   "cell_type": "code",
   "execution_count": 2,
   "id": "31386480-5cd7-4519-afc5-3643b640c008",
   "metadata": {},
   "outputs": [
    {
     "name": "stdout",
     "output_type": "stream",
     "text": [
      "Fun Phython\n"
     ]
    }
   ],
   "source": [
    "# def print_string() \"()\" 참조 변수 => 매개변수 결정(*참조 변수라고도 부름), 인자값으로 어떤 값을 적용한다면,\n",
    "# 해당 인자값을 매개변수는 참조를 해서 찾아오는 방식이기 때문에!!\n",
    "# 함수 선언\n",
    "\n",
    "def print_string(data) : \n",
    "    print(data)\n",
    "\n",
    "# 함수 호출\n",
    "print_string(\"Fun Phython\")"
   ]
  },
  {
   "cell_type": "code",
   "execution_count": 5,
   "id": "08235e00-e5ee-4f6b-95c4-4b78d3881504",
   "metadata": {},
   "outputs": [
    {
     "name": "stdout",
     "output_type": "stream",
     "text": [
      "<class 'str'>\n"
     ]
    }
   ],
   "source": [
    "string = \"Fun coding\" #문자열 객체/문자열 대입 변수 / splite() => 내장함수/파이썬 언어 안에 사전에 만들어놓음\n",
    "string.split()\n",
    "print(type(string))\n",
    "\n",
    "#그렇다면 어떻게 이 창시자는 어떤 방법으로 / 파이썬에 함수를 내장시켜놓았나? => 복잡하고 어려운 기능 함수화 + 편리하게 기능 구현"
   ]
  },
  {
   "cell_type": "code",
   "execution_count": null,
   "id": "66362410-cd53-4b1c-ba9b-248a32f82b29",
   "metadata": {},
   "outputs": [],
   "source": [
    "class Student :\n",
    "    def __init__(self, name, grade) : \n",
    "        self.name = name\n",
    "        self.grade = grade\n",
    "    def study(self) :\n",
    "        print(f\"{self.name}가 공부를 열심히 합니다\")\n",
    "    def take_exame(self) :\n",
    "        print(f\"{self.name}가 시험을 봅니다\")"
   ]
  }
 ],
 "metadata": {
  "kernelspec": {
   "display_name": "Python [conda env:base] *",
   "language": "python",
   "name": "conda-base-py"
  },
  "language_info": {
   "codemirror_mode": {
    "name": "ipython",
    "version": 3
   },
   "file_extension": ".py",
   "mimetype": "text/x-python",
   "name": "python",
   "nbconvert_exporter": "python",
   "pygments_lexer": "ipython3",
   "version": "3.13.5"
  }
 },
 "nbformat": 4,
 "nbformat_minor": 5
}
