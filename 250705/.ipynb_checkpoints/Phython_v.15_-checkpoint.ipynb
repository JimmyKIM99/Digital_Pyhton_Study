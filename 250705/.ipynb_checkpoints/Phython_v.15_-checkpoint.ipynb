{
 "cells": [
  {
   "cell_type": "code",
   "execution_count": 9,
   "id": "ac47abb2-dd15-4e1a-aa97-06b56c75f7ca",
   "metadata": {},
   "outputs": [
    {
     "name": "stdout",
     "output_type": "stream",
     "text": [
      "<h1 id=\"title\">[1]크롤링이란?</h1>\n",
      "[1]크롤링이란?\n",
      "[1]크롤링이란?\n"
     ]
    }
   ],
   "source": [
    "from bs4 import BeautifulSoup\n",
    "\n",
    "html = \"<html>\\\n",
    "            <body>\\\n",
    "                <h1 id='title'>[1]크롤링이란?</h1>\\\n",
    "                <p class='csssttle'>웹페이지에서 필요한 데이터를 추출하는 것</p>\\\n",
    "                <p id='body' align='center'>파이썬을 중심으로 다양한 웹크롤링 기술 발달</p>\\\n",
    "            </body>\\\n",
    "        </html>\"\n",
    "\n",
    "soup = BeautifulSoup(html, \"html.parser\")\n",
    "data = soup.find(\"h1\")\n",
    "print(data)\n",
    "print(data.string)\n",
    "print(data.get_text())\n",
    "\n",
    "# => 텍스트 추출하기"
   ]
  },
  {
   "cell_type": "code",
   "execution_count": 10,
   "id": "148d66f1-54a1-45e1-9bef-203157ec4a2d",
   "metadata": {},
   "outputs": [
    {
     "name": "stdout",
     "output_type": "stream",
     "text": [
      "<body> <h1 id=\"title\">[1]크롤링이란?</h1> <p class=\"csssttle\">웹페이지에서 필요한 데이터를 추출하는 것</p> <p align=\"center\" id=\"body\">파이썬을 중심으로 다양한 웹크롤링 기술 발달</p> </body>\n",
      "None\n",
      " [1]크롤링이란? 웹페이지에서 필요한 데이터를 추출하는 것 파이썬을 중심으로 다양한 웹크롤링 기술 발달 \n"
     ]
    }
   ],
   "source": [
    "from bs4 import BeautifulSoup\n",
    "\n",
    "html = \"<html>\\\n",
    "            <body>\\\n",
    "                <h1 id='title'>[1]크롤링이란?</h1>\\\n",
    "                <p class='csssttle'>웹페이지에서 필요한 데이터를 추출하는 것</p>\\\n",
    "                <p id='body' align='center'>파이썬을 중심으로 다양한 웹크롤링 기술 발달</p>\\\n",
    "            </body>\\\n",
    "        </html>\"\n",
    "\n",
    "soup = BeautifulSoup(html, \"html.parser\")\n",
    "data = soup.find(\"body\")\n",
    "print(data)\n",
    "print(data.string)\n",
    "print(data.get_text())\n",
    "\n",
    "# => 텍스트 추출하기\n",
    "# body 테그의 직접적 언어 아님"
   ]
  },
  {
   "cell_type": "code",
   "execution_count": null,
   "id": "a673dc3c-e8ba-4be3-8500-668dec605da7",
   "metadata": {},
   "outputs": [],
   "source": [
    "from bs4 import BeautifulSoup\n",
    "\n",
    "html = \"<html>\\\n",
    "            <body>\\\n",
    "                <h1 id='title'>[1]크롤링이란?</h1>\\\n",
    "                <p class='csssttle'>웹페이지에서 필요한 데이터를 추출하는 것</p>\\\n",
    "                <p id='body' align='center'>파이썬을 중심으로 다양한 웹크롤링 기술 발달</p>\\\n",
    "            </body>\\\n",
    "        </html>\"\n",
    "\n",
    "soup = BeautifulSoup(html, \"html.parser\")\n",
    "data = soup.find(\"body\")\n",
    "print(data)\n",
    "print(data.string)\n",
    "print(data.get_text())\n",
    "\n",
    "# => 텍스트 추출하기\n",
    "# body 테그의 직접적 언어 아님\n",
    "# string -> 크롤링하고자 하는 대상의 직접적인 텍스트 문자열을 찾아와야 할 때\n",
    "# get_text() -> 자식요소의 텍스트 문자열까지 크롤링하고자 할 때"
   ]
  },
  {
   "cell_type": "code",
   "execution_count": 14,
   "id": "82fb586a-9cba-43c5-bd60-ad94ecbc1a3d",
   "metadata": {},
   "outputs": [
    {
     "name": "stdout",
     "output_type": "stream",
     "text": [
      "웹페이지에서 필요한 데이터를 추출하는 것\n"
     ]
    }
   ],
   "source": [
    "from bs4 import BeautifulSoup\n",
    "\n",
    "html = \"<html>\\\n",
    "            <body>\\\n",
    "                <h1 id='title'>[1]크롤링이란?</h1>\\\n",
    "                <p class='csssttle'>웹페이지에서 필요한 데이터를 추출하는 것</p>\\\n",
    "                <p id='body' align='center'>파이썬을 중심으로 다양한 웹크롤링 기술 발달</p>\\\n",
    "            </body>\\\n",
    "        </html>\"\n",
    "\n",
    "soup = BeautifulSoup(html, \"html.parser\")\n",
    "data = soup.find(\"p\")\n",
    "print(data.string)\n"
   ]
  },
  {
   "cell_type": "code",
   "execution_count": 21,
   "id": "f401f094-f333-4592-bdc6-0727debf4aa3",
   "metadata": {},
   "outputs": [
    {
     "name": "stdout",
     "output_type": "stream",
     "text": [
      "웹페이지에서 필요한 데이터를 추출하는 것\n",
      "파이썬을 중심으로 다양한 웹크롤링 기술 발달\n"
     ]
    }
   ],
   "source": [
    "from bs4 import BeautifulSoup\n",
    "\n",
    "html = \"<html>\\\n",
    "            <body>\\\n",
    "                <h1 id='title'>[1]크롤링이란?</h1>\\\n",
    "                <p class='csssttle'>웹페이지에서 필요한 데이터를 추출하는 것</p>\\\n",
    "                <p id='body' align='center'>파이썬을 중심으로 다양한 웹크롤링 기술 발달</p>\\\n",
    "            </body>\\\n",
    "        </html>\"\n",
    "\n",
    "soup = BeautifulSoup(html, \"html.parser\")\n",
    "data = soup.find_all(\"p\")\n",
    "\n",
    "for item in data :\n",
    "    print(item.string)\n",
    "\n",
    "#print(data.string)\n",
    "#복수의 값을 찾아오는 것, list 형식으로 가져오는 것"
   ]
  },
  {
   "cell_type": "code",
   "execution_count": 22,
   "id": "3d353359-4cf8-403c-bf79-28c9d23c4e91",
   "metadata": {},
   "outputs": [
    {
     "name": "stdout",
     "output_type": "stream",
     "text": [
      "파이썬을 중심으로 다양한 웹크롤링 기술 발달\n"
     ]
    }
   ],
   "source": [
    "from bs4 import BeautifulSoup\n",
    "\n",
    "html = \"<html>\\\n",
    "            <body>\\\n",
    "                <h1 id='title'>[1]크롤링이란?</h1>\\\n",
    "                <p class='csssttle'>웹페이지에서 필요한 데이터를 추출하는 것</p>\\\n",
    "                <p id='body' align='center'>파이썬을 중심으로 다양한 웹크롤링 기술 발달</p>\\\n",
    "            </body>\\\n",
    "        </html>\"\n",
    "\n",
    "soup = BeautifulSoup(html, \"html.parser\")\n",
    "data = soup.find_all(\"p\")\n",
    "\n",
    "for item in data[1] :\n",
    "    print(item.string)"
   ]
  },
  {
   "cell_type": "code",
   "execution_count": 28,
   "id": "ce36aae9-cedd-4c63-bb22-4da40a1ec4ae",
   "metadata": {},
   "outputs": [
    {
     "name": "stdout",
     "output_type": "stream",
     "text": [
      "파이썬을 중심으로 다양한 웹크롤링 기술 발달\n"
     ]
    }
   ],
   "source": [
    "from bs4 import BeautifulSoup\n",
    "\n",
    "html = \"<html>\\\n",
    "            <body>\\\n",
    "                <h1 id='title'>[1]크롤링이란?</h1>\\\n",
    "                <p class='csssttle'>웹페이지에서 필요한 데이터를 추출하는 것</p>\\\n",
    "                <p id='body' align='center'>파이썬을 중심으로 다양한 웹크롤링 기술 발달</p>\\\n",
    "            </body>\\\n",
    "        </html>\"\n",
    "\n",
    "soup = BeautifulSoup(html, \"html.parser\")\n",
    "# data = soup.find(\"p\", attrs={\"id\":\"body\"})\n",
    "data = soup.find(\"p\", attrs={\"align\":\"center\"})\n",
    "print(data.string)\n",
    "\n",
    "# 속성 : class > 객체(property)\n",
    "# html 문서상 속성 => attribute"
   ]
  },
  {
   "cell_type": "code",
   "execution_count": 31,
   "id": "145d0022-6eb4-4cd8-acce-7b00ea9677a8",
   "metadata": {},
   "outputs": [
    {
     "name": "stdout",
     "output_type": "stream",
     "text": [
      "파이썬을 중심으로 다양한 웹크롤링 기술 발달 - 2\n"
     ]
    }
   ],
   "source": [
    "from bs4 import BeautifulSoup\n",
    "\n",
    "html = \"<html>\\\n",
    "            <body>\\\n",
    "                <h1 id='title'>[1]크롤링이란?</h1>\\\n",
    "                <p class='csssttle'>웹페이지에서 필요한 데이터를 추출하는 것</p>\\\n",
    "                <p id='body01' align='center'>파이썬을 중심으로 다양한 웹크롤링 기술 발달 - 1</p>\\\n",
    "                <p id='body02' align='center'>파이썬을 중심으로 다양한 웹크롤링 기술 발달 - 2</p>\\\n",
    "            </body>\\\n",
    "        </html>\"\n",
    "\n",
    "soup = BeautifulSoup(html, \"html.parser\")\n",
    "data = soup.find(\"p\", attrs={\"id\":\"body02\", \"align\":\"center\"}) #attrs 조건값 연장 가능\n",
    "print(data.string)"
   ]
  },
  {
   "cell_type": "code",
   "execution_count": 35,
   "id": "e3bc5d3c-a20b-4dcd-bd24-d0d3d5ee3b36",
   "metadata": {},
   "outputs": [
    {
     "name": "stdout",
     "output_type": "stream",
     "text": [
      "웹페이지에서 필요한 데이터를 추출하는 것 - 2\n"
     ]
    }
   ],
   "source": [
    "from bs4 import BeautifulSoup\n",
    "\n",
    "html = \"<html>\\\n",
    "            <body>\\\n",
    "                <h1 id='title'>[1]크롤링이란?</h1>\\\n",
    "                <p class='cssstyle01'>웹페이지에서 필요한 데이터를 추출하는 것 - 1</p>\\\n",
    "                <p class='cssstyle02'>웹페이지에서 필요한 데이터를 추출하는 것 - 2</p>\\\n",
    "                <p id='body01' align='center'>파이썬을 중심으로 다양한 웹크롤링 기술 발달 - 1</p>\\\n",
    "                <p id='body02' align='center'>파이썬을 중심으로 다양한 웹크롤링 기술 발달 - 2</p>\\\n",
    "            </body>\\\n",
    "        </html>\"\n",
    "\n",
    "soup = BeautifulSoup(html, \"html.parser\")\n",
    "#data = soup.find(\"p\", attrs={\"id\":\"body02\", \"align\":\"center\"}) #attrs 조건값 연장 가능\n",
    "#data = soup.find(\"p\", attrs={\"cssstyle02\"})\n",
    "data = soup.find(\"p\", class_ = \"cssstyle02\")\n",
    "print(data.string)"
   ]
  },
  {
   "cell_type": "code",
   "execution_count": 36,
   "id": "14b616d1-a22f-4314-afdc-64f7eff332e3",
   "metadata": {},
   "outputs": [
    {
     "name": "stdout",
     "output_type": "stream",
     "text": [
      "웹페이지에서 필요한 데이터를 추출하는 것 - 2\n"
     ]
    }
   ],
   "source": [
    "from bs4 import BeautifulSoup\n",
    "\n",
    "html = \"<html>\\\n",
    "            <body>\\\n",
    "                <h1 id='title'>[1]크롤링이란?</h1>\\\n",
    "                <p class='cssstyle01'>웹페이지에서 필요한 데이터를 추출하는 것 - 1</p>\\\n",
    "                <p class='cssstyle02'>웹페이지에서 필요한 데이터를 추출하는 것 - 2</p>\\\n",
    "                <p id='body01' align='center'>파이썬을 중심으로 다양한 웹크롤링 기술 발달 - 1</p>\\\n",
    "                <p id='body02' align='center'>파이썬을 중심으로 다양한 웹크롤링 기술 발달 - 2</p>\\\n",
    "            </body>\\\n",
    "        </html>\"\n",
    "\n",
    "soup = BeautifulSoup(html, \"html.parser\")\n",
    "#data = soup.find(\"p\", attrs={\"id\":\"body02\", \"align\":\"center\"}) #attrs 조건값 연장 가능\n",
    "#data = soup.find(\"p\", attrs={\"cssstyle02\"})\n",
    "#data = soup.find(\"p\", class_ = \"cssstyle02\")\n",
    "data = soup.find(\"p\", \"cssstyle02\")\n",
    "print(data.string)"
   ]
  },
  {
   "cell_type": "code",
   "execution_count": 37,
   "id": "fc4413e2-9d75-4d85-8f9d-9e372a24335f",
   "metadata": {},
   "outputs": [
    {
     "name": "stdout",
     "output_type": "stream",
     "text": [
      "파이썬을 중심으로 다양한 웹크롤링 기술 발달 - 2\n"
     ]
    }
   ],
   "source": [
    "from bs4 import BeautifulSoup\n",
    "\n",
    "html = \"<html>\\\n",
    "            <body>\\\n",
    "                <h1 id='title'>[1]크롤링이란?</h1>\\\n",
    "                <p class='csssttle'>웹페이지에서 필요한 데이터를 추출하는 것</p>\\\n",
    "                <p id='body01' align='center'>파이썬을 중심으로 다양한 웹크롤링 기술 발달 - 1</p>\\\n",
    "                <p id='body02' align='center'>파이썬을 중심으로 다양한 웹크롤링 기술 발달 - 2</p>\\\n",
    "            </body>\\\n",
    "        </html>\"\n",
    "\n",
    "soup = BeautifulSoup(html, \"html.parser\")\n",
    "# data = soup.find(\"p\", attrs={\"id\":\"body02\", \"align\":\"center\"}) #attrs 조건값 연장 가능\n",
    "data = soup.find(\"p\", id = \"body02\") #attrs 조건값 연장 가능\n",
    "print(data.string)"
   ]
  }
 ],
 "metadata": {
  "kernelspec": {
   "display_name": "Python [conda env:base] *",
   "language": "python",
   "name": "conda-base-py"
  },
  "language_info": {
   "codemirror_mode": {
    "name": "ipython",
    "version": 3
   },
   "file_extension": ".py",
   "mimetype": "text/x-python",
   "name": "python",
   "nbconvert_exporter": "python",
   "pygments_lexer": "ipython3",
   "version": "3.13.5"
  }
 },
 "nbformat": 4,
 "nbformat_minor": 5
}
